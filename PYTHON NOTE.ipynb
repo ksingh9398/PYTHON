{
 "cells": [
  {
   "cell_type": "markdown",
   "id": "38ae1ad9",
   "metadata": {},
   "source": [
    "# WELCOME TO THE WORLD OF PYTHON Mr. NAVIN SINGH"
   ]
  },
  {
   "cell_type": "markdown",
   "id": "625b2a8c",
   "metadata": {},
   "source": [
    "# #Enjoying The Basics Python# "
   ]
  },
  {
   "cell_type": "markdown",
   "id": "c7d4e878",
   "metadata": {},
   "source": [
    "The Basics Calculation (+,-,*,/,//,%)"
   ]
  },
  {
   "cell_type": "code",
   "execution_count": 23,
   "id": "c7c9d3f6",
   "metadata": {},
   "outputs": [
    {
     "data": {
      "text/plain": [
       "4"
      ]
     },
     "execution_count": 23,
     "metadata": {},
     "output_type": "execute_result"
    }
   ],
   "source": [
    "# addition \n",
    "2+2"
   ]
  },
  {
   "cell_type": "code",
   "execution_count": 29,
   "id": "fb840163",
   "metadata": {},
   "outputs": [
    {
     "data": {
      "text/plain": [
       "8"
      ]
     },
     "execution_count": 29,
     "metadata": {},
     "output_type": "execute_result"
    }
   ],
   "source": [
    "# multiplication \n",
    "2*4"
   ]
  },
  {
   "cell_type": "code",
   "execution_count": 30,
   "id": "01370028",
   "metadata": {},
   "outputs": [
    {
     "data": {
      "text/plain": [
       "2"
      ]
     },
     "execution_count": 30,
     "metadata": {},
     "output_type": "execute_result"
    }
   ],
   "source": [
    "# substration \n",
    "4-2"
   ]
  },
  {
   "cell_type": "markdown",
   "id": "719735b5",
   "metadata": {},
   "source": [
    "DEVISION (quoitent is the answer)"
   ]
  },
  {
   "cell_type": "code",
   "execution_count": 12,
   "id": "e9ef5765",
   "metadata": {},
   "outputs": [
    {
     "data": {
      "text/plain": [
       "2.0"
      ]
     },
     "execution_count": 12,
     "metadata": {},
     "output_type": "execute_result"
    }
   ],
   "source": [
    "10/5"
   ]
  },
  {
   "cell_type": "code",
   "execution_count": 19,
   "id": "c07f3e38",
   "metadata": {},
   "outputs": [
    {
     "data": {
      "text/plain": [
       "16.666666666666668"
      ]
     },
     "execution_count": 19,
     "metadata": {},
     "output_type": "execute_result"
    }
   ],
   "source": [
    "50/3"
   ]
  },
  {
   "cell_type": "markdown",
   "id": "dfbde476",
   "metadata": {},
   "source": [
    "if i want to remove the decimal point "
   ]
  },
  {
   "cell_type": "markdown",
   "id": "fef44107",
   "metadata": {},
   "source": [
    "FLOOR DIVISION"
   ]
  },
  {
   "cell_type": "code",
   "execution_count": 20,
   "id": "721a3e93",
   "metadata": {},
   "outputs": [
    {
     "data": {
      "text/plain": [
       "2"
      ]
     },
     "execution_count": 20,
     "metadata": {},
     "output_type": "execute_result"
    }
   ],
   "source": [
    "10//5"
   ]
  },
  {
   "cell_type": "code",
   "execution_count": 22,
   "id": "497cf2e8",
   "metadata": {},
   "outputs": [
    {
     "data": {
      "text/plain": [
       "16"
      ]
     },
     "execution_count": 22,
     "metadata": {},
     "output_type": "execute_result"
    }
   ],
   "source": [
    "50//3"
   ]
  },
  {
   "cell_type": "code",
   "execution_count": 33,
   "id": "5e704a52",
   "metadata": {},
   "outputs": [
    {
     "data": {
      "text/plain": [
       "(2.2, 2)"
      ]
     },
     "execution_count": 33,
     "metadata": {},
     "output_type": "execute_result"
    }
   ],
   "source": [
    "11/5, 11//5"
   ]
  },
  {
   "cell_type": "markdown",
   "id": "5e8f9db5",
   "metadata": {},
   "source": [
    "MOUDULO (Reminder is the answewr)"
   ]
  },
  {
   "cell_type": "code",
   "execution_count": 27,
   "id": "28d854e8",
   "metadata": {},
   "outputs": [
    {
     "data": {
      "text/plain": [
       "0"
      ]
     },
     "execution_count": 27,
     "metadata": {},
     "output_type": "execute_result"
    }
   ],
   "source": [
    "10%5"
   ]
  },
  {
   "cell_type": "code",
   "execution_count": 28,
   "id": "6a02d043",
   "metadata": {},
   "outputs": [
    {
     "data": {
      "text/plain": [
       "1"
      ]
     },
     "execution_count": 28,
     "metadata": {},
     "output_type": "execute_result"
    }
   ],
   "source": [
    "11%5"
   ]
  },
  {
   "cell_type": "code",
   "execution_count": 54,
   "id": "b2802921",
   "metadata": {},
   "outputs": [
    {
     "data": {
      "text/plain": [
       "2"
      ]
     },
     "execution_count": 54,
     "metadata": {},
     "output_type": "execute_result"
    }
   ],
   "source": [
    "50%4"
   ]
  },
  {
   "cell_type": "markdown",
   "id": "95f61874",
   "metadata": {},
   "source": [
    "POWERE "
   ]
  },
  {
   "cell_type": "code",
   "execution_count": 35,
   "id": "4e2db6ef",
   "metadata": {},
   "outputs": [
    {
     "data": {
      "text/plain": [
       "100"
      ]
     },
     "execution_count": 35,
     "metadata": {},
     "output_type": "execute_result"
    }
   ],
   "source": [
    "10**2"
   ]
  },
  {
   "cell_type": "code",
   "execution_count": 36,
   "id": "8da2df52",
   "metadata": {},
   "outputs": [
    {
     "data": {
      "text/plain": [
       "16"
      ]
     },
     "execution_count": 36,
     "metadata": {},
     "output_type": "execute_result"
    }
   ],
   "source": [
    " 4**2"
   ]
  },
  {
   "cell_type": "code",
   "execution_count": 37,
   "id": "01bda469",
   "metadata": {},
   "outputs": [
    {
     "data": {
      "text/plain": [
       "8000"
      ]
     },
     "execution_count": 37,
     "metadata": {},
     "output_type": "execute_result"
    }
   ],
   "source": [
    "20**3"
   ]
  },
  {
   "cell_type": "code",
   "execution_count": 38,
   "id": "5a0a9a9f",
   "metadata": {},
   "outputs": [
    {
     "data": {
      "text/plain": [
       "759375"
      ]
     },
     "execution_count": 38,
     "metadata": {},
     "output_type": "execute_result"
    }
   ],
   "source": [
    "15**5"
   ]
  },
  {
   "cell_type": "markdown",
   "id": "7b972c1e",
   "metadata": {},
   "source": [
    "VARIABLE"
   ]
  },
  {
   "cell_type": "code",
   "execution_count": 39,
   "id": "ce83e9e7",
   "metadata": {},
   "outputs": [],
   "source": [
    "a=4"
   ]
  },
  {
   "cell_type": "code",
   "execution_count": 40,
   "id": "3f1f543f",
   "metadata": {},
   "outputs": [
    {
     "data": {
      "text/plain": [
       "4"
      ]
     },
     "execution_count": 40,
     "metadata": {},
     "output_type": "execute_result"
    }
   ],
   "source": [
    "a"
   ]
  },
  {
   "cell_type": "code",
   "execution_count": 41,
   "id": "d2478196",
   "metadata": {},
   "outputs": [],
   "source": [
    "b=10"
   ]
  },
  {
   "cell_type": "code",
   "execution_count": 42,
   "id": "53743bbe",
   "metadata": {},
   "outputs": [
    {
     "data": {
      "text/plain": [
       "10"
      ]
     },
     "execution_count": 42,
     "metadata": {},
     "output_type": "execute_result"
    }
   ],
   "source": [
    "b"
   ]
  },
  {
   "cell_type": "code",
   "execution_count": 44,
   "id": "6217d91b",
   "metadata": {},
   "outputs": [],
   "source": [
    "c=a+b"
   ]
  },
  {
   "cell_type": "code",
   "execution_count": 45,
   "id": "1190d9d3",
   "metadata": {},
   "outputs": [
    {
     "data": {
      "text/plain": [
       "14"
      ]
     },
     "execution_count": 45,
     "metadata": {},
     "output_type": "execute_result"
    }
   ],
   "source": [
    "c"
   ]
  },
  {
   "cell_type": "code",
   "execution_count": 46,
   "id": "62e9308c",
   "metadata": {},
   "outputs": [],
   "source": [
    "d=a*b"
   ]
  },
  {
   "cell_type": "code",
   "execution_count": 47,
   "id": "dd363384",
   "metadata": {},
   "outputs": [
    {
     "data": {
      "text/plain": [
       "40"
      ]
     },
     "execution_count": 47,
     "metadata": {},
     "output_type": "execute_result"
    }
   ],
   "source": [
    "d"
   ]
  },
  {
   "cell_type": "code",
   "execution_count": 48,
   "id": "43e5839c",
   "metadata": {},
   "outputs": [],
   "source": [
    "k=b/a"
   ]
  },
  {
   "cell_type": "code",
   "execution_count": 49,
   "id": "7ff7172f",
   "metadata": {},
   "outputs": [
    {
     "data": {
      "text/plain": [
       "2.5"
      ]
     },
     "execution_count": 49,
     "metadata": {},
     "output_type": "execute_result"
    }
   ],
   "source": [
    "k"
   ]
  },
  {
   "cell_type": "code",
   "execution_count": 50,
   "id": "31c16b20",
   "metadata": {},
   "outputs": [],
   "source": [
    "p=b//a"
   ]
  },
  {
   "cell_type": "code",
   "execution_count": 51,
   "id": "4e056b38",
   "metadata": {},
   "outputs": [
    {
     "data": {
      "text/plain": [
       "2"
      ]
     },
     "execution_count": 51,
     "metadata": {},
     "output_type": "execute_result"
    }
   ],
   "source": [
    "p"
   ]
  },
  {
   "cell_type": "code",
   "execution_count": 52,
   "id": "aa7035c2",
   "metadata": {},
   "outputs": [],
   "source": [
    "x=b%a"
   ]
  },
  {
   "cell_type": "code",
   "execution_count": 53,
   "id": "55259d21",
   "metadata": {},
   "outputs": [
    {
     "data": {
      "text/plain": [
       "2"
      ]
     },
     "execution_count": 53,
     "metadata": {},
     "output_type": "execute_result"
    }
   ],
   "source": [
    "x"
   ]
  },
  {
   "cell_type": "markdown",
   "id": "fc1e47cb",
   "metadata": {},
   "source": [
    "AREA OF RECTENGLE"
   ]
  },
  {
   "cell_type": "code",
   "execution_count": 55,
   "id": "0bbaa8a0",
   "metadata": {},
   "outputs": [
    {
     "data": {
      "text/plain": [
       "224"
      ]
     },
     "execution_count": 55,
     "metadata": {},
     "output_type": "execute_result"
    }
   ],
   "source": [
    "length= 56\n",
    "breath= 4\n",
    "area=length*breath\n",
    "area"
   ]
  },
  {
   "cell_type": "code",
   "execution_count": 69,
   "id": "89958450",
   "metadata": {},
   "outputs": [
    {
     "name": "stdout",
     "output_type": "stream",
     "text": [
      "Area=  224\n"
     ]
    }
   ],
   "source": []
  },
  {
   "cell_type": "markdown",
   "id": "8c7a2f48",
   "metadata": {},
   "source": [
    "PRINT COMMAND"
   ]
  },
  {
   "cell_type": "code",
   "execution_count": 56,
   "id": "f5f9bd2e",
   "metadata": {},
   "outputs": [],
   "source": [
    "a=51"
   ]
  },
  {
   "cell_type": "code",
   "execution_count": 57,
   "id": "286d2043",
   "metadata": {},
   "outputs": [
    {
     "data": {
      "text/plain": [
       "51"
      ]
     },
     "execution_count": 57,
     "metadata": {},
     "output_type": "execute_result"
    }
   ],
   "source": [
    "a"
   ]
  },
  {
   "cell_type": "code",
   "execution_count": 58,
   "id": "a1021fad",
   "metadata": {},
   "outputs": [
    {
     "name": "stdout",
     "output_type": "stream",
     "text": [
      "51\n"
     ]
    }
   ],
   "source": [
    "print(a)"
   ]
  },
  {
   "cell_type": "code",
   "execution_count": 61,
   "id": "bb313249",
   "metadata": {},
   "outputs": [
    {
     "name": "stdout",
     "output_type": "stream",
     "text": [
      "a\n",
      "a\n"
     ]
    }
   ],
   "source": [
    "# if you write \n",
    "print(\"a\")\n",
    "# then\n",
    "# and also\n",
    "print('a')"
   ]
  },
  {
   "cell_type": "code",
   "execution_count": 62,
   "id": "357330f4",
   "metadata": {},
   "outputs": [],
   "source": [
    "a=10\n",
    "b=15\n",
    "c=a+b"
   ]
  },
  {
   "cell_type": "code",
   "execution_count": 64,
   "id": "d79a5408",
   "metadata": {},
   "outputs": [
    {
     "name": "stdout",
     "output_type": "stream",
     "text": [
      "25\n",
      "c\n"
     ]
    }
   ],
   "source": [
    "print(c)\n",
    "\n",
    "# if you write \n",
    "print(\"c\")"
   ]
  },
  {
   "cell_type": "code",
   "execution_count": 65,
   "id": "c62ce426",
   "metadata": {},
   "outputs": [
    {
     "name": "stdout",
     "output_type": "stream",
     "text": [
      "c= 25\n"
     ]
    }
   ],
   "source": [
    "print(\"c=\",c)"
   ]
  },
  {
   "cell_type": "code",
   "execution_count": 66,
   "id": "c00e3ebd",
   "metadata": {},
   "outputs": [
    {
     "name": "stdout",
     "output_type": "stream",
     "text": [
      "navin= 25\n"
     ]
    }
   ],
   "source": [
    "print(\"navin=\",c)"
   ]
  },
  {
   "cell_type": "code",
   "execution_count": 67,
   "id": "58cde9e0",
   "metadata": {},
   "outputs": [
    {
     "name": "stdout",
     "output_type": "stream",
     "text": [
      "sum= 25\n"
     ]
    }
   ],
   "source": [
    "print(\"sum=\",c)"
   ]
  },
  {
   "cell_type": "code",
   "execution_count": 68,
   "id": "3bcd90a1",
   "metadata": {},
   "outputs": [
    {
     "name": "stdout",
     "output_type": "stream",
     "text": [
      "c= 25\n"
     ]
    }
   ],
   "source": [
    "print(\"c=\",a+b)"
   ]
  },
  {
   "cell_type": "markdown",
   "id": "dc515e50",
   "metadata": {},
   "source": [
    "AREA OF CIRCLE"
   ]
  },
  {
   "cell_type": "code",
   "execution_count": 70,
   "id": "e55bae1f",
   "metadata": {},
   "outputs": [
    {
     "name": "stdout",
     "output_type": "stream",
     "text": [
      "615.44\n"
     ]
    }
   ],
   "source": [
    "pi= 3.14\n",
    "radius= 14\n",
    "areaofcircle=pi*(radius**2)\n",
    "print(areaofcircle)"
   ]
  },
  {
   "cell_type": "code",
   "execution_count": 71,
   "id": "8590024e",
   "metadata": {},
   "outputs": [
    {
     "name": "stdout",
     "output_type": "stream",
     "text": [
      "200.96\n"
     ]
    }
   ],
   "source": [
    "pi= 3.14\n",
    "radius= 8\n",
    "areaofcircle=pi*(radius**2)\n",
    "print(areaofcircle)"
   ]
  },
  {
   "cell_type": "code",
   "execution_count": 72,
   "id": "eb963a57",
   "metadata": {},
   "outputs": [
    {
     "data": {
      "text/plain": [
       "196"
      ]
     },
     "execution_count": 72,
     "metadata": {},
     "output_type": "execute_result"
    }
   ],
   "source": [
    "14**2"
   ]
  },
  {
   "cell_type": "code",
   "execution_count": 73,
   "id": "7782ffa4",
   "metadata": {},
   "outputs": [
    {
     "data": {
      "text/plain": [
       "615.44"
      ]
     },
     "execution_count": 73,
     "metadata": {},
     "output_type": "execute_result"
    }
   ],
   "source": [
    "3.14*14**2"
   ]
  },
  {
   "cell_type": "code",
   "execution_count": 74,
   "id": "43b97ecc",
   "metadata": {},
   "outputs": [
    {
     "name": "stdout",
     "output_type": "stream",
     "text": [
      "AREA OF CIRCLE= 615.44\n"
     ]
    }
   ],
   "source": [
    "pi= 3.14\n",
    "radius= 14\n",
    "areaofcircle=pi*(radius**2)\n",
    "print(\"AREA OF CIRCLE=\",areaofcircle)"
   ]
  },
  {
   "cell_type": "markdown",
   "id": "9dad4d77",
   "metadata": {},
   "source": [
    "FIND THE DATA TYPE"
   ]
  },
  {
   "cell_type": "code",
   "execution_count": 75,
   "id": "43e847a2",
   "metadata": {},
   "outputs": [],
   "source": [
    "P=15"
   ]
  },
  {
   "cell_type": "code",
   "execution_count": 76,
   "id": "cab1a0a4",
   "metadata": {},
   "outputs": [
    {
     "data": {
      "text/plain": [
       "15"
      ]
     },
     "execution_count": 76,
     "metadata": {},
     "output_type": "execute_result"
    }
   ],
   "source": [
    "P"
   ]
  },
  {
   "cell_type": "code",
   "execution_count": 77,
   "id": "aff121f6",
   "metadata": {},
   "outputs": [
    {
     "data": {
      "text/plain": [
       "int"
      ]
     },
     "execution_count": 77,
     "metadata": {},
     "output_type": "execute_result"
    }
   ],
   "source": [
    "type(p)"
   ]
  },
  {
   "cell_type": "code",
   "execution_count": 78,
   "id": "7072d9a4",
   "metadata": {},
   "outputs": [],
   "source": [
    "n=11.5"
   ]
  },
  {
   "cell_type": "code",
   "execution_count": 79,
   "id": "811b4e7f",
   "metadata": {},
   "outputs": [
    {
     "data": {
      "text/plain": [
       "11.5"
      ]
     },
     "execution_count": 79,
     "metadata": {},
     "output_type": "execute_result"
    }
   ],
   "source": [
    "n"
   ]
  },
  {
   "cell_type": "code",
   "execution_count": 80,
   "id": "349fa854",
   "metadata": {},
   "outputs": [
    {
     "data": {
      "text/plain": [
       "float"
      ]
     },
     "execution_count": 80,
     "metadata": {},
     "output_type": "execute_result"
    }
   ],
   "source": [
    "type(n)"
   ]
  },
  {
   "cell_type": "code",
   "execution_count": 81,
   "id": "bf1d869b",
   "metadata": {},
   "outputs": [],
   "source": [
    "country='india'"
   ]
  },
  {
   "cell_type": "code",
   "execution_count": 82,
   "id": "d2be5f46",
   "metadata": {},
   "outputs": [
    {
     "data": {
      "text/plain": [
       "'india'"
      ]
     },
     "execution_count": 82,
     "metadata": {},
     "output_type": "execute_result"
    }
   ],
   "source": [
    "country"
   ]
  },
  {
   "cell_type": "code",
   "execution_count": 83,
   "id": "938c31fb",
   "metadata": {},
   "outputs": [
    {
     "data": {
      "text/plain": [
       "str"
      ]
     },
     "execution_count": 83,
     "metadata": {},
     "output_type": "execute_result"
    }
   ],
   "source": [
    "type(country)"
   ]
  },
  {
   "cell_type": "code",
   "execution_count": 84,
   "id": "b4da2b83",
   "metadata": {},
   "outputs": [],
   "source": [
    "country=\"india\""
   ]
  },
  {
   "cell_type": "code",
   "execution_count": 85,
   "id": "7897a4a8",
   "metadata": {},
   "outputs": [
    {
     "data": {
      "text/plain": [
       "'india'"
      ]
     },
     "execution_count": 85,
     "metadata": {},
     "output_type": "execute_result"
    }
   ],
   "source": [
    "country"
   ]
  },
  {
   "cell_type": "code",
   "execution_count": 86,
   "id": "3a637aa2",
   "metadata": {},
   "outputs": [
    {
     "data": {
      "text/plain": [
       "str"
      ]
     },
     "execution_count": 86,
     "metadata": {},
     "output_type": "execute_result"
    }
   ],
   "source": [
    "type(country)"
   ]
  },
  {
   "cell_type": "code",
   "execution_count": 88,
   "id": "d2afe3aa",
   "metadata": {},
   "outputs": [
    {
     "data": {
      "text/plain": [
       "float"
      ]
     },
     "execution_count": 88,
     "metadata": {},
     "output_type": "execute_result"
    }
   ],
   "source": [
    "type(n)"
   ]
  },
  {
   "cell_type": "markdown",
   "id": "8cd5f96e",
   "metadata": {},
   "source": [
    "COMPRISION OPERATOR"
   ]
  },
  {
   "cell_type": "code",
   "execution_count": 89,
   "id": "88888e6c",
   "metadata": {},
   "outputs": [
    {
     "data": {
      "text/plain": [
       "True"
      ]
     },
     "execution_count": 89,
     "metadata": {},
     "output_type": "execute_result"
    }
   ],
   "source": [
    "100==100"
   ]
  },
  {
   "cell_type": "code",
   "execution_count": 93,
   "id": "feaed9fc",
   "metadata": {},
   "outputs": [
    {
     "data": {
      "text/plain": [
       "True"
      ]
     },
     "execution_count": 93,
     "metadata": {},
     "output_type": "execute_result"
    }
   ],
   "source": [
    "10 > 5"
   ]
  },
  {
   "cell_type": "code",
   "execution_count": 94,
   "id": "52d3334a",
   "metadata": {},
   "outputs": [
    {
     "data": {
      "text/plain": [
       "False"
      ]
     },
     "execution_count": 94,
     "metadata": {},
     "output_type": "execute_result"
    }
   ],
   "source": [
    "500 > 600"
   ]
  },
  {
   "cell_type": "code",
   "execution_count": 96,
   "id": "c44d5ffe",
   "metadata": {},
   "outputs": [
    {
     "data": {
      "text/plain": [
       "False"
      ]
     },
     "execution_count": 96,
     "metadata": {},
     "output_type": "execute_result"
    }
   ],
   "source": [
    "400 < 40"
   ]
  },
  {
   "cell_type": "code",
   "execution_count": 97,
   "id": "103cb278",
   "metadata": {},
   "outputs": [
    {
     "data": {
      "text/plain": [
       "True"
      ]
     },
     "execution_count": 97,
     "metadata": {},
     "output_type": "execute_result"
    }
   ],
   "source": [
    "10 < 40"
   ]
  },
  {
   "cell_type": "code",
   "execution_count": 98,
   "id": "0ebebd4a",
   "metadata": {},
   "outputs": [
    {
     "data": {
      "text/plain": [
       "False"
      ]
     },
     "execution_count": 98,
     "metadata": {},
     "output_type": "execute_result"
    }
   ],
   "source": [
    "15 != 15"
   ]
  },
  {
   "cell_type": "code",
   "execution_count": 99,
   "id": "4e9c7afe",
   "metadata": {},
   "outputs": [
    {
     "data": {
      "text/plain": [
       "True"
      ]
     },
     "execution_count": 99,
     "metadata": {},
     "output_type": "execute_result"
    }
   ],
   "source": [
    "50 != 45 "
   ]
  },
  {
   "cell_type": "code",
   "execution_count": 100,
   "id": "ac6fa259",
   "metadata": {},
   "outputs": [
    {
     "data": {
      "text/plain": [
       "True"
      ]
     },
     "execution_count": 100,
     "metadata": {},
     "output_type": "execute_result"
    }
   ],
   "source": [
    "15>=10"
   ]
  },
  {
   "cell_type": "code",
   "execution_count": 101,
   "id": "0b42adff",
   "metadata": {},
   "outputs": [
    {
     "data": {
      "text/plain": [
       "False"
      ]
     },
     "execution_count": 101,
     "metadata": {},
     "output_type": "execute_result"
    }
   ],
   "source": [
    "15>=16"
   ]
  },
  {
   "cell_type": "code",
   "execution_count": 102,
   "id": "04a3d986",
   "metadata": {},
   "outputs": [
    {
     "data": {
      "text/plain": [
       "True"
      ]
     },
     "execution_count": 102,
     "metadata": {},
     "output_type": "execute_result"
    }
   ],
   "source": [
    "15>=15"
   ]
  },
  {
   "cell_type": "markdown",
   "id": "0338ff18",
   "metadata": {},
   "source": [
    "        ---------ENTER A VALUE---------"
   ]
  },
  {
   "cell_type": "code",
   "execution_count": 105,
   "id": "e2920ae4",
   "metadata": {},
   "outputs": [
    {
     "name": "stdout",
     "output_type": "stream",
     "text": [
      "enger any country name  INDIA\n"
     ]
    }
   ],
   "source": [
    "country= input(\"enger any country name\")\n",
    "# then you will get a dilogbox to fill the value of country"
   ]
  },
  {
   "cell_type": "code",
   "execution_count": 106,
   "id": "d81e8b6a",
   "metadata": {
    "scrolled": true
   },
   "outputs": [
    {
     "name": "stdout",
     "output_type": "stream",
     "text": [
      "enter a number 26\n"
     ]
    }
   ],
   "source": [
    "age= input(\"enter a number\")"
   ]
  },
  {
   "cell_type": "code",
   "execution_count": 1,
   "id": "2184ba34",
   "metadata": {},
   "outputs": [
    {
     "name": "stdout",
     "output_type": "stream",
     "text": [
      "enter any name  INDIA\n"
     ]
    }
   ],
   "source": [
    "country=input(\"enter any name\")"
   ]
  },
  {
   "cell_type": "code",
   "execution_count": null,
   "id": "9a7f9869",
   "metadata": {},
   "outputs": [],
   "source": [
    "marks= input(\"name of the subject & marks\")"
   ]
  },
  {
   "cell_type": "code",
   "execution_count": null,
   "id": "b4eda26c",
   "metadata": {},
   "outputs": [],
   "source": [
    "country=input(\"enter any country\")"
   ]
  },
  {
   "cell_type": "code",
   "execution_count": null,
   "id": "9f872e23",
   "metadata": {},
   "outputs": [],
   "source": [
    "a=5ii"
   ]
  },
  {
   "cell_type": "code",
   "execution_count": null,
   "id": "ee7f0623",
   "metadata": {},
   "outputs": [],
   "source": [
    "a"
   ]
  },
  {
   "cell_type": "code",
   "execution_count": null,
   "id": "80640e4a",
   "metadata": {},
   "outputs": [],
   "source": [
    "a"
   ]
  },
  {
   "cell_type": "code",
   "execution_count": null,
   "id": "d8346218",
   "metadata": {},
   "outputs": [],
   "source": [
    "5+10"
   ]
  },
  {
   "cell_type": "code",
   "execution_count": 1,
   "id": "a6803aa1",
   "metadata": {},
   "outputs": [
    {
     "name": "stdout",
     "output_type": "stream",
     "text": [
      "enter a value of x 80\n"
     ]
    },
    {
     "data": {
      "text/plain": [
       "' 80'"
      ]
     },
     "execution_count": 1,
     "metadata": {},
     "output_type": "execute_result"
    }
   ],
   "source": [
    "x=input(\"enter a value of x\")\n",
    "\n",
    "x"
   ]
  },
  {
   "cell_type": "code",
   "execution_count": 4,
   "id": "f0e905d3",
   "metadata": {},
   "outputs": [
    {
     "name": "stdout",
     "output_type": "stream",
     "text": [
      "enter a value of y30\n"
     ]
    },
    {
     "data": {
      "text/plain": [
       "'30'"
      ]
     },
     "execution_count": 4,
     "metadata": {},
     "output_type": "execute_result"
    }
   ],
   "source": [
    "y=input(\"enter a value of y\")\n",
    "\n",
    "y"
   ]
  },
  {
   "cell_type": "code",
   "execution_count": 5,
   "id": "2a05f46e",
   "metadata": {},
   "outputs": [
    {
     "data": {
      "text/plain": [
       "' 8030'"
      ]
     },
     "execution_count": 5,
     "metadata": {},
     "output_type": "execute_result"
    }
   ],
   "source": [
    "x+y"
   ]
  },
  {
   "cell_type": "markdown",
   "id": "ceb5111a",
   "metadata": {},
   "source": [
    "DEFINE THE DATATYPE"
   ]
  },
  {
   "cell_type": "code",
   "execution_count": 45,
   "id": "c1474645",
   "metadata": {},
   "outputs": [
    {
     "name": "stdout",
     "output_type": "stream",
     "text": [
      "enter any number  80\n"
     ]
    }
   ],
   "source": [
    "x=int(input(\"enter any number\"))"
   ]
  },
  {
   "cell_type": "code",
   "execution_count": 46,
   "id": "de240ec8",
   "metadata": {},
   "outputs": [
    {
     "name": "stdout",
     "output_type": "stream",
     "text": [
      "enter a number 30 \n"
     ]
    }
   ],
   "source": [
    "y= int(input(\"enter a number\"))"
   ]
  },
  {
   "cell_type": "code",
   "execution_count": 47,
   "id": "6329258f",
   "metadata": {},
   "outputs": [
    {
     "data": {
      "text/plain": [
       "110"
      ]
     },
     "execution_count": 47,
     "metadata": {},
     "output_type": "execute_result"
    }
   ],
   "source": [
    "x+y "
   ]
  },
  {
   "cell_type": "code",
   "execution_count": 48,
   "id": "64525155",
   "metadata": {},
   "outputs": [],
   "source": [
    "# x+y = 110 , because the datatype of x and y is int, then the result is showing 110.\n",
    "# if it's a string value then its show '8030'."
   ]
  },
  {
   "cell_type": "markdown",
   "id": "be2bb32e",
   "metadata": {},
   "source": [
    "STRING CONCATENATION "
   ]
  },
  {
   "cell_type": "code",
   "execution_count": 8,
   "id": "27427e5b",
   "metadata": {},
   "outputs": [
    {
     "data": {
      "text/plain": [
       "'hello world'"
      ]
     },
     "execution_count": 8,
     "metadata": {},
     "output_type": "execute_result"
    }
   ],
   "source": [
    "\"hello\"+ \" world\""
   ]
  },
  {
   "cell_type": "code",
   "execution_count": 9,
   "id": "3d14ab0f",
   "metadata": {},
   "outputs": [
    {
     "data": {
      "text/plain": [
       "'happy Birthday'"
      ]
     },
     "execution_count": 9,
     "metadata": {},
     "output_type": "execute_result"
    }
   ],
   "source": [
    "\"happy\"+\" Birthday\""
   ]
  },
  {
   "cell_type": "code",
   "execution_count": 10,
   "id": "981a2d9d",
   "metadata": {},
   "outputs": [
    {
     "data": {
      "text/plain": [
       "'NAVIN KUMAR SINGH'"
      ]
     },
     "execution_count": 10,
     "metadata": {},
     "output_type": "execute_result"
    }
   ],
   "source": [
    "\"NAVIN\" + \" KUMAR\" + \" SINGH\""
   ]
  },
  {
   "cell_type": "code",
   "execution_count": 12,
   "id": "8afdc1df",
   "metadata": {},
   "outputs": [
    {
     "data": {
      "text/plain": [
       "'NAVIN SINGH'"
      ]
     },
     "execution_count": 12,
     "metadata": {},
     "output_type": "execute_result"
    }
   ],
   "source": [
    "\"NAVIN\" + \" SINGH\""
   ]
  },
  {
   "cell_type": "code",
   "execution_count": 13,
   "id": "cb7c93e9",
   "metadata": {},
   "outputs": [
    {
     "data": {
      "text/plain": [
       "'LOVE YOU MAA'"
      ]
     },
     "execution_count": 13,
     "metadata": {},
     "output_type": "execute_result"
    }
   ],
   "source": [
    "'LOVE' + ' YOU' + ' MAA'"
   ]
  },
  {
   "cell_type": "code",
   "execution_count": 15,
   "id": "cc12c89d",
   "metadata": {},
   "outputs": [
    {
     "data": {
      "text/plain": [
       "'HAPPY JOURNY'"
      ]
     },
     "execution_count": 15,
     "metadata": {},
     "output_type": "execute_result"
    }
   ],
   "source": [
    "'HAPPY'  + \" JOURNY\""
   ]
  },
  {
   "cell_type": "code",
   "execution_count": 16,
   "id": "82d2534a",
   "metadata": {},
   "outputs": [
    {
     "data": {
      "text/plain": [
       "'800 LOVE'"
      ]
     },
     "execution_count": 16,
     "metadata": {},
     "output_type": "execute_result"
    }
   ],
   "source": [
    "'800' + ' LOVE'"
   ]
  },
  {
   "cell_type": "code",
   "execution_count": 18,
   "id": "1193e96c",
   "metadata": {},
   "outputs": [
    {
     "data": {
      "text/plain": [
       "'VILL- MOHANPUR DOGHRA'"
      ]
     },
     "execution_count": 18,
     "metadata": {},
     "output_type": "execute_result"
    }
   ],
   "source": [
    "\"VILL-\" + \" MOHANPUR DOGHRA\""
   ]
  },
  {
   "cell_type": "code",
   "execution_count": 20,
   "id": "9e36736c",
   "metadata": {},
   "outputs": [
    {
     "data": {
      "text/plain": [
       "'8.25 true manipur @ gmail.com'"
      ]
     },
     "execution_count": 20,
     "metadata": {},
     "output_type": "execute_result"
    }
   ],
   "source": [
    "'8.25' + ' true' + ' manipur' + \" @ gmail.com\""
   ]
  },
  {
   "cell_type": "code",
   "execution_count": 21,
   "id": "bec96d10",
   "metadata": {},
   "outputs": [],
   "source": [
    "a=10"
   ]
  },
  {
   "cell_type": "code",
   "execution_count": 22,
   "id": "15a78988",
   "metadata": {},
   "outputs": [
    {
     "data": {
      "text/plain": [
       "10"
      ]
     },
     "execution_count": 22,
     "metadata": {},
     "output_type": "execute_result"
    }
   ],
   "source": [
    "a"
   ]
  },
  {
   "cell_type": "code",
   "execution_count": 23,
   "id": "3bf14d7a",
   "metadata": {},
   "outputs": [
    {
     "data": {
      "text/plain": [
       "int"
      ]
     },
     "execution_count": 23,
     "metadata": {},
     "output_type": "execute_result"
    }
   ],
   "source": [
    "type(a)"
   ]
  },
  {
   "cell_type": "code",
   "execution_count": 24,
   "id": "239eabbb",
   "metadata": {},
   "outputs": [
    {
     "data": {
      "text/plain": [
       "10.0"
      ]
     },
     "execution_count": 24,
     "metadata": {},
     "output_type": "execute_result"
    }
   ],
   "source": [
    "float(a)"
   ]
  },
  {
   "cell_type": "code",
   "execution_count": 25,
   "id": "1c181354",
   "metadata": {},
   "outputs": [],
   "source": [
    "b='navin'"
   ]
  },
  {
   "cell_type": "code",
   "execution_count": 26,
   "id": "b4410ab2",
   "metadata": {},
   "outputs": [
    {
     "data": {
      "text/plain": [
       "'navin'"
      ]
     },
     "execution_count": 26,
     "metadata": {},
     "output_type": "execute_result"
    }
   ],
   "source": [
    "b"
   ]
  },
  {
   "cell_type": "code",
   "execution_count": 27,
   "id": "b56dac5f",
   "metadata": {},
   "outputs": [
    {
     "data": {
      "text/plain": [
       "str"
      ]
     },
     "execution_count": 27,
     "metadata": {},
     "output_type": "execute_result"
    }
   ],
   "source": [
    "type(b)"
   ]
  },
  {
   "cell_type": "code",
   "execution_count": 29,
   "id": "c2b3327f",
   "metadata": {},
   "outputs": [
    {
     "data": {
      "text/plain": [
       "10.0"
      ]
     },
     "execution_count": 29,
     "metadata": {},
     "output_type": "execute_result"
    }
   ],
   "source": [
    "float(a)"
   ]
  },
  {
   "cell_type": "code",
   "execution_count": 30,
   "id": "78ca72c6",
   "metadata": {},
   "outputs": [
    {
     "data": {
      "text/plain": [
       "10"
      ]
     },
     "execution_count": 30,
     "metadata": {},
     "output_type": "execute_result"
    }
   ],
   "source": [
    "a"
   ]
  },
  {
   "cell_type": "code",
   "execution_count": 31,
   "id": "7879b84c",
   "metadata": {},
   "outputs": [
    {
     "data": {
      "text/plain": [
       "10.0"
      ]
     },
     "execution_count": 31,
     "metadata": {},
     "output_type": "execute_result"
    }
   ],
   "source": [
    "float(a)"
   ]
  },
  {
   "cell_type": "code",
   "execution_count": 32,
   "id": "9154189a",
   "metadata": {},
   "outputs": [
    {
     "data": {
      "text/plain": [
       "10"
      ]
     },
     "execution_count": 32,
     "metadata": {},
     "output_type": "execute_result"
    }
   ],
   "source": [
    "a"
   ]
  },
  {
   "cell_type": "code",
   "execution_count": 33,
   "id": "d8056498",
   "metadata": {},
   "outputs": [],
   "source": [
    "c=float(a)"
   ]
  },
  {
   "cell_type": "code",
   "execution_count": 34,
   "id": "e9b69690",
   "metadata": {},
   "outputs": [
    {
     "data": {
      "text/plain": [
       "10.0"
      ]
     },
     "execution_count": 34,
     "metadata": {},
     "output_type": "execute_result"
    }
   ],
   "source": [
    "c"
   ]
  },
  {
   "cell_type": "code",
   "execution_count": 35,
   "id": "887b37ce",
   "metadata": {},
   "outputs": [
    {
     "data": {
      "text/plain": [
       "10"
      ]
     },
     "execution_count": 35,
     "metadata": {},
     "output_type": "execute_result"
    }
   ],
   "source": [
    "a"
   ]
  },
  {
   "cell_type": "code",
   "execution_count": 36,
   "id": "f4076e49",
   "metadata": {},
   "outputs": [
    {
     "data": {
      "text/plain": [
       "10.0"
      ]
     },
     "execution_count": 36,
     "metadata": {},
     "output_type": "execute_result"
    }
   ],
   "source": [
    "c"
   ]
  },
  {
   "cell_type": "code",
   "execution_count": 37,
   "id": "b9a0e2c7",
   "metadata": {},
   "outputs": [],
   "source": [
    "c=11.20"
   ]
  },
  {
   "cell_type": "code",
   "execution_count": 38,
   "id": "23906aa0",
   "metadata": {},
   "outputs": [
    {
     "data": {
      "text/plain": [
       "11.2"
      ]
     },
     "execution_count": 38,
     "metadata": {},
     "output_type": "execute_result"
    }
   ],
   "source": [
    "c"
   ]
  },
  {
   "cell_type": "code",
   "execution_count": 39,
   "id": "5af8a39b",
   "metadata": {},
   "outputs": [
    {
     "data": {
      "text/plain": [
       "float"
      ]
     },
     "execution_count": 39,
     "metadata": {},
     "output_type": "execute_result"
    }
   ],
   "source": [
    "type(c)"
   ]
  },
  {
   "cell_type": "code",
   "execution_count": 40,
   "id": "6b3a8e6d",
   "metadata": {},
   "outputs": [
    {
     "data": {
      "text/plain": [
       "11"
      ]
     },
     "execution_count": 40,
     "metadata": {},
     "output_type": "execute_result"
    }
   ],
   "source": [
    "int(c)"
   ]
  },
  {
   "cell_type": "code",
   "execution_count": 41,
   "id": "3449ec35",
   "metadata": {},
   "outputs": [],
   "source": [
    "b=int(c)"
   ]
  },
  {
   "cell_type": "code",
   "execution_count": 42,
   "id": "5b633b5e",
   "metadata": {},
   "outputs": [
    {
     "data": {
      "text/plain": [
       "11"
      ]
     },
     "execution_count": 42,
     "metadata": {},
     "output_type": "execute_result"
    }
   ],
   "source": [
    "b"
   ]
  },
  {
   "cell_type": "code",
   "execution_count": 43,
   "id": "d5c87e2c",
   "metadata": {},
   "outputs": [
    {
     "data": {
      "text/plain": [
       "11.2"
      ]
     },
     "execution_count": 43,
     "metadata": {},
     "output_type": "execute_result"
    }
   ],
   "source": [
    "c"
   ]
  },
  {
   "cell_type": "code",
   "execution_count": 53,
   "id": "2633eb63",
   "metadata": {},
   "outputs": [
    {
     "name": "stdout",
     "output_type": "stream",
     "text": [
      "enter length15\n",
      "enter breath50\n",
      "Area=  750\n"
     ]
    }
   ],
   "source": [
    "length=int(input('enter length'))\n",
    "breath=int(input('enter breath'))\n",
    "\n",
    "area=length*breath\n",
    "print(\"Area= \", area)"
   ]
  },
  {
   "cell_type": "code",
   "execution_count": 56,
   "id": "2b138c35",
   "metadata": {},
   "outputs": [
    {
     "data": {
      "text/plain": [
       "'NAVIN KUMAR SINGH'"
      ]
     },
     "execution_count": 56,
     "metadata": {},
     "output_type": "execute_result"
    }
   ],
   "source": [
    "\"NAVIN\" + \" KUMAR\" + \" SINGH\""
   ]
  },
  {
   "cell_type": "code",
   "execution_count": 58,
   "id": "dcef429e",
   "metadata": {},
   "outputs": [],
   "source": [
    "a=10\n",
    "b=15\n",
    "c=a*b"
   ]
  },
  {
   "cell_type": "code",
   "execution_count": 59,
   "id": "b5e3d951",
   "metadata": {},
   "outputs": [
    {
     "name": "stdout",
     "output_type": "stream",
     "text": [
      "150\n"
     ]
    }
   ],
   "source": [
    "print(c)"
   ]
  },
  {
   "cell_type": "code",
   "execution_count": 60,
   "id": "60f02b42",
   "metadata": {},
   "outputs": [
    {
     "data": {
      "text/plain": [
       "25"
      ]
     },
     "execution_count": 60,
     "metadata": {},
     "output_type": "execute_result"
    }
   ],
   "source": [
    "a+b"
   ]
  },
  {
   "cell_type": "code",
   "execution_count": 61,
   "id": "a2a21f69",
   "metadata": {},
   "outputs": [],
   "source": [
    "a='10'"
   ]
  },
  {
   "cell_type": "code",
   "execution_count": 62,
   "id": "39cd410f",
   "metadata": {},
   "outputs": [
    {
     "data": {
      "text/plain": [
       "'10'"
      ]
     },
     "execution_count": 62,
     "metadata": {},
     "output_type": "execute_result"
    }
   ],
   "source": [
    "a"
   ]
  },
  {
   "cell_type": "code",
   "execution_count": 63,
   "id": "1bf2a115",
   "metadata": {},
   "outputs": [
    {
     "data": {
      "text/plain": [
       "str"
      ]
     },
     "execution_count": 63,
     "metadata": {},
     "output_type": "execute_result"
    }
   ],
   "source": [
    "type(a)"
   ]
  },
  {
   "cell_type": "code",
   "execution_count": 64,
   "id": "6525b574",
   "metadata": {},
   "outputs": [],
   "source": [
    "b=int(a)"
   ]
  },
  {
   "cell_type": "code",
   "execution_count": 65,
   "id": "599e76d0",
   "metadata": {},
   "outputs": [
    {
     "data": {
      "text/plain": [
       "10"
      ]
     },
     "execution_count": 65,
     "metadata": {},
     "output_type": "execute_result"
    }
   ],
   "source": [
    "b"
   ]
  },
  {
   "cell_type": "code",
   "execution_count": 66,
   "id": "3004a767",
   "metadata": {},
   "outputs": [
    {
     "data": {
      "text/plain": [
       "int"
      ]
     },
     "execution_count": 66,
     "metadata": {},
     "output_type": "execute_result"
    }
   ],
   "source": [
    "type(b)"
   ]
  },
  {
   "cell_type": "code",
   "execution_count": 67,
   "id": "3fbbd74e",
   "metadata": {},
   "outputs": [],
   "source": [
    "c=\"navin\""
   ]
  },
  {
   "cell_type": "code",
   "execution_count": 68,
   "id": "1ea06b8a",
   "metadata": {},
   "outputs": [
    {
     "data": {
      "text/plain": [
       "str"
      ]
     },
     "execution_count": 68,
     "metadata": {},
     "output_type": "execute_result"
    }
   ],
   "source": [
    "type(c)"
   ]
  },
  {
   "cell_type": "code",
   "execution_count": 69,
   "id": "7fe1874e",
   "metadata": {},
   "outputs": [
    {
     "ename": "ValueError",
     "evalue": "invalid literal for int() with base 10: 'navin'",
     "output_type": "error",
     "traceback": [
      "\u001b[1;31m---------------------------------------------------------------------------\u001b[0m",
      "\u001b[1;31mValueError\u001b[0m                                Traceback (most recent call last)",
      "Cell \u001b[1;32mIn[69], line 1\u001b[0m\n\u001b[1;32m----> 1\u001b[0m k\u001b[38;5;241m=\u001b[39m\u001b[38;5;28;43mint\u001b[39;49m\u001b[43m(\u001b[49m\u001b[43mc\u001b[49m\u001b[43m)\u001b[49m\n",
      "\u001b[1;31mValueError\u001b[0m: invalid literal for int() with base 10: 'navin'"
     ]
    }
   ],
   "source": [
    "k=int(c)"
   ]
  },
  {
   "cell_type": "code",
   "execution_count": 70,
   "id": "f89753cf",
   "metadata": {},
   "outputs": [
    {
     "data": {
      "text/plain": [
       "'10'"
      ]
     },
     "execution_count": 70,
     "metadata": {},
     "output_type": "execute_result"
    }
   ],
   "source": [
    "a"
   ]
  },
  {
   "cell_type": "code",
   "execution_count": 71,
   "id": "326f2986",
   "metadata": {},
   "outputs": [
    {
     "data": {
      "text/plain": [
       "str"
      ]
     },
     "execution_count": 71,
     "metadata": {},
     "output_type": "execute_result"
    }
   ],
   "source": [
    "type(a)"
   ]
  },
  {
   "cell_type": "code",
   "execution_count": 72,
   "id": "d5db8c77",
   "metadata": {},
   "outputs": [],
   "source": [
    "m=float(a)"
   ]
  },
  {
   "cell_type": "code",
   "execution_count": 73,
   "id": "53983c2b",
   "metadata": {},
   "outputs": [
    {
     "data": {
      "text/plain": [
       "10.0"
      ]
     },
     "execution_count": 73,
     "metadata": {},
     "output_type": "execute_result"
    }
   ],
   "source": [
    "m"
   ]
  },
  {
   "cell_type": "markdown",
   "id": "36dd74ff",
   "metadata": {},
   "source": [
    "# DATA STRUCTURES "
   ]
  },
  {
   "cell_type": "markdown",
   "id": "a0faeb52",
   "metadata": {},
   "source": [
    "list are index and mutuable "
   ]
  },
  {
   "cell_type": "code",
   "execution_count": 74,
   "id": "bf1be201",
   "metadata": {},
   "outputs": [],
   "source": [
    "list1=[1,2,3,4,5,6,]"
   ]
  },
  {
   "cell_type": "code",
   "execution_count": 84,
   "id": "afcb7c3d",
   "metadata": {},
   "outputs": [
    {
     "data": {
      "text/plain": [
       "list"
      ]
     },
     "execution_count": 84,
     "metadata": {},
     "output_type": "execute_result"
    }
   ],
   "source": [
    "type(list1)"
   ]
  },
  {
   "cell_type": "code",
   "execution_count": 75,
   "id": "de38bfc6",
   "metadata": {},
   "outputs": [
    {
     "data": {
      "text/plain": [
       "[1, 2, 3, 4, 5, 6]"
      ]
     },
     "execution_count": 75,
     "metadata": {},
     "output_type": "execute_result"
    }
   ],
   "source": [
    "list1"
   ]
  },
  {
   "cell_type": "code",
   "execution_count": 76,
   "id": "9c0e80a8",
   "metadata": {},
   "outputs": [
    {
     "name": "stdout",
     "output_type": "stream",
     "text": [
      "[1, 2, 3, 4, 5, 6]\n"
     ]
    }
   ],
   "source": [
    "print(list1)"
   ]
  },
  {
   "cell_type": "code",
   "execution_count": 78,
   "id": "0ca8fa35",
   "metadata": {},
   "outputs": [],
   "source": [
    "list2=[5.6,100.25,12.5,45.45,78.87,15.46,78.46]"
   ]
  },
  {
   "cell_type": "code",
   "execution_count": 79,
   "id": "0c6d7457",
   "metadata": {},
   "outputs": [
    {
     "data": {
      "text/plain": [
       "[5.6, 100.25, 12.5, 45.45, 78.87, 15.46, 78.46]"
      ]
     },
     "execution_count": 79,
     "metadata": {},
     "output_type": "execute_result"
    }
   ],
   "source": [
    "list2"
   ]
  },
  {
   "cell_type": "code",
   "execution_count": 80,
   "id": "bd15f4c1",
   "metadata": {},
   "outputs": [],
   "source": [
    "charlist=['a','b','c','d','e','f','g']"
   ]
  },
  {
   "cell_type": "code",
   "execution_count": 81,
   "id": "95ce18a5",
   "metadata": {},
   "outputs": [
    {
     "data": {
      "text/plain": [
       "['a', 'b', 'c', 'd', 'e', 'f', 'g']"
      ]
     },
     "execution_count": 81,
     "metadata": {},
     "output_type": "execute_result"
    }
   ],
   "source": [
    "charlist"
   ]
  },
  {
   "cell_type": "code",
   "execution_count": 82,
   "id": "6105ba96",
   "metadata": {},
   "outputs": [
    {
     "data": {
      "text/plain": [
       "list"
      ]
     },
     "execution_count": 82,
     "metadata": {},
     "output_type": "execute_result"
    }
   ],
   "source": [
    "type(charlist)"
   ]
  },
  {
   "cell_type": "code",
   "execution_count": 87,
   "id": "9fe36721",
   "metadata": {},
   "outputs": [],
   "source": [
    "stringlist=['navin','kumar','ram','pawan','singh']"
   ]
  },
  {
   "cell_type": "code",
   "execution_count": 88,
   "id": "fd223e97",
   "metadata": {},
   "outputs": [
    {
     "data": {
      "text/plain": [
       "['navin', 'kumar', 'ram', 'pawan', 'singh']"
      ]
     },
     "execution_count": 88,
     "metadata": {},
     "output_type": "execute_result"
    }
   ],
   "source": [
    "stringlist"
   ]
  },
  {
   "cell_type": "code",
   "execution_count": 97,
   "id": "5a75b064",
   "metadata": {},
   "outputs": [],
   "source": [
    "mixlist=[10,15,12.6,18.21,'a','B','manikant','nagfani']"
   ]
  },
  {
   "cell_type": "code",
   "execution_count": 98,
   "id": "8929be4f",
   "metadata": {},
   "outputs": [
    {
     "data": {
      "text/plain": [
       "[10, 15, 12.6, 18.21, 'a', 'B', 'manikant', 'nagfani']"
      ]
     },
     "execution_count": 98,
     "metadata": {},
     "output_type": "execute_result"
    }
   ],
   "source": [
    "mixlist"
   ]
  },
  {
   "cell_type": "code",
   "execution_count": 104,
   "id": "d1892bb5",
   "metadata": {},
   "outputs": [],
   "source": [
    "list=['apple', 'banana', 'mango', ' grapes', 'guava']"
   ]
  },
  {
   "cell_type": "code",
   "execution_count": 105,
   "id": "babceeaa",
   "metadata": {},
   "outputs": [
    {
     "data": {
      "text/plain": [
       "['apple', 'banana', 'mango', ' grapes', 'guava']"
      ]
     },
     "execution_count": 105,
     "metadata": {},
     "output_type": "execute_result"
    }
   ],
   "source": [
    "list"
   ]
  },
  {
   "cell_type": "code",
   "execution_count": 102,
   "id": "b88c1054",
   "metadata": {},
   "outputs": [
    {
     "data": {
      "text/plain": [
       "'apple'"
      ]
     },
     "execution_count": 102,
     "metadata": {},
     "output_type": "execute_result"
    }
   ],
   "source": [
    "list[0]"
   ]
  },
  {
   "cell_type": "code",
   "execution_count": 106,
   "id": "85886d69",
   "metadata": {},
   "outputs": [
    {
     "data": {
      "text/plain": [
       "'apple'"
      ]
     },
     "execution_count": 106,
     "metadata": {},
     "output_type": "execute_result"
    }
   ],
   "source": [
    "list[-5]"
   ]
  },
  {
   "cell_type": "code",
   "execution_count": 109,
   "id": "8cf37fd7",
   "metadata": {},
   "outputs": [
    {
     "data": {
      "text/plain": [
       "'mango'"
      ]
     },
     "execution_count": 109,
     "metadata": {},
     "output_type": "execute_result"
    }
   ],
   "source": [
    "list[-3]"
   ]
  },
  {
   "cell_type": "markdown",
   "id": "22711972",
   "metadata": {},
   "source": [
    "SLICING"
   ]
  },
  {
   "cell_type": "code",
   "execution_count": 112,
   "id": "6e00b01e",
   "metadata": {},
   "outputs": [],
   "source": [
    "list=['apple', 'banana', 'mango', ' grapes', 'guava']"
   ]
  },
  {
   "cell_type": "code",
   "execution_count": 113,
   "id": "cda0a115",
   "metadata": {},
   "outputs": [
    {
     "data": {
      "text/plain": [
       "['apple', 'banana', 'mango', ' grapes', 'guava']"
      ]
     },
     "execution_count": 113,
     "metadata": {},
     "output_type": "execute_result"
    }
   ],
   "source": [
    "list"
   ]
  },
  {
   "cell_type": "code",
   "execution_count": 115,
   "id": "f046df7c",
   "metadata": {},
   "outputs": [
    {
     "data": {
      "text/plain": [
       "['apple']"
      ]
     },
     "execution_count": 115,
     "metadata": {},
     "output_type": "execute_result"
    }
   ],
   "source": [
    "list[0:1]"
   ]
  },
  {
   "cell_type": "code",
   "execution_count": 116,
   "id": "604e9b2b",
   "metadata": {},
   "outputs": [
    {
     "data": {
      "text/plain": [
       "['mango', ' grapes', 'guava']"
      ]
     },
     "execution_count": 116,
     "metadata": {},
     "output_type": "execute_result"
    }
   ],
   "source": [
    "list[2:5]"
   ]
  },
  {
   "cell_type": "code",
   "execution_count": 117,
   "id": "9396807d",
   "metadata": {},
   "outputs": [
    {
     "data": {
      "text/plain": [
       "[' grapes', 'guava']"
      ]
     },
     "execution_count": 117,
     "metadata": {},
     "output_type": "execute_result"
    }
   ],
   "source": [
    "list[3:5]"
   ]
  },
  {
   "cell_type": "code",
   "execution_count": 119,
   "id": "d69899fa",
   "metadata": {},
   "outputs": [
    {
     "data": {
      "text/plain": [
       "['guava']"
      ]
     },
     "execution_count": 119,
     "metadata": {},
     "output_type": "execute_result"
    }
   ],
   "source": [
    "list[4:5]"
   ]
  },
  {
   "cell_type": "code",
   "execution_count": 120,
   "id": "d63af991",
   "metadata": {},
   "outputs": [
    {
     "data": {
      "text/plain": [
       "['apple', 'banana', 'mango']"
      ]
     },
     "execution_count": 120,
     "metadata": {},
     "output_type": "execute_result"
    }
   ],
   "source": [
    "list[-5:-2]"
   ]
  },
  {
   "cell_type": "code",
   "execution_count": 121,
   "id": "587cee03",
   "metadata": {},
   "outputs": [],
   "source": [
    "list=['apple', 'banana', 'mango', ' grapes', 'guava']"
   ]
  },
  {
   "cell_type": "code",
   "execution_count": 122,
   "id": "6570dbb4",
   "metadata": {},
   "outputs": [
    {
     "data": {
      "text/plain": [
       "[' grapes']"
      ]
     },
     "execution_count": 122,
     "metadata": {},
     "output_type": "execute_result"
    }
   ],
   "source": [
    "list[-2:-1]"
   ]
  },
  {
   "cell_type": "code",
   "execution_count": 123,
   "id": "422cc37a",
   "metadata": {},
   "outputs": [
    {
     "data": {
      "text/plain": [
       "['banana', 'mango', ' grapes']"
      ]
     },
     "execution_count": 123,
     "metadata": {},
     "output_type": "execute_result"
    }
   ],
   "source": [
    "list[-4:-1]"
   ]
  },
  {
   "cell_type": "code",
   "execution_count": 124,
   "id": "541f1c07",
   "metadata": {},
   "outputs": [
    {
     "data": {
      "text/plain": [
       "['apple', 'banana', 'mango', ' grapes', 'guava']"
      ]
     },
     "execution_count": 124,
     "metadata": {},
     "output_type": "execute_result"
    }
   ],
   "source": [
    "list[0:]"
   ]
  },
  {
   "cell_type": "code",
   "execution_count": 138,
   "id": "3e2465dc",
   "metadata": {},
   "outputs": [
    {
     "data": {
      "text/plain": [
       "['apple', 'banana', 'mango', ' grapes']"
      ]
     },
     "execution_count": 138,
     "metadata": {},
     "output_type": "execute_result"
    }
   ],
   "source": [
    "list[0:4]"
   ]
  },
  {
   "cell_type": "code",
   "execution_count": 131,
   "id": "ecf5f343",
   "metadata": {},
   "outputs": [],
   "source": [
    "list=['apple', 'banana', 'mango', ' grapes', 'guava']"
   ]
  },
  {
   "cell_type": "code",
   "execution_count": 132,
   "id": "eef46d50",
   "metadata": {},
   "outputs": [
    {
     "data": {
      "text/plain": [
       "['apple', 'banana', 'mango']"
      ]
     },
     "execution_count": 132,
     "metadata": {},
     "output_type": "execute_result"
    }
   ],
   "source": [
    "list[0:3]"
   ]
  },
  {
   "cell_type": "code",
   "execution_count": 137,
   "id": "4af306fa",
   "metadata": {},
   "outputs": [
    {
     "data": {
      "text/plain": [
       "['apple', 'banana', 'mango', ' grapes']"
      ]
     },
     "execution_count": 137,
     "metadata": {},
     "output_type": "execute_result"
    }
   ],
   "source": [
    "list[0:4]"
   ]
  },
  {
   "cell_type": "code",
   "execution_count": 140,
   "id": "c0d1a208",
   "metadata": {},
   "outputs": [
    {
     "data": {
      "text/plain": [
       "['apple', 'banana']"
      ]
     },
     "execution_count": 140,
     "metadata": {},
     "output_type": "execute_result"
    }
   ],
   "source": [
    "list[ :2]"
   ]
  },
  {
   "cell_type": "markdown",
   "id": "7734b6c7",
   "metadata": {},
   "source": [
    "LIST OPERATION "
   ]
  },
  {
   "cell_type": "code",
   "execution_count": 160,
   "id": "c995332c",
   "metadata": {},
   "outputs": [],
   "source": [
    "list=['apple', 'banana', 'mango', 'grapes', 'guava','bery','strobery']"
   ]
  },
  {
   "cell_type": "code",
   "execution_count": 161,
   "id": "511d535b",
   "metadata": {},
   "outputs": [
    {
     "data": {
      "text/plain": [
       "['apple', 'banana', 'mango', 'grapes', 'guava', 'bery', 'strobery']"
      ]
     },
     "execution_count": 161,
     "metadata": {},
     "output_type": "execute_result"
    }
   ],
   "source": [
    "list"
   ]
  },
  {
   "cell_type": "markdown",
   "id": "7ca2307b",
   "metadata": {},
   "source": [
    "TO ADD THE ITEMS IN THE LIST"
   ]
  },
  {
   "cell_type": "code",
   "execution_count": 162,
   "id": "4905fe0c",
   "metadata": {},
   "outputs": [],
   "source": [
    "list.append(\"litchi\")"
   ]
  },
  {
   "cell_type": "code",
   "execution_count": 163,
   "id": "a4e616a3",
   "metadata": {},
   "outputs": [
    {
     "data": {
      "text/plain": [
       "['apple', 'banana', 'mango', 'grapes', 'guava', 'bery', 'strobery', 'litchi']"
      ]
     },
     "execution_count": 163,
     "metadata": {},
     "output_type": "execute_result"
    }
   ],
   "source": [
    "list"
   ]
  },
  {
   "cell_type": "code",
   "execution_count": 164,
   "id": "5d2354d3",
   "metadata": {},
   "outputs": [],
   "source": [
    "list.append('angur')"
   ]
  },
  {
   "cell_type": "code",
   "execution_count": 165,
   "id": "95db7dfe",
   "metadata": {},
   "outputs": [
    {
     "data": {
      "text/plain": [
       "['apple',\n",
       " 'banana',\n",
       " 'mango',\n",
       " 'grapes',\n",
       " 'guava',\n",
       " 'bery',\n",
       " 'strobery',\n",
       " 'litchi',\n",
       " 'angur']"
      ]
     },
     "execution_count": 165,
     "metadata": {},
     "output_type": "execute_result"
    }
   ],
   "source": [
    "list"
   ]
  },
  {
   "cell_type": "code",
   "execution_count": 172,
   "id": "92e751df",
   "metadata": {},
   "outputs": [],
   "source": [
    "list.sort()"
   ]
  },
  {
   "cell_type": "code",
   "execution_count": 173,
   "id": "6c4ffcf4",
   "metadata": {},
   "outputs": [
    {
     "data": {
      "text/plain": [
       "['angur',\n",
       " 'apple',\n",
       " 'banana',\n",
       " 'bery',\n",
       " 'grapes',\n",
       " 'guava',\n",
       " 'litchi',\n",
       " 'mango',\n",
       " 'strobery']"
      ]
     },
     "execution_count": 173,
     "metadata": {},
     "output_type": "execute_result"
    }
   ],
   "source": [
    "list"
   ]
  },
  {
   "cell_type": "code",
   "execution_count": 176,
   "id": "42630c52",
   "metadata": {},
   "outputs": [],
   "source": [
    "list.reverse()"
   ]
  },
  {
   "cell_type": "code",
   "execution_count": 177,
   "id": "d47cf44a",
   "metadata": {},
   "outputs": [
    {
     "data": {
      "text/plain": [
       "['angur',\n",
       " 'apple',\n",
       " 'banana',\n",
       " 'bery',\n",
       " 'grapes',\n",
       " 'guava',\n",
       " 'litchi',\n",
       " 'mango',\n",
       " 'strobery']"
      ]
     },
     "execution_count": 177,
     "metadata": {},
     "output_type": "execute_result"
    }
   ],
   "source": [
    "list"
   ]
  },
  {
   "cell_type": "code",
   "execution_count": 178,
   "id": "502f0bee",
   "metadata": {},
   "outputs": [],
   "source": [
    "list.sort()"
   ]
  },
  {
   "cell_type": "code",
   "execution_count": 179,
   "id": "8685ff2d",
   "metadata": {},
   "outputs": [
    {
     "data": {
      "text/plain": [
       "['angur',\n",
       " 'apple',\n",
       " 'banana',\n",
       " 'bery',\n",
       " 'grapes',\n",
       " 'guava',\n",
       " 'litchi',\n",
       " 'mango',\n",
       " 'strobery']"
      ]
     },
     "execution_count": 179,
     "metadata": {},
     "output_type": "execute_result"
    }
   ],
   "source": [
    "list"
   ]
  },
  {
   "cell_type": "markdown",
   "id": "08620b01",
   "metadata": {},
   "source": [
    "INSERT = to add the items on seferate position "
   ]
  },
  {
   "cell_type": "code",
   "execution_count": 180,
   "id": "6e197b57",
   "metadata": {},
   "outputs": [],
   "source": [
    "list=['apple', 'banana', 'mango', 'grapes', 'guava']"
   ]
  },
  {
   "cell_type": "code",
   "execution_count": null,
   "id": "7114baf3",
   "metadata": {},
   "outputs": [],
   "source": [
    "list.insert(2, 'strobery')"
   ]
  },
  {
   "cell_type": "code",
   "execution_count": 192,
   "id": "98d4633b",
   "metadata": {},
   "outputs": [
    {
     "data": {
      "text/plain": [
       "['apple',\n",
       " 'strobery',\n",
       " 'strobery',\n",
       " 'kiwi',\n",
       " 'strobery',\n",
       " 'kiwi',\n",
       " 'banana',\n",
       " 'mango',\n",
       " 'grapes',\n",
       " 'guava']"
      ]
     },
     "execution_count": 192,
     "metadata": {},
     "output_type": "execute_result"
    }
   ],
   "source": [
    "list"
   ]
  },
  {
   "cell_type": "code",
   "execution_count": 193,
   "id": "4ea23b69",
   "metadata": {},
   "outputs": [],
   "source": [
    "list.insert(4,'kiwi')"
   ]
  },
  {
   "cell_type": "code",
   "execution_count": 194,
   "id": "13245eb2",
   "metadata": {},
   "outputs": [
    {
     "data": {
      "text/plain": [
       "['apple',\n",
       " 'strobery',\n",
       " 'strobery',\n",
       " 'kiwi',\n",
       " 'kiwi',\n",
       " 'strobery',\n",
       " 'kiwi',\n",
       " 'banana',\n",
       " 'mango',\n",
       " 'grapes',\n",
       " 'guava']"
      ]
     },
     "execution_count": 194,
     "metadata": {},
     "output_type": "execute_result"
    }
   ],
   "source": [
    "list"
   ]
  },
  {
   "cell_type": "code",
   "execution_count": 195,
   "id": "b92c5c6c",
   "metadata": {},
   "outputs": [],
   "source": [
    "list.insert(5,'berhar')"
   ]
  },
  {
   "cell_type": "code",
   "execution_count": 196,
   "id": "d1e19f1a",
   "metadata": {},
   "outputs": [
    {
     "data": {
      "text/plain": [
       "['apple',\n",
       " 'strobery',\n",
       " 'strobery',\n",
       " 'kiwi',\n",
       " 'kiwi',\n",
       " 'berhar',\n",
       " 'strobery',\n",
       " 'kiwi',\n",
       " 'banana',\n",
       " 'mango',\n",
       " 'grapes',\n",
       " 'guava']"
      ]
     },
     "execution_count": 196,
     "metadata": {},
     "output_type": "execute_result"
    }
   ],
   "source": [
    "list"
   ]
  },
  {
   "cell_type": "code",
   "execution_count": 199,
   "id": "52ba3285",
   "metadata": {},
   "outputs": [
    {
     "data": {
      "text/plain": [
       "11"
      ]
     },
     "execution_count": 199,
     "metadata": {},
     "output_type": "execute_result"
    }
   ],
   "source": [
    "list.index('guava')"
   ]
  },
  {
   "cell_type": "code",
   "execution_count": 200,
   "id": "69d3ca5f",
   "metadata": {},
   "outputs": [
    {
     "data": {
      "text/plain": [
       "3"
      ]
     },
     "execution_count": 200,
     "metadata": {},
     "output_type": "execute_result"
    }
   ],
   "source": [
    "list.index('kiwi')"
   ]
  },
  {
   "cell_type": "code",
   "execution_count": 201,
   "id": "20ac8b5e",
   "metadata": {},
   "outputs": [
    {
     "data": {
      "text/plain": [
       "['apple',\n",
       " 'strobery',\n",
       " 'strobery',\n",
       " 'kiwi',\n",
       " 'kiwi',\n",
       " 'berhar',\n",
       " 'strobery',\n",
       " 'kiwi',\n",
       " 'banana',\n",
       " 'mango',\n",
       " 'grapes',\n",
       " 'guava']"
      ]
     },
     "execution_count": 201,
     "metadata": {},
     "output_type": "execute_result"
    }
   ],
   "source": [
    "list"
   ]
  },
  {
   "cell_type": "markdown",
   "id": "ad62ea0d",
   "metadata": {},
   "source": [
    "POP --- to delete the data in thi list,,, \n",
    "if you apply this function the last data will be deleted "
   ]
  },
  {
   "cell_type": "code",
   "execution_count": 202,
   "id": "c4e2edc9",
   "metadata": {},
   "outputs": [
    {
     "data": {
      "text/plain": [
       "'guava'"
      ]
     },
     "execution_count": 202,
     "metadata": {},
     "output_type": "execute_result"
    }
   ],
   "source": [
    "list.pop()"
   ]
  },
  {
   "cell_type": "code",
   "execution_count": 204,
   "id": "1e87300b",
   "metadata": {},
   "outputs": [
    {
     "data": {
      "text/plain": [
       "'grapes'"
      ]
     },
     "execution_count": 204,
     "metadata": {},
     "output_type": "execute_result"
    }
   ],
   "source": [
    "list.pop()"
   ]
  },
  {
   "cell_type": "code",
   "execution_count": 205,
   "id": "1c202308",
   "metadata": {},
   "outputs": [
    {
     "data": {
      "text/plain": [
       "['apple',\n",
       " 'strobery',\n",
       " 'strobery',\n",
       " 'kiwi',\n",
       " 'kiwi',\n",
       " 'berhar',\n",
       " 'strobery',\n",
       " 'kiwi',\n",
       " 'banana',\n",
       " 'mango']"
      ]
     },
     "execution_count": 205,
     "metadata": {},
     "output_type": "execute_result"
    }
   ],
   "source": [
    "list"
   ]
  },
  {
   "cell_type": "markdown",
   "id": "3c6318e3",
   "metadata": {},
   "source": [
    "LEN FUNCTION"
   ]
  },
  {
   "cell_type": "code",
   "execution_count": 206,
   "id": "73b3a444",
   "metadata": {},
   "outputs": [
    {
     "data": {
      "text/plain": [
       "5"
      ]
     },
     "execution_count": 206,
     "metadata": {},
     "output_type": "execute_result"
    }
   ],
   "source": [
    "len(\"navin\")"
   ]
  },
  {
   "cell_type": "code",
   "execution_count": 207,
   "id": "f8d5a199",
   "metadata": {},
   "outputs": [
    {
     "data": {
      "text/plain": [
       "17"
      ]
     },
     "execution_count": 207,
     "metadata": {},
     "output_type": "execute_result"
    }
   ],
   "source": [
    "len(\"navin kumar singh\")"
   ]
  },
  {
   "cell_type": "code",
   "execution_count": 208,
   "id": "cf5871e5",
   "metadata": {},
   "outputs": [
    {
     "data": {
      "text/plain": [
       "10"
      ]
     },
     "execution_count": 208,
     "metadata": {},
     "output_type": "execute_result"
    }
   ],
   "source": [
    "len(\"8757569686\")"
   ]
  },
  {
   "cell_type": "code",
   "execution_count": 210,
   "id": "46709e98",
   "metadata": {},
   "outputs": [
    {
     "data": {
      "text/plain": [
       "4"
      ]
     },
     "execution_count": 210,
     "metadata": {},
     "output_type": "execute_result"
    }
   ],
   "source": [
    "len('4578')"
   ]
  },
  {
   "cell_type": "code",
   "execution_count": 211,
   "id": "3384ce69",
   "metadata": {},
   "outputs": [
    {
     "data": {
      "text/plain": [
       "10"
      ]
     },
     "execution_count": 211,
     "metadata": {},
     "output_type": "execute_result"
    }
   ],
   "source": [
    "len(list)"
   ]
  },
  {
   "cell_type": "markdown",
   "id": "ae4ca92c",
   "metadata": {},
   "source": [
    "REMOVE OPERATION -- deleting data by name "
   ]
  },
  {
   "cell_type": "code",
   "execution_count": 218,
   "id": "19b94891",
   "metadata": {},
   "outputs": [],
   "source": [
    "list=['kiwi','berhar','strobery','kiwi','banana','mango']"
   ]
  },
  {
   "cell_type": "code",
   "execution_count": 219,
   "id": "fb265cd1",
   "metadata": {},
   "outputs": [
    {
     "data": {
      "text/plain": [
       "['kiwi', 'berhar', 'strobery', 'kiwi', 'banana', 'mango']"
      ]
     },
     "execution_count": 219,
     "metadata": {},
     "output_type": "execute_result"
    }
   ],
   "source": [
    "list"
   ]
  },
  {
   "cell_type": "code",
   "execution_count": 220,
   "id": "e29120a0",
   "metadata": {},
   "outputs": [],
   "source": [
    "list.remove('berhar')"
   ]
  },
  {
   "cell_type": "code",
   "execution_count": 221,
   "id": "2dd2a54f",
   "metadata": {},
   "outputs": [
    {
     "data": {
      "text/plain": [
       "['kiwi', 'strobery', 'kiwi', 'banana', 'mango']"
      ]
     },
     "execution_count": 221,
     "metadata": {},
     "output_type": "execute_result"
    }
   ],
   "source": [
    "list"
   ]
  },
  {
   "cell_type": "code",
   "execution_count": 222,
   "id": "9ee5f085",
   "metadata": {},
   "outputs": [
    {
     "data": {
      "text/plain": [
       "'banana'"
      ]
     },
     "execution_count": 222,
     "metadata": {},
     "output_type": "execute_result"
    }
   ],
   "source": [
    "list.pop(3)"
   ]
  },
  {
   "cell_type": "markdown",
   "id": "8afc55d3",
   "metadata": {},
   "source": [
    "CLEAR --- to clear all the data in this list"
   ]
  },
  {
   "cell_type": "code",
   "execution_count": 223,
   "id": "9726a3b2",
   "metadata": {},
   "outputs": [],
   "source": [
    "list.clear()"
   ]
  },
  {
   "cell_type": "code",
   "execution_count": 224,
   "id": "299dc5e9",
   "metadata": {},
   "outputs": [
    {
     "data": {
      "text/plain": [
       "[]"
      ]
     },
     "execution_count": 224,
     "metadata": {},
     "output_type": "execute_result"
    }
   ],
   "source": [
    "list"
   ]
  },
  {
   "cell_type": "markdown",
   "id": "699dda79",
   "metadata": {},
   "source": [
    "ADD THE DATA IN SAME LIST AFTER THE CLEAR LIST"
   ]
  },
  {
   "cell_type": "code",
   "execution_count": 225,
   "id": "49e6b0bb",
   "metadata": {},
   "outputs": [],
   "source": [
    "list.append(\"mango\")"
   ]
  },
  {
   "cell_type": "code",
   "execution_count": 226,
   "id": "3f0f7152",
   "metadata": {},
   "outputs": [
    {
     "data": {
      "text/plain": [
       "['mango']"
      ]
     },
     "execution_count": 226,
     "metadata": {},
     "output_type": "execute_result"
    }
   ],
   "source": [
    "list"
   ]
  },
  {
   "cell_type": "code",
   "execution_count": 232,
   "id": "b6a8998d",
   "metadata": {},
   "outputs": [],
   "source": [
    "list.append(\"guava\")"
   ]
  },
  {
   "cell_type": "code",
   "execution_count": 233,
   "id": "2befca82",
   "metadata": {},
   "outputs": [
    {
     "data": {
      "text/plain": [
       "['mango', 'guava']"
      ]
     },
     "execution_count": 233,
     "metadata": {},
     "output_type": "execute_result"
    }
   ],
   "source": [
    "list"
   ]
  },
  {
   "cell_type": "code",
   "execution_count": 235,
   "id": "e410f8a0",
   "metadata": {},
   "outputs": [],
   "source": [
    "list.append(\"watermelon\")"
   ]
  },
  {
   "cell_type": "code",
   "execution_count": 236,
   "id": "a97acec9",
   "metadata": {},
   "outputs": [
    {
     "data": {
      "text/plain": [
       "['mango', 'guava', 'watermelon']"
      ]
     },
     "execution_count": 236,
     "metadata": {},
     "output_type": "execute_result"
    }
   ],
   "source": [
    "list"
   ]
  },
  {
   "cell_type": "markdown",
   "id": "3dab520c",
   "metadata": {},
   "source": [
    "DELETE THE LIST"
   ]
  },
  {
   "cell_type": "code",
   "execution_count": 59,
   "id": "7734bd5c",
   "metadata": {},
   "outputs": [],
   "source": [
    "name=['navin','kumar','singh']"
   ]
  },
  {
   "cell_type": "code",
   "execution_count": 68,
   "id": "06dcccb7",
   "metadata": {},
   "outputs": [],
   "source": [
    "name[0]='navin singh'"
   ]
  },
  {
   "cell_type": "code",
   "execution_count": 69,
   "id": "885c83bf",
   "metadata": {},
   "outputs": [
    {
     "data": {
      "text/plain": [
       "['navin singh', 'kumar', 'singh']"
      ]
     },
     "execution_count": 69,
     "metadata": {},
     "output_type": "execute_result"
    }
   ],
   "source": [
    "name"
   ]
  },
  {
   "cell_type": "code",
   "execution_count": 240,
   "id": "8d586349",
   "metadata": {},
   "outputs": [],
   "source": [
    "del name"
   ]
  },
  {
   "cell_type": "code",
   "execution_count": 241,
   "id": "d0ade992",
   "metadata": {},
   "outputs": [
    {
     "ename": "NameError",
     "evalue": "name 'name' is not defined",
     "output_type": "error",
     "traceback": [
      "\u001b[1;31m---------------------------------------------------------------------------\u001b[0m",
      "\u001b[1;31mNameError\u001b[0m                                 Traceback (most recent call last)",
      "Cell \u001b[1;32mIn[241], line 1\u001b[0m\n\u001b[1;32m----> 1\u001b[0m \u001b[43mname\u001b[49m\n",
      "\u001b[1;31mNameError\u001b[0m: name 'name' is not defined"
     ]
    }
   ],
   "source": [
    "name"
   ]
  },
  {
   "cell_type": "markdown",
   "id": "a07e7f2d",
   "metadata": {},
   "source": [
    "TO CHANGE THE VALUE IN THE LIST"
   ]
  },
  {
   "cell_type": "code",
   "execution_count": 242,
   "id": "c05fbc6d",
   "metadata": {},
   "outputs": [
    {
     "data": {
      "text/plain": [
       "['mango', 'guava', 'watermelon']"
      ]
     },
     "execution_count": 242,
     "metadata": {},
     "output_type": "execute_result"
    }
   ],
   "source": [
    "list"
   ]
  },
  {
   "cell_type": "code",
   "execution_count": 58,
   "id": "b63f2741",
   "metadata": {},
   "outputs": [
    {
     "data": {
      "text/plain": [
       "list"
      ]
     },
     "execution_count": 58,
     "metadata": {},
     "output_type": "execute_result"
    }
   ],
   "source": [
    "list"
   ]
  },
  {
   "cell_type": "code",
   "execution_count": 243,
   "id": "5dcccb79",
   "metadata": {},
   "outputs": [],
   "source": [
    "list[2]='grapes'"
   ]
  },
  {
   "cell_type": "code",
   "execution_count": 244,
   "id": "0390c9cb",
   "metadata": {},
   "outputs": [
    {
     "data": {
      "text/plain": [
       "['mango', 'guava', 'grapes']"
      ]
     },
     "execution_count": 244,
     "metadata": {},
     "output_type": "execute_result"
    }
   ],
   "source": [
    "list"
   ]
  },
  {
   "cell_type": "code",
   "execution_count": 245,
   "id": "8ea166b1",
   "metadata": {},
   "outputs": [],
   "source": [
    "list[1]='kiwi'"
   ]
  },
  {
   "cell_type": "code",
   "execution_count": 246,
   "id": "f5acc37f",
   "metadata": {},
   "outputs": [
    {
     "data": {
      "text/plain": [
       "['mango', 'kiwi', 'grapes']"
      ]
     },
     "execution_count": 246,
     "metadata": {},
     "output_type": "execute_result"
    }
   ],
   "source": [
    "list"
   ]
  },
  {
   "cell_type": "code",
   "execution_count": 247,
   "id": "e31cab23",
   "metadata": {},
   "outputs": [],
   "source": [
    "list[0]='strobery'"
   ]
  },
  {
   "cell_type": "code",
   "execution_count": 248,
   "id": "d1235c2c",
   "metadata": {},
   "outputs": [
    {
     "data": {
      "text/plain": [
       "['strobery', 'kiwi', 'grapes']"
      ]
     },
     "execution_count": 248,
     "metadata": {},
     "output_type": "execute_result"
    }
   ],
   "source": [
    "list"
   ]
  },
  {
   "cell_type": "code",
   "execution_count": 249,
   "id": "f03cf464",
   "metadata": {},
   "outputs": [],
   "source": [
    "marks=[98,85,78,95,79,89,45]"
   ]
  },
  {
   "cell_type": "code",
   "execution_count": 250,
   "id": "53112f91",
   "metadata": {},
   "outputs": [
    {
     "data": {
      "text/plain": [
       "[98, 85, 78, 95, 79, 89, 45]"
      ]
     },
     "execution_count": 250,
     "metadata": {},
     "output_type": "execute_result"
    }
   ],
   "source": [
    "marks"
   ]
  },
  {
   "cell_type": "code",
   "execution_count": 251,
   "id": "41285c69",
   "metadata": {},
   "outputs": [],
   "source": [
    "marks[1]=95"
   ]
  },
  {
   "cell_type": "code",
   "execution_count": 252,
   "id": "f2c21077",
   "metadata": {},
   "outputs": [
    {
     "data": {
      "text/plain": [
       "[98, 95, 78, 95, 79, 89, 45]"
      ]
     },
     "execution_count": 252,
     "metadata": {},
     "output_type": "execute_result"
    }
   ],
   "source": [
    "marks"
   ]
  },
  {
   "cell_type": "code",
   "execution_count": 253,
   "id": "b4744a7e",
   "metadata": {},
   "outputs": [],
   "source": [
    "marks[5]=500"
   ]
  },
  {
   "cell_type": "code",
   "execution_count": 254,
   "id": "f58e6cfc",
   "metadata": {},
   "outputs": [
    {
     "data": {
      "text/plain": [
       "[98, 95, 78, 95, 79, 500, 45]"
      ]
     },
     "execution_count": 254,
     "metadata": {},
     "output_type": "execute_result"
    }
   ],
   "source": [
    "marks"
   ]
  },
  {
   "cell_type": "code",
   "execution_count": 258,
   "id": "0bba7a6b",
   "metadata": {},
   "outputs": [],
   "source": [
    "marks.extend(['45','89','52'])"
   ]
  },
  {
   "cell_type": "code",
   "execution_count": 259,
   "id": "ea2f686a",
   "metadata": {},
   "outputs": [
    {
     "data": {
      "text/plain": [
       "[98, 95, 78, 95, 79, 500, 45, '45', '89', '52']"
      ]
     },
     "execution_count": 259,
     "metadata": {},
     "output_type": "execute_result"
    }
   ],
   "source": [
    "marks"
   ]
  },
  {
   "cell_type": "code",
   "execution_count": 261,
   "id": "ec3fb0a9",
   "metadata": {},
   "outputs": [
    {
     "data": {
      "text/plain": [
       "10"
      ]
     },
     "execution_count": 261,
     "metadata": {},
     "output_type": "execute_result"
    }
   ],
   "source": [
    "len (marks)"
   ]
  },
  {
   "cell_type": "code",
   "execution_count": 2,
   "id": "b1cda4d1",
   "metadata": {},
   "outputs": [
    {
     "data": {
      "text/plain": [
       "3.1622776601683795"
      ]
     },
     "execution_count": 2,
     "metadata": {},
     "output_type": "execute_result"
    }
   ],
   "source": [
    "import math\n",
    "math.sqrt(10)"
   ]
  },
  {
   "cell_type": "code",
   "execution_count": 2,
   "id": "20ffae30",
   "metadata": {},
   "outputs": [
    {
     "name": "stdout",
     "output_type": "stream",
     "text": [
      "enter a 15.10\n",
      "enter b 20.10\n",
      "enter h 30.10\n"
     ]
    },
    {
     "data": {
      "text/plain": [
       "529.7600000000001"
      ]
     },
     "execution_count": 2,
     "metadata": {},
     "output_type": "execute_result"
    }
   ],
   "source": [
    "#AREA OF TRAPEZIUM\n",
    "a=float(input('enter a '))\n",
    "b=float(input('enter b '))\n",
    "h=float(input('enter h '))\n",
    "area=1/2*(a+b)*h\n",
    "area"
   ]
  },
  {
   "cell_type": "code",
   "execution_count": 3,
   "id": "52653e80",
   "metadata": {},
   "outputs": [
    {
     "name": "stdout",
     "output_type": "stream",
     "text": [
      "enter a number 51\n"
     ]
    },
    {
     "data": {
      "text/plain": [
       "320.44245066618"
      ]
     },
     "execution_count": 3,
     "metadata": {},
     "output_type": "execute_result"
    }
   ],
   "source": [
    "pi=3.14159265359\n",
    "r=float(input('enter a number '))\n",
    "c=2*pi*r\n",
    "c"
   ]
  },
  {
   "cell_type": "markdown",
   "id": "d669236d",
   "metadata": {},
   "source": [
    "DATA STRUCTURE \n",
    "\n",
    "TUPLE "
   ]
  },
  {
   "cell_type": "code",
   "execution_count": 6,
   "id": "b39789ea",
   "metadata": {},
   "outputs": [],
   "source": [
    "t=(15,20,30,15,5,7,9,15,21,90)"
   ]
  },
  {
   "cell_type": "code",
   "execution_count": 12,
   "id": "456e9d5a",
   "metadata": {},
   "outputs": [
    {
     "data": {
      "text/plain": [
       "(15, 20, 30, 15, 5, 7, 9, 15, 21, 90)"
      ]
     },
     "execution_count": 12,
     "metadata": {},
     "output_type": "execute_result"
    }
   ],
   "source": [
    "t"
   ]
  },
  {
   "cell_type": "code",
   "execution_count": 13,
   "id": "20b8f89c",
   "metadata": {},
   "outputs": [
    {
     "data": {
      "text/plain": [
       "15"
      ]
     },
     "execution_count": 13,
     "metadata": {},
     "output_type": "execute_result"
    }
   ],
   "source": [
    "t[0]"
   ]
  },
  {
   "cell_type": "code",
   "execution_count": 14,
   "id": "bf4821b2",
   "metadata": {
    "scrolled": true
   },
   "outputs": [
    {
     "data": {
      "text/plain": [
       "7"
      ]
     },
     "execution_count": 14,
     "metadata": {},
     "output_type": "execute_result"
    }
   ],
   "source": [
    "t[5]"
   ]
  },
  {
   "cell_type": "code",
   "execution_count": 15,
   "id": "a3f9eccd",
   "metadata": {},
   "outputs": [
    {
     "ename": "TypeError",
     "evalue": "'tuple' object does not support item assignment",
     "output_type": "error",
     "traceback": [
      "\u001b[1;31m---------------------------------------------------------------------------\u001b[0m",
      "\u001b[1;31mTypeError\u001b[0m                                 Traceback (most recent call last)",
      "Cell \u001b[1;32mIn[15], line 1\u001b[0m\n\u001b[1;32m----> 1\u001b[0m t[\u001b[38;5;241m0\u001b[39m]\u001b[38;5;241m=\u001b[39m\u001b[38;5;241m11\u001b[39m\n",
      "\u001b[1;31mTypeError\u001b[0m: 'tuple' object does not support item assignment"
     ]
    }
   ],
   "source": [
    "t[0]=11"
   ]
  },
  {
   "cell_type": "code",
   "execution_count": null,
   "id": "b564cbc6",
   "metadata": {},
   "outputs": [],
   "source": [
    "#in tuple you can't change the value\n",
    "#tuple are index base \n",
    "but \n",
    "in list you can change the value "
   ]
  },
  {
   "cell_type": "code",
   "execution_count": 17,
   "id": "8caac794",
   "metadata": {},
   "outputs": [],
   "source": [
    "li=[15,20,14,16,19,20,51,100]"
   ]
  },
  {
   "cell_type": "code",
   "execution_count": 53,
   "id": "91482d6c",
   "metadata": {},
   "outputs": [],
   "source": [
    "li[0]='navin'"
   ]
  },
  {
   "cell_type": "code",
   "execution_count": 54,
   "id": "fc8fbbe7",
   "metadata": {},
   "outputs": [
    {
     "data": {
      "text/plain": [
       "['navin', 20, 14, 16, 19, 100, 51, 100]"
      ]
     },
     "execution_count": 54,
     "metadata": {},
     "output_type": "execute_result"
    }
   ],
   "source": [
    "li"
   ]
  },
  {
   "cell_type": "code",
   "execution_count": 19,
   "id": "98474a09",
   "metadata": {},
   "outputs": [
    {
     "data": {
      "text/plain": [
       "20"
      ]
     },
     "execution_count": 19,
     "metadata": {},
     "output_type": "execute_result"
    }
   ],
   "source": [
    "li[5]"
   ]
  },
  {
   "cell_type": "code",
   "execution_count": 20,
   "id": "28d0f795",
   "metadata": {},
   "outputs": [],
   "source": [
    "li[5]=100"
   ]
  },
  {
   "cell_type": "code",
   "execution_count": 21,
   "id": "38f24c6b",
   "metadata": {},
   "outputs": [
    {
     "data": {
      "text/plain": [
       "[15, 20, 14, 16, 19, 100, 51, 100]"
      ]
     },
     "execution_count": 21,
     "metadata": {},
     "output_type": "execute_result"
    }
   ],
   "source": [
    "li"
   ]
  },
  {
   "cell_type": "markdown",
   "id": "00d4a0c6",
   "metadata": {},
   "source": [
    "DICTIONARY"
   ]
  },
  {
   "cell_type": "markdown",
   "id": "6b33248d",
   "metadata": {},
   "source": [
    "dic={'key':value,'key':value, 'key':value}"
   ]
  },
  {
   "cell_type": "code",
   "execution_count": 22,
   "id": "6ad82a7b",
   "metadata": {},
   "outputs": [],
   "source": [
    "dic={'id':101,'name':'navin','grade':'A'}"
   ]
  },
  {
   "cell_type": "code",
   "execution_count": 23,
   "id": "bf305100",
   "metadata": {},
   "outputs": [
    {
     "data": {
      "text/plain": [
       "{'id': 101, 'name': 'navin', 'grade': 'A'}"
      ]
     },
     "execution_count": 23,
     "metadata": {},
     "output_type": "execute_result"
    }
   ],
   "source": [
    "dic"
   ]
  },
  {
   "cell_type": "code",
   "execution_count": 25,
   "id": "0792bfe8",
   "metadata": {},
   "outputs": [
    {
     "data": {
      "text/plain": [
       "dict_keys(['id', 'name', 'grade'])"
      ]
     },
     "execution_count": 25,
     "metadata": {},
     "output_type": "execute_result"
    }
   ],
   "source": [
    "dic.keys()"
   ]
  },
  {
   "cell_type": "code",
   "execution_count": 26,
   "id": "de169059",
   "metadata": {},
   "outputs": [
    {
     "data": {
      "text/plain": [
       "dict_values([101, 'navin', 'A'])"
      ]
     },
     "execution_count": 26,
     "metadata": {},
     "output_type": "execute_result"
    }
   ],
   "source": [
    "dic.values()"
   ]
  },
  {
   "cell_type": "code",
   "execution_count": 27,
   "id": "c4e9792e",
   "metadata": {},
   "outputs": [
    {
     "data": {
      "text/plain": [
       "101"
      ]
     },
     "execution_count": 27,
     "metadata": {},
     "output_type": "execute_result"
    }
   ],
   "source": [
    "dic['id']"
   ]
  },
  {
   "cell_type": "code",
   "execution_count": 28,
   "id": "16eb3bc3",
   "metadata": {},
   "outputs": [
    {
     "data": {
      "text/plain": [
       "'navin'"
      ]
     },
     "execution_count": 28,
     "metadata": {},
     "output_type": "execute_result"
    }
   ],
   "source": [
    "dic[\"name\"]"
   ]
  },
  {
   "cell_type": "code",
   "execution_count": 29,
   "id": "5ec14272",
   "metadata": {},
   "outputs": [
    {
     "data": {
      "text/plain": [
       "{'id': 101, 'name': 'navin', 'grade': 'A'}"
      ]
     },
     "execution_count": 29,
     "metadata": {},
     "output_type": "execute_result"
    }
   ],
   "source": [
    "dic"
   ]
  },
  {
   "cell_type": "code",
   "execution_count": 31,
   "id": "fd69506e",
   "metadata": {},
   "outputs": [
    {
     "data": {
      "text/plain": [
       "dict_items([('id', 101), ('name', 'navin'), ('grade', 'A')])"
      ]
     },
     "execution_count": 31,
     "metadata": {},
     "output_type": "execute_result"
    }
   ],
   "source": [
    "dic.items()"
   ]
  },
  {
   "cell_type": "code",
   "execution_count": 33,
   "id": "644a9ab3",
   "metadata": {},
   "outputs": [
    {
     "data": {
      "text/plain": [
       "dict_keys(['id', 'name', 'grade'])"
      ]
     },
     "execution_count": 33,
     "metadata": {},
     "output_type": "execute_result"
    }
   ],
   "source": [
    "dic.keys()"
   ]
  },
  {
   "cell_type": "markdown",
   "id": "41ea537e",
   "metadata": {},
   "source": [
    "ADD THE COLUMN IN DICTIONARY"
   ]
  },
  {
   "cell_type": "code",
   "execution_count": 75,
   "id": "25c3e2ad",
   "metadata": {},
   "outputs": [],
   "source": [
    "dic.update({'age':25})"
   ]
  },
  {
   "cell_type": "code",
   "execution_count": 37,
   "id": "28b6ece6",
   "metadata": {},
   "outputs": [
    {
     "data": {
      "text/plain": [
       "dict_items([('id', 101), ('name', 'navin'), ('grade', 'A'), ('age', 25)])"
      ]
     },
     "execution_count": 37,
     "metadata": {},
     "output_type": "execute_result"
    }
   ],
   "source": [
    "dic.items()"
   ]
  },
  {
   "cell_type": "code",
   "execution_count": 38,
   "id": "08b83250",
   "metadata": {},
   "outputs": [
    {
     "data": {
      "text/plain": [
       "{'id': 101, 'name': 'navin', 'grade': 'A', 'age': 25}"
      ]
     },
     "execution_count": 38,
     "metadata": {},
     "output_type": "execute_result"
    }
   ],
   "source": [
    "dic"
   ]
  },
  {
   "cell_type": "code",
   "execution_count": 39,
   "id": "514934b3",
   "metadata": {},
   "outputs": [
    {
     "data": {
      "text/plain": [
       "25"
      ]
     },
     "execution_count": 39,
     "metadata": {},
     "output_type": "execute_result"
    }
   ],
   "source": [
    "dic['age']"
   ]
  },
  {
   "cell_type": "code",
   "execution_count": 44,
   "id": "7e5f9b3f",
   "metadata": {},
   "outputs": [],
   "source": [
    "dic['age']=26"
   ]
  },
  {
   "cell_type": "code",
   "execution_count": 45,
   "id": "83997ab2",
   "metadata": {},
   "outputs": [
    {
     "data": {
      "text/plain": [
       "{'id': 101, 'name': 'navin', 'grade': 'A', 'age': 26}"
      ]
     },
     "execution_count": 45,
     "metadata": {},
     "output_type": "execute_result"
    }
   ],
   "source": [
    "dic"
   ]
  },
  {
   "cell_type": "code",
   "execution_count": 47,
   "id": "ef114d21",
   "metadata": {},
   "outputs": [],
   "source": [
    "#Dictionary is mutable\n",
    "you can change the value "
   ]
  },
  {
   "cell_type": "code",
   "execution_count": 49,
   "id": "c931eab0",
   "metadata": {},
   "outputs": [],
   "source": [
    "dic['name']='navin singh'"
   ]
  },
  {
   "cell_type": "code",
   "execution_count": 50,
   "id": "cb2ae773",
   "metadata": {},
   "outputs": [
    {
     "data": {
      "text/plain": [
       "{'id': 101, 'name': 'navin singh', 'grade': 'A', 'age': 26}"
      ]
     },
     "execution_count": 50,
     "metadata": {},
     "output_type": "execute_result"
    }
   ],
   "source": [
    "dic"
   ]
  },
  {
   "cell_type": "code",
   "execution_count": 76,
   "id": "549c80aa",
   "metadata": {},
   "outputs": [
    {
     "data": {
      "text/plain": [
       "25"
      ]
     },
     "execution_count": 76,
     "metadata": {},
     "output_type": "execute_result"
    }
   ],
   "source": [
    "#delete the value\n",
    "dic.pop('age')"
   ]
  },
  {
   "cell_type": "code",
   "execution_count": 72,
   "id": "891d7b79",
   "metadata": {},
   "outputs": [
    {
     "data": {
      "text/plain": [
       "{'id': 101, 'name': 'navin singh', 'grade': 'A'}"
      ]
     },
     "execution_count": 72,
     "metadata": {},
     "output_type": "execute_result"
    }
   ],
   "source": [
    "#delete the value\n",
    "dic"
   ]
  },
  {
   "cell_type": "code",
   "execution_count": 77,
   "id": "5e998d8f",
   "metadata": {},
   "outputs": [],
   "source": [
    "dic.update({'email':'ksingh9398@gmail.com'})"
   ]
  },
  {
   "cell_type": "code",
   "execution_count": 78,
   "id": "2db99f75",
   "metadata": {},
   "outputs": [
    {
     "data": {
      "text/plain": [
       "{'id': 101,\n",
       " 'name': 'navin singh',\n",
       " 'grade': 'A',\n",
       " 'email': 'ksingh9398@gmail.com'}"
      ]
     },
     "execution_count": 78,
     "metadata": {},
     "output_type": "execute_result"
    }
   ],
   "source": [
    "dic"
   ]
  },
  {
   "cell_type": "code",
   "execution_count": 79,
   "id": "0f3469bd",
   "metadata": {},
   "outputs": [],
   "source": [
    "dic.update({'dummy':154248})"
   ]
  },
  {
   "cell_type": "code",
   "execution_count": 80,
   "id": "29808bfb",
   "metadata": {},
   "outputs": [
    {
     "data": {
      "text/plain": [
       "{'id': 101,\n",
       " 'name': 'navin singh',\n",
       " 'grade': 'A',\n",
       " 'email': 'ksingh9398@gmail.com',\n",
       " 'dummy': 154248}"
      ]
     },
     "execution_count": 80,
     "metadata": {},
     "output_type": "execute_result"
    }
   ],
   "source": [
    "dic"
   ]
  },
  {
   "cell_type": "code",
   "execution_count": 82,
   "id": "c2297f09",
   "metadata": {},
   "outputs": [
    {
     "data": {
      "text/plain": [
       "154248"
      ]
     },
     "execution_count": 82,
     "metadata": {},
     "output_type": "execute_result"
    }
   ],
   "source": [
    "dic.pop('dummy')"
   ]
  },
  {
   "cell_type": "code",
   "execution_count": 83,
   "id": "8fa6f196",
   "metadata": {},
   "outputs": [
    {
     "data": {
      "text/plain": [
       "{'id': 101,\n",
       " 'name': 'navin singh',\n",
       " 'grade': 'A',\n",
       " 'email': 'ksingh9398@gmail.com'}"
      ]
     },
     "execution_count": 83,
     "metadata": {},
     "output_type": "execute_result"
    }
   ],
   "source": [
    "dic"
   ]
  },
  {
   "cell_type": "markdown",
   "id": "94b1e82a",
   "metadata": {},
   "source": [
    "ENTER MULTIPLE VALUE IN DICTIIONARY"
   ]
  },
  {
   "cell_type": "markdown",
   "id": "4c918fc2",
   "metadata": {},
   "source": [
    "table={'key':value,'key':value,'key':value,'key':value}"
   ]
  },
  {
   "cell_type": "code",
   "execution_count": 95,
   "id": "a403daeb",
   "metadata": {},
   "outputs": [],
   "source": [
    "table={'id':[1,2,3],'name':['navin','pawan','nitish'],'age':[25,27,26]}"
   ]
  },
  {
   "cell_type": "code",
   "execution_count": 86,
   "id": "946c872e",
   "metadata": {},
   "outputs": [
    {
     "data": {
      "text/plain": [
       "{'id': [1, 2, 3], 'name': ['navin', 'pawan', 'nitish'], 'age': [25, 27, 26]}"
      ]
     },
     "execution_count": 86,
     "metadata": {},
     "output_type": "execute_result"
    }
   ],
   "source": [
    "table"
   ]
  },
  {
   "cell_type": "code",
   "execution_count": 87,
   "id": "09502acf",
   "metadata": {},
   "outputs": [
    {
     "data": {
      "text/plain": [
       "dict_keys(['id', 'name', 'age'])"
      ]
     },
     "execution_count": 87,
     "metadata": {},
     "output_type": "execute_result"
    }
   ],
   "source": [
    "table.keys()"
   ]
  },
  {
   "cell_type": "code",
   "execution_count": 88,
   "id": "f1648ef6",
   "metadata": {},
   "outputs": [
    {
     "data": {
      "text/plain": [
       "dict_values([[1, 2, 3], ['navin', 'pawan', 'nitish'], [25, 27, 26]])"
      ]
     },
     "execution_count": 88,
     "metadata": {},
     "output_type": "execute_result"
    }
   ],
   "source": [
    "table.values()"
   ]
  },
  {
   "cell_type": "code",
   "execution_count": 89,
   "id": "0832eecc",
   "metadata": {},
   "outputs": [
    {
     "data": {
      "text/plain": [
       "dict_items([('id', [1, 2, 3]), ('name', ['navin', 'pawan', 'nitish']), ('age', [25, 27, 26])])"
      ]
     },
     "execution_count": 89,
     "metadata": {},
     "output_type": "execute_result"
    }
   ],
   "source": [
    "table.items()"
   ]
  },
  {
   "cell_type": "code",
   "execution_count": 90,
   "id": "6bd5e9d5",
   "metadata": {},
   "outputs": [],
   "source": [
    "table.update({'id':4, 'name':'kunti','age':28})"
   ]
  },
  {
   "cell_type": "code",
   "execution_count": 91,
   "id": "7d8c4270",
   "metadata": {},
   "outputs": [
    {
     "data": {
      "text/plain": [
       "{'id': 4, 'name': 'kunti', 'age': 28}"
      ]
     },
     "execution_count": 91,
     "metadata": {},
     "output_type": "execute_result"
    }
   ],
   "source": [
    "table"
   ]
  },
  {
   "cell_type": "code",
   "execution_count": 93,
   "id": "64fda483",
   "metadata": {},
   "outputs": [
    {
     "data": {
      "text/plain": [
       "dict_keys(['id', 'name', 'age'])"
      ]
     },
     "execution_count": 93,
     "metadata": {},
     "output_type": "execute_result"
    }
   ],
   "source": [
    "table.keys()"
   ]
  },
  {
   "cell_type": "code",
   "execution_count": 94,
   "id": "b7765148",
   "metadata": {},
   "outputs": [
    {
     "data": {
      "text/plain": [
       "dict_items([('id', 4), ('name', 'kunti'), ('age', 28)])"
      ]
     },
     "execution_count": 94,
     "metadata": {},
     "output_type": "execute_result"
    }
   ],
   "source": [
    "table.items()"
   ]
  },
  {
   "cell_type": "code",
   "execution_count": 96,
   "id": "d8e85c0c",
   "metadata": {},
   "outputs": [
    {
     "data": {
      "text/plain": [
       "{'id': [1, 2, 3], 'name': ['navin', 'pawan', 'nitish'], 'age': [25, 27, 26]}"
      ]
     },
     "execution_count": 96,
     "metadata": {},
     "output_type": "execute_result"
    }
   ],
   "source": [
    "table"
   ]
  },
  {
   "cell_type": "code",
   "execution_count": 97,
   "id": "979110d2",
   "metadata": {},
   "outputs": [
    {
     "data": {
      "text/plain": [
       "[1, 2, 3]"
      ]
     },
     "execution_count": 97,
     "metadata": {},
     "output_type": "execute_result"
    }
   ],
   "source": [
    "table['id']"
   ]
  },
  {
   "cell_type": "code",
   "execution_count": 98,
   "id": "6a68e1ac",
   "metadata": {},
   "outputs": [
    {
     "data": {
      "text/plain": [
       "['navin', 'pawan', 'nitish']"
      ]
     },
     "execution_count": 98,
     "metadata": {},
     "output_type": "execute_result"
    }
   ],
   "source": [
    "table['name']"
   ]
  },
  {
   "cell_type": "code",
   "execution_count": 99,
   "id": "5074409c",
   "metadata": {},
   "outputs": [
    {
     "data": {
      "text/plain": [
       "[25, 27, 26]"
      ]
     },
     "execution_count": 99,
     "metadata": {},
     "output_type": "execute_result"
    }
   ],
   "source": [
    "table['age']"
   ]
  },
  {
   "cell_type": "code",
   "execution_count": 100,
   "id": "3333e6c5",
   "metadata": {},
   "outputs": [
    {
     "data": {
      "text/plain": [
       "1"
      ]
     },
     "execution_count": 100,
     "metadata": {},
     "output_type": "execute_result"
    }
   ],
   "source": [
    "table['id'][0]"
   ]
  },
  {
   "cell_type": "code",
   "execution_count": 101,
   "id": "f49b5f1b",
   "metadata": {},
   "outputs": [
    {
     "data": {
      "text/plain": [
       "'nitish'"
      ]
     },
     "execution_count": 101,
     "metadata": {},
     "output_type": "execute_result"
    }
   ],
   "source": [
    "table['name'][2]"
   ]
  },
  {
   "cell_type": "code",
   "execution_count": 103,
   "id": "4d1401ce",
   "metadata": {},
   "outputs": [],
   "source": [
    "table['name'][0]='navin singh'"
   ]
  },
  {
   "cell_type": "code",
   "execution_count": 153,
   "id": "4b3f3b1b",
   "metadata": {},
   "outputs": [
    {
     "data": {
      "text/plain": [
       "{'id': [1, 2, 3],\n",
       " 'name': ['navin singh', 'pawan', 'nitish'],\n",
       " 'age': [25, 27, 26],\n",
       " 'marks': 25}"
      ]
     },
     "execution_count": 153,
     "metadata": {},
     "output_type": "execute_result"
    }
   ],
   "source": [
    "table"
   ]
  },
  {
   "cell_type": "code",
   "execution_count": 154,
   "id": "c6cfbe4c",
   "metadata": {},
   "outputs": [
    {
     "data": {
      "text/plain": [
       "dict"
      ]
     },
     "execution_count": 154,
     "metadata": {},
     "output_type": "execute_result"
    }
   ],
   "source": [
    "type(table)"
   ]
  },
  {
   "cell_type": "code",
   "execution_count": 107,
   "id": "477d9f07",
   "metadata": {},
   "outputs": [],
   "source": [
    "table.update({'marks':25})"
   ]
  },
  {
   "cell_type": "code",
   "execution_count": 108,
   "id": "0b78016c",
   "metadata": {},
   "outputs": [
    {
     "data": {
      "text/plain": [
       "{'id': [1, 2, 3],\n",
       " 'name': ['navin singh', 'pawan', 'nitish'],\n",
       " 'age': [25, 27, 26],\n",
       " 'marks': 25}"
      ]
     },
     "execution_count": 108,
     "metadata": {},
     "output_type": "execute_result"
    }
   ],
   "source": [
    "table"
   ]
  },
  {
   "cell_type": "code",
   "execution_count": 109,
   "id": "d17c6703",
   "metadata": {},
   "outputs": [],
   "source": [
    "#if you want to clear items \n",
    "#if you want to delete the ddictionary "
   ]
  },
  {
   "cell_type": "markdown",
   "id": "1e7ae895",
   "metadata": {},
   "source": [
    "SETS"
   ]
  },
  {
   "cell_type": "code",
   "execution_count": 118,
   "id": "08873d17",
   "metadata": {},
   "outputs": [],
   "source": [
    "# set does not allow duplicate value \n",
    "# set does not suport index value \n",
    "a={10,12,13,14,78,12,68,12}"
   ]
  },
  {
   "cell_type": "code",
   "execution_count": 115,
   "id": "622be765",
   "metadata": {},
   "outputs": [
    {
     "data": {
      "text/plain": [
       "{10, 12, 13, 14, 68, 78}"
      ]
     },
     "execution_count": 115,
     "metadata": {},
     "output_type": "execute_result"
    }
   ],
   "source": [
    "a"
   ]
  },
  {
   "cell_type": "code",
   "execution_count": 117,
   "id": "6f9754d8",
   "metadata": {},
   "outputs": [
    {
     "ename": "TypeError",
     "evalue": "'set' object is not subscriptable",
     "output_type": "error",
     "traceback": [
      "\u001b[1;31m---------------------------------------------------------------------------\u001b[0m",
      "\u001b[1;31mTypeError\u001b[0m                                 Traceback (most recent call last)",
      "Cell \u001b[1;32mIn[117], line 1\u001b[0m\n\u001b[1;32m----> 1\u001b[0m \u001b[43ma\u001b[49m\u001b[43m[\u001b[49m\u001b[38;5;241;43m0\u001b[39;49m\u001b[43m]\u001b[49m\n",
      "\u001b[1;31mTypeError\u001b[0m: 'set' object is not subscriptable"
     ]
    }
   ],
   "source": [
    "a[0]  "
   ]
  },
  {
   "cell_type": "code",
   "execution_count": 126,
   "id": "53952dc8",
   "metadata": {},
   "outputs": [],
   "source": [
    "# 2nd option to write the set\n",
    "\n",
    "b=set([15,18,21,10,100,25,27])"
   ]
  },
  {
   "cell_type": "code",
   "execution_count": 127,
   "id": "8fbeb4c1",
   "metadata": {},
   "outputs": [
    {
     "data": {
      "text/plain": [
       "{10, 15, 18, 21, 25, 27, 100}"
      ]
     },
     "execution_count": 127,
     "metadata": {},
     "output_type": "execute_result"
    }
   ],
   "source": [
    "b"
   ]
  },
  {
   "cell_type": "markdown",
   "id": "adf40247",
   "metadata": {},
   "source": [
    "ADD THE VALUE IN SETS\n",
    "\n",
    "the value will add in anywhere between in set "
   ]
  },
  {
   "cell_type": "code",
   "execution_count": 128,
   "id": "a5eb5356",
   "metadata": {},
   "outputs": [],
   "source": [
    "set={'sunday','monday','tuesday','wednesday','thuresday','friday','saturday'}"
   ]
  },
  {
   "cell_type": "code",
   "execution_count": 129,
   "id": "ff8468e7",
   "metadata": {},
   "outputs": [
    {
     "data": {
      "text/plain": [
       "{'friday', 'monday', 'saturday', 'sunday', 'thuresday', 'tuesday', 'wednesday'}"
      ]
     },
     "execution_count": 129,
     "metadata": {},
     "output_type": "execute_result"
    }
   ],
   "source": [
    "set"
   ]
  },
  {
   "cell_type": "code",
   "execution_count": 137,
   "id": "4a443848",
   "metadata": {},
   "outputs": [],
   "source": [
    "set.add('kundri')"
   ]
  },
  {
   "cell_type": "code",
   "execution_count": 138,
   "id": "77ae6eff",
   "metadata": {},
   "outputs": [
    {
     "data": {
      "text/plain": [
       "{'friday',\n",
       " 'kundri',\n",
       " 'monday',\n",
       " 'monkey',\n",
       " 'saturday',\n",
       " 'sunday',\n",
       " 'thuresday',\n",
       " 'tuesday',\n",
       " 'wednesday'}"
      ]
     },
     "execution_count": 138,
     "metadata": {},
     "output_type": "execute_result"
    }
   ],
   "source": [
    "set"
   ]
  },
  {
   "cell_type": "code",
   "execution_count": 140,
   "id": "37d849aa",
   "metadata": {},
   "outputs": [
    {
     "data": {
      "text/plain": [
       "'thuresday'"
      ]
     },
     "execution_count": 140,
     "metadata": {},
     "output_type": "execute_result"
    }
   ],
   "source": [
    "set.pop()"
   ]
  },
  {
   "cell_type": "code",
   "execution_count": 132,
   "id": "d80dc59d",
   "metadata": {},
   "outputs": [],
   "source": [
    "m={15,17,19,20,17,97,58,78,63,}"
   ]
  },
  {
   "cell_type": "code",
   "execution_count": 133,
   "id": "43597b7a",
   "metadata": {},
   "outputs": [
    {
     "data": {
      "text/plain": [
       "{15, 17, 19, 20, 58, 63, 78, 97}"
      ]
     },
     "execution_count": 133,
     "metadata": {},
     "output_type": "execute_result"
    }
   ],
   "source": [
    "m"
   ]
  },
  {
   "cell_type": "code",
   "execution_count": 152,
   "id": "ae2a0e7f",
   "metadata": {},
   "outputs": [
    {
     "data": {
      "text/plain": [
       "set"
      ]
     },
     "execution_count": 152,
     "metadata": {},
     "output_type": "execute_result"
    }
   ],
   "source": [
    "m.add(45)\n",
    "type(m)"
   ]
  },
  {
   "cell_type": "code",
   "execution_count": 151,
   "id": "287f82f5",
   "metadata": {},
   "outputs": [
    {
     "data": {
      "text/plain": [
       "{15, 17, 19, 20, 45, 58, 63, 78}"
      ]
     },
     "execution_count": 151,
     "metadata": {},
     "output_type": "execute_result"
    }
   ],
   "source": [
    "m"
   ]
  },
  {
   "cell_type": "code",
   "execution_count": 139,
   "id": "44ca58aa",
   "metadata": {},
   "outputs": [
    {
     "data": {
      "text/plain": [
       "97"
      ]
     },
     "execution_count": 139,
     "metadata": {},
     "output_type": "execute_result"
    }
   ],
   "source": [
    "m.pop()"
   ]
  },
  {
   "cell_type": "code",
   "execution_count": 141,
   "id": "a57b9c08",
   "metadata": {},
   "outputs": [
    {
     "data": {
      "text/plain": [
       "{15, 17, 19, 20, 45, 58, 63, 78}"
      ]
     },
     "execution_count": 141,
     "metadata": {},
     "output_type": "execute_result"
    }
   ],
   "source": [
    "m"
   ]
  },
  {
   "cell_type": "code",
   "execution_count": 143,
   "id": "164a6a0d",
   "metadata": {},
   "outputs": [
    {
     "data": {
      "text/plain": [
       "(1, 2, 3)"
      ]
     },
     "execution_count": 143,
     "metadata": {},
     "output_type": "execute_result"
    }
   ],
   "source": [
    "t=(1,2,3)\n",
    "t"
   ]
  },
  {
   "cell_type": "code",
   "execution_count": 144,
   "id": "0fa103d0",
   "metadata": {},
   "outputs": [
    {
     "data": {
      "text/plain": [
       "tuple"
      ]
     },
     "execution_count": 144,
     "metadata": {},
     "output_type": "execute_result"
    }
   ],
   "source": [
    "type(t)"
   ]
  },
  {
   "cell_type": "code",
   "execution_count": 146,
   "id": "f0aac1e6",
   "metadata": {},
   "outputs": [
    {
     "data": {
      "text/plain": [
       "[1, 2, 3]"
      ]
     },
     "execution_count": 146,
     "metadata": {},
     "output_type": "execute_result"
    }
   ],
   "source": [
    "mylist=list(t)\n",
    "mylist"
   ]
  },
  {
   "cell_type": "code",
   "execution_count": 147,
   "id": "5373488c",
   "metadata": {},
   "outputs": [
    {
     "data": {
      "text/plain": [
       "list"
      ]
     },
     "execution_count": 147,
     "metadata": {},
     "output_type": "execute_result"
    }
   ],
   "source": [
    "type(mylist)"
   ]
  },
  {
   "cell_type": "markdown",
   "id": "852996bb",
   "metadata": {},
   "source": [
    "LOOP"
   ]
  },
  {
   "cell_type": "markdown",
   "id": "5541b515",
   "metadata": {},
   "source": [
    "WHILE LOOP"
   ]
  },
  {
   "cell_type": "code",
   "execution_count": 162,
   "id": "a80bf884",
   "metadata": {},
   "outputs": [
    {
     "name": "stdout",
     "output_type": "stream",
     "text": [
      "0\n",
      "2\n"
     ]
    }
   ],
   "source": [
    "i=0\n",
    "while(i<3):\n",
    "    print(i)\n",
    "    i=i+2"
   ]
  },
  {
   "cell_type": "code",
   "execution_count": 167,
   "id": "bf08c8c0",
   "metadata": {},
   "outputs": [
    {
     "name": "stdout",
     "output_type": "stream",
     "text": [
      "k= 1\n",
      "k= 3\n",
      "k= 5\n",
      "k= 7\n",
      "k= 9\n",
      "k= 11\n",
      "k= 13\n",
      "k= 15\n",
      "k= 17\n",
      "k= 19\n",
      "k= 21\n",
      "k= 23\n",
      "k= 25\n",
      "k= 27\n",
      "k= 29\n",
      "k= 31\n",
      "k= 33\n",
      "k= 35\n",
      "k= 37\n",
      "k= 39\n",
      "k= 41\n",
      "k= 43\n",
      "k= 45\n",
      "k= 47\n",
      "k= 49\n",
      "end of loop\n"
     ]
    }
   ],
   "source": [
    "k=1\n",
    "while(k<50):\n",
    "    print(\"k=\",k)\n",
    "    k=k+2\n",
    "print('end of loop')"
   ]
  },
  {
   "cell_type": "code",
   "execution_count": 179,
   "id": "6c730df8",
   "metadata": {},
   "outputs": [
    {
     "name": "stdout",
     "output_type": "stream",
     "text": [
      "value of M =  2\n",
      "value of M =  3\n",
      "value of M =  4\n",
      "value of M =  5\n",
      "value of M =  6\n",
      "value of M =  7\n",
      "value of M =  8\n",
      "value of M =  9\n",
      "value of M =  10\n",
      "value of M =  11\n",
      "value of M =  12\n",
      "value of M =  13\n",
      "value of M =  14\n",
      "value of M =  15\n",
      "value of M =  16\n",
      "value of M =  17\n",
      "value of M =  18\n",
      "value of M =  19\n",
      "value of M =  20\n",
      "value of M =  21\n",
      "value of M =  22\n",
      "value of M =  23\n",
      "value of M =  24\n",
      "value of M =  25\n",
      "value of M =  26\n",
      "value of M =  27\n",
      "value of M =  28\n",
      "value of M =  29\n",
      "end of loop\n"
     ]
    }
   ],
   "source": [
    "m=2\n",
    "while(m<30):\n",
    "    print(\"value of M = \", m)\n",
    "    m=m+1\n",
    "    \n",
    "print(\"end of loop\")"
   ]
  },
  {
   "cell_type": "code",
   "execution_count": 180,
   "id": "d4c777e1",
   "metadata": {},
   "outputs": [
    {
     "name": "stdout",
     "output_type": "stream",
     "text": [
      "we have\n",
      "0\n",
      "we are in while loop\n",
      "we have\n",
      "1\n",
      "we are in while loop\n",
      "we have\n",
      "2\n",
      "we are in while loop\n",
      "we have\n",
      "3\n",
      "we are in while loop\n",
      "we have\n",
      "4\n",
      "we are in while loop\n"
     ]
    }
   ],
   "source": [
    "b=0\n",
    "while(b<5):\n",
    "    print('we have')\n",
    "    print(b)\n",
    "    print('we are in while loop')\n",
    "    b=b+1"
   ]
  },
  {
   "cell_type": "code",
   "execution_count": 184,
   "id": "54d13c8d",
   "metadata": {},
   "outputs": [
    {
     "name": "stdout",
     "output_type": "stream",
     "text": [
      "i =  1 inside while loop\n",
      "i =  3 inside while loop\n",
      "end loop\n"
     ]
    }
   ],
   "source": [
    "# end= \" \"  this command is for result are Horizontal\n",
    "i=1\n",
    "while(i<5):\n",
    "    print(\"i = \", i,end=\" \")\n",
    "    print(\"inside while loop\")\n",
    "    i=i+2\n",
    "    \n",
    "print('end loop')"
   ]
  },
  {
   "cell_type": "code",
   "execution_count": 182,
   "id": "1df327a7",
   "metadata": {},
   "outputs": [
    {
     "name": "stdout",
     "output_type": "stream",
     "text": [
      "1 2 3 4 5 6 7 8 9 "
     ]
    }
   ],
   "source": [
    "n=1\n",
    "while(n<10):\n",
    "    print(n,end=' ')\n",
    "    n=n+1"
   ]
  },
  {
   "cell_type": "code",
   "execution_count": 189,
   "id": "0708cd6e",
   "metadata": {},
   "outputs": [
    {
     "name": "stdout",
     "output_type": "stream",
     "text": [
      "1 2 3 4 5 6 7 8 9 10 11 12 13 14 15 16 17 18 19 20 21 22 23 24 25 26 27 28 29 30 31 32 33 34 35 36 37 38 39 40 41 42 43 44 45 46 47 48 49 50 51 52 53 54 55 56 57 58 59 60 61 62 63 64 65 66 67 68 69 70 71 72 73 74 75 76 77 78 79 80 81 82 83 84 85 86 87 88 89 90 91 92 93 94 95 96 97 98 99 100 "
     ]
    }
   ],
   "source": [
    "k=1\n",
    "while(k<=100):\n",
    "    print(k,end=\" \")\n",
    "    k=k+1"
   ]
  },
  {
   "cell_type": "code",
   "execution_count": 195,
   "id": "a8760649",
   "metadata": {},
   "outputs": [
    {
     "name": "stdout",
     "output_type": "stream",
     "text": [
      "10 ,  20 ,  30 ,  40 ,  50 ,  60 ,  70 ,  80 ,  90 ,  100 ,  110 ,  120 ,  130 ,  140 ,  150 ,  160 ,  170 ,  180 ,  190 ,  200 ,  210 ,  220 ,  230 ,  240 ,  250 ,  260 ,  270 ,  280 ,  290 ,  300 ,  310 ,  320 ,  330 ,  340 ,  350 ,  360 ,  370 ,  380 ,  390 ,  400 ,  410 ,  420 ,  430 ,  440 ,  "
     ]
    }
   ],
   "source": [
    "o=10\n",
    "while(o<450):\n",
    "    print(o,end=\" ,  \")\n",
    "    o=o+10"
   ]
  },
  {
   "cell_type": "markdown",
   "id": "2814bd69",
   "metadata": {},
   "source": [
    "WRITE THE TABLE OF 2"
   ]
  },
  {
   "cell_type": "code",
   "execution_count": 196,
   "id": "3bc67f77",
   "metadata": {},
   "outputs": [
    {
     "name": "stdout",
     "output_type": "stream",
     "text": [
      "2 * 1 = 2\n",
      "2 * 2 = 4\n",
      "2 * 3 = 6\n",
      "2 * 4 = 8\n",
      "2 * 5 = 10\n",
      "2 * 6 = 12\n",
      "2 * 7 = 14\n",
      "2 * 8 = 16\n",
      "2 * 9 = 18\n"
     ]
    }
   ],
   "source": [
    "i=1\n",
    "j=2\n",
    "while(i<10):\n",
    "    print(j,'*', i, '=',j*i)\n",
    "    i=i+1"
   ]
  },
  {
   "cell_type": "markdown",
   "id": "70a33268",
   "metadata": {},
   "source": [
    "INPUT A NUMBER"
   ]
  },
  {
   "cell_type": "code",
   "execution_count": 208,
   "id": "d4a67c17",
   "metadata": {},
   "outputs": [
    {
     "name": "stdout",
     "output_type": "stream",
     "text": [
      "enter a number of k 1\n",
      "enter a number p 5\n",
      "5 * 1 = 5\n",
      "5 * 2 = 10\n",
      "5 * 3 = 15\n",
      "5 * 4 = 20\n",
      "5 * 5 = 25\n",
      "5 * 6 = 30\n",
      "5 * 7 = 35\n",
      "5 * 8 = 40\n",
      "5 * 9 = 45\n",
      "5 * 10 = 50\n"
     ]
    }
   ],
   "source": [
    "k=int(input('enter a number of k '))\n",
    "p=int(input('enter a number p '))\n",
    "while(k<=10):\n",
    "    print(p, '*', k, '=', p*k)\n",
    "    k=k+1"
   ]
  },
  {
   "cell_type": "code",
   "execution_count": 213,
   "id": "324c3882",
   "metadata": {},
   "outputs": [
    {
     "name": "stdout",
     "output_type": "stream",
     "text": [
      "enter a number of k= 1\n",
      "enter a number p= 5\n",
      "5.0 * 1 = 5.0\n",
      "5.0 * 2 = 10.0\n",
      "5.0 * 3 = 15.0\n",
      "5.0 * 4 = 20.0\n",
      "5.0 * 5 = 25.0\n",
      "5.0 * 6 = 30.0\n",
      "5.0 * 7 = 35.0\n",
      "5.0 * 8 = 40.0\n",
      "5.0 * 9 = 45.0\n",
      "5.0 * 10 = 50.0\n",
      "end\n"
     ]
    }
   ],
   "source": [
    "k=int(input('enter a number of k= '))\n",
    "p=float(input('enter a number p= '))\n",
    "while(k<=10):\n",
    "    print(p, '*', k, '=', p*k)\n",
    "    k=k+1\n",
    "print('end')"
   ]
  },
  {
   "cell_type": "markdown",
   "id": "7f73929f",
   "metadata": {},
   "source": [
    "FOR LOOP"
   ]
  },
  {
   "cell_type": "code",
   "execution_count": 215,
   "id": "e7cda7be",
   "metadata": {},
   "outputs": [
    {
     "name": "stdout",
     "output_type": "stream",
     "text": [
      "12 48 1 78 25 94 35 51 "
     ]
    }
   ],
   "source": [
    "for n in [12,48,1,78,25,94,35,51]:\n",
    "    print(n,end=\" \")"
   ]
  },
  {
   "cell_type": "code",
   "execution_count": 219,
   "id": "f0bfbcf6",
   "metadata": {},
   "outputs": [
    {
     "name": "stdout",
     "output_type": "stream",
     "text": [
      "mango , banana , apple , grapes , kiwi , "
     ]
    }
   ],
   "source": [
    "#its work on index value also\n",
    "\n",
    "for p in ['mango','banana','apple','grapes','kiwi']:\n",
    "    print(p,end=' , ')"
   ]
  },
  {
   "cell_type": "code",
   "execution_count": 224,
   "id": "9d01e8f3",
   "metadata": {},
   "outputs": [
    {
     "name": "stdout",
     "output_type": "stream",
     "text": [
      "15.4\n",
      "14\n",
      "78\n",
      "15.29\n",
      "navin\n",
      "mango\n",
      "false\n",
      "ture\n",
      "kundri\n",
      "end the value\n"
     ]
    }
   ],
   "source": [
    "for m in [15.4,14,78,15.29,'navin','mango','false', 'ture', 'kundri']:\n",
    "    print(m)\n",
    "    \n",
    "print('end the value')"
   ]
  },
  {
   "cell_type": "markdown",
   "id": "2400c70d",
   "metadata": {},
   "source": [
    "RANAGE"
   ]
  },
  {
   "cell_type": "code",
   "execution_count": 226,
   "id": "9e5f4667",
   "metadata": {},
   "outputs": [
    {
     "data": {
      "text/plain": [
       "range(0, 5)"
      ]
     },
     "execution_count": 226,
     "metadata": {},
     "output_type": "execute_result"
    }
   ],
   "source": [
    "range(5)"
   ]
  },
  {
   "cell_type": "code",
   "execution_count": 227,
   "id": "ad062c30",
   "metadata": {},
   "outputs": [
    {
     "data": {
      "text/plain": [
       "[0, 1, 2, 3, 4]"
      ]
     },
     "execution_count": 227,
     "metadata": {},
     "output_type": "execute_result"
    }
   ],
   "source": [
    "list(range(5))"
   ]
  },
  {
   "cell_type": "code",
   "execution_count": 235,
   "id": "220d2dc6",
   "metadata": {},
   "outputs": [
    {
     "data": {
      "text/plain": [
       "[0, 1, 2, 3, 4, 5, 6, 7, 8]"
      ]
     },
     "execution_count": 235,
     "metadata": {},
     "output_type": "execute_result"
    }
   ],
   "source": [
    "list(range(9))"
   ]
  },
  {
   "cell_type": "code",
   "execution_count": 236,
   "id": "8331f88a",
   "metadata": {},
   "outputs": [],
   "source": [
    "#THE LAST VALUE IS EXCULISIVE (NOT COUNT)"
   ]
  },
  {
   "cell_type": "code",
   "execution_count": 237,
   "id": "04e79b9d",
   "metadata": {},
   "outputs": [
    {
     "data": {
      "text/plain": [
       "range(0, 10)"
      ]
     },
     "execution_count": 237,
     "metadata": {},
     "output_type": "execute_result"
    }
   ],
   "source": [
    "range(10)"
   ]
  },
  {
   "cell_type": "code",
   "execution_count": 242,
   "id": "33bd0190",
   "metadata": {},
   "outputs": [
    {
     "data": {
      "text/plain": [
       "[0, 1, 2, 3, 4, 5, 6, 7, 8, 9]"
      ]
     },
     "execution_count": 242,
     "metadata": {},
     "output_type": "execute_result"
    }
   ],
   "source": [
    "list(range(10))"
   ]
  },
  {
   "cell_type": "markdown",
   "id": "6a63df52",
   "metadata": {},
   "source": [
    "USE THE RANGE COMMAND IN FOR LOOD"
   ]
  },
  {
   "cell_type": "code",
   "execution_count": 248,
   "id": "466e969e",
   "metadata": {},
   "outputs": [
    {
     "name": "stdout",
     "output_type": "stream",
     "text": [
      "0\n",
      "1\n",
      "2\n",
      "3\n",
      "4\n",
      "end the loop\n"
     ]
    }
   ],
   "source": [
    "for i in range(5):\n",
    "    print(i)\n",
    "\n",
    "print('end the loop')"
   ]
  },
  {
   "cell_type": "markdown",
   "id": "ef73ce51",
   "metadata": {},
   "source": [
    "RANGE BY THE INDEX"
   ]
  },
  {
   "cell_type": "code",
   "execution_count": 250,
   "id": "60bcbbe1",
   "metadata": {},
   "outputs": [
    {
     "data": {
      "text/plain": [
       "range(1, 7)"
      ]
     },
     "execution_count": 250,
     "metadata": {},
     "output_type": "execute_result"
    }
   ],
   "source": [
    "# start index , end index\n",
    "range(1,7)"
   ]
  },
  {
   "cell_type": "code",
   "execution_count": 251,
   "id": "c47ff084",
   "metadata": {},
   "outputs": [
    {
     "data": {
      "text/plain": [
       "[0, 1, 2, 3, 4, 5, 6]"
      ]
     },
     "execution_count": 251,
     "metadata": {},
     "output_type": "execute_result"
    }
   ],
   "source": [
    "list(range(0,7))"
   ]
  },
  {
   "cell_type": "code",
   "execution_count": 253,
   "id": "2bd38d96",
   "metadata": {},
   "outputs": [
    {
     "name": "stdout",
     "output_type": "stream",
     "text": [
      "number10\n"
     ]
    },
    {
     "data": {
      "text/plain": [
       "[0, 1, 2, 3, 4, 5, 6, 7, 8, 9]"
      ]
     },
     "execution_count": 253,
     "metadata": {},
     "output_type": "execute_result"
    }
   ],
   "source": [
    "list(range(0,int(input('number'))))"
   ]
  },
  {
   "cell_type": "markdown",
   "id": "f8351afa",
   "metadata": {},
   "source": [
    "JUMP -----\n",
    "range(start index, end index, skip (jump))"
   ]
  },
  {
   "cell_type": "code",
   "execution_count": 257,
   "id": "389b0bb5",
   "metadata": {},
   "outputs": [
    {
     "data": {
      "text/plain": [
       "[1, 3, 5, 7, 9, 11, 13]"
      ]
     },
     "execution_count": 257,
     "metadata": {},
     "output_type": "execute_result"
    }
   ],
   "source": [
    "list(range(1,15,2))"
   ]
  },
  {
   "cell_type": "code",
   "execution_count": 260,
   "id": "17301aeb",
   "metadata": {},
   "outputs": [
    {
     "data": {
      "text/plain": [
       "[1, 4, 7]"
      ]
     },
     "execution_count": 260,
     "metadata": {},
     "output_type": "execute_result"
    }
   ],
   "source": [
    "list(range(1,10,3))"
   ]
  },
  {
   "cell_type": "code",
   "execution_count": 261,
   "id": "323a1851",
   "metadata": {},
   "outputs": [
    {
     "data": {
      "text/plain": [
       "[5, 7, 9, 11, 13, 15, 17, 19, 21, 23]"
      ]
     },
     "execution_count": 261,
     "metadata": {},
     "output_type": "execute_result"
    }
   ],
   "source": [
    "list(range(5,25,2))"
   ]
  },
  {
   "cell_type": "code",
   "execution_count": 263,
   "id": "439a0914",
   "metadata": {},
   "outputs": [
    {
     "name": "stdout",
     "output_type": "stream",
     "text": [
      "1\n",
      "2\n",
      "3\n",
      "4\n",
      "5\n",
      "6\n",
      "7\n",
      "8\n",
      "9\n",
      "10\n"
     ]
    }
   ],
   "source": [
    "for k in range(1,11):\n",
    "    print(k)"
   ]
  },
  {
   "cell_type": "code",
   "execution_count": 274,
   "id": "1deea8d2",
   "metadata": {},
   "outputs": [
    {
     "name": "stdout",
     "output_type": "stream",
     "text": [
      "maximum number = 78\n",
      "1 , 6 , 11 , 16 , 21 , 26 , 31 , 36 , 41 , 46 , 51 , 56 , 61 , 66 , 71 , 76 , "
     ]
    }
   ],
   "source": [
    "for m in range(1,int(input('maximum number = ')),5):\n",
    "    print(m,end= \" , \")"
   ]
  },
  {
   "cell_type": "code",
   "execution_count": 283,
   "id": "c3fd0be9",
   "metadata": {},
   "outputs": [
    {
     "name": "stdout",
     "output_type": "stream",
     "text": [
      "enter a number = 15\n",
      "15 * 1 = 15\n",
      "15 * 2 = 30\n",
      "15 * 3 = 45\n",
      "15 * 4 = 60\n",
      "15 * 5 = 75\n",
      "15 * 6 = 90\n",
      "15 * 7 = 105\n",
      "15 * 8 = 120\n",
      "15 * 9 = 135\n",
      "15 * 10 = 150\n",
      "end the loop\n"
     ]
    }
   ],
   "source": [
    "#WRITE THE TABLE OF \n",
    "k=int(input('enter a number = '))\n",
    "for m in range(1,11):\n",
    "    print(k,\"*\",m,\"=\", k*m)\n",
    "    \n",
    "print('end the loop')"
   ]
  },
  {
   "cell_type": "code",
   "execution_count": 286,
   "id": "43f78095",
   "metadata": {},
   "outputs": [
    {
     "name": "stdout",
     "output_type": "stream",
     "text": [
      "average\n"
     ]
    }
   ],
   "source": [
    "marks=23\n",
    "if (marks > 50):\n",
    "    print(\"very good\")\n",
    "else:\n",
    "    print('average')"
   ]
  },
  {
   "cell_type": "code",
   "execution_count": 290,
   "id": "379ee0bc",
   "metadata": {},
   "outputs": [
    {
     "name": "stdout",
     "output_type": "stream",
     "text": [
      "enter a number51\n",
      "very good\n"
     ]
    }
   ],
   "source": [
    "marks=int(input('enter a number'))\n",
    "if (marks > 50):\n",
    "    print(\"very good\")\n",
    "else:\n",
    "    print('average')"
   ]
  },
  {
   "cell_type": "code",
   "execution_count": 295,
   "id": "9c78537d",
   "metadata": {},
   "outputs": [
    {
     "name": "stdout",
     "output_type": "stream",
     "text": [
      "input any number51\n",
      "number is odd\n"
     ]
    }
   ],
   "source": [
    "num=int(input('input any number'))\n",
    "if (num%2==0):\n",
    "    print(\"number is EVEN\")\n",
    "    \n",
    "else:\n",
    "    print('number is odd')\n",
    "    "
   ]
  },
  {
   "cell_type": "markdown",
   "id": "5dfaab58",
   "metadata": {},
   "source": [
    "BREAK CONDITION "
   ]
  },
  {
   "cell_type": "code",
   "execution_count": 301,
   "id": "f550074a",
   "metadata": {},
   "outputs": [
    {
     "name": "stdout",
     "output_type": "stream",
     "text": [
      "10\n",
      "20\n"
     ]
    }
   ],
   "source": [
    "for i in [10,20,30,40,50]:\n",
    "    if(i==30):\n",
    "        break\n",
    "    print(i)\n",
    "    \n",
    "# if the condition will true then the break will work otherwise break will not gone work"
   ]
  },
  {
   "cell_type": "markdown",
   "id": "42944f73",
   "metadata": {},
   "source": [
    "CONTINUE LOOP"
   ]
  },
  {
   "cell_type": "code",
   "execution_count": 303,
   "id": "37eecf83",
   "metadata": {},
   "outputs": [
    {
     "name": "stdout",
     "output_type": "stream",
     "text": [
      "10\n",
      "20\n",
      "40\n",
      "50\n"
     ]
    }
   ],
   "source": [
    "for k in [10,20,30,40,50]:\n",
    "    if (k==30):\n",
    "        continue\n",
    "        \n",
    "    print(k)\n",
    "# 30 is missing in result because in 30 condition is true, the 30 is missing and loop will continue."
   ]
  },
  {
   "cell_type": "code",
   "execution_count": 310,
   "id": "a3c64ed5",
   "metadata": {},
   "outputs": [
    {
     "name": "stdout",
     "output_type": "stream",
     "text": [
      "a\n",
      "inside\n",
      "b\n",
      "inside\n",
      "d\n",
      "inside\n",
      "e\n",
      "inside\n",
      "end the loop\n"
     ]
    }
   ],
   "source": [
    "for d in ['a','b','c','d','e']:\n",
    "    if(d=='c'):\n",
    "        continue\n",
    "    print(d)\n",
    "    print(\"inside\")\n",
    "print('end the loop')"
   ]
  },
  {
   "cell_type": "markdown",
   "id": "bff76d42",
   "metadata": {},
   "source": [
    "# PROVE THE MATHMATICS FORMULA "
   ]
  },
  {
   "cell_type": "code",
   "execution_count": 7,
   "id": "40279764",
   "metadata": {},
   "outputs": [
    {
     "name": "stdout",
     "output_type": "stream",
     "text": [
      "a\n",
      "b\n"
     ]
    }
   ],
   "source": [
    "for d in ['a','b','c','d','e']:\n",
    "    if(d=='c'):\n",
    "        break\n",
    "    print(d)\n",
    "    "
   ]
  },
  {
   "cell_type": "code",
   "execution_count": 8,
   "id": "185fc459",
   "metadata": {},
   "outputs": [
    {
     "name": "stdout",
     "output_type": "stream",
     "text": [
      "enter r = 15\n",
      "area of circle = 706.5\n"
     ]
    }
   ],
   "source": [
    "#area of circle\n",
    "pi=3.14\n",
    "r=float(input('enter r = '))\n",
    "area= pi* r**2\n",
    "print('area of circle =',area)"
   ]
  },
  {
   "cell_type": "code",
   "execution_count": 9,
   "id": "f394b3f5",
   "metadata": {},
   "outputs": [
    {
     "name": "stdout",
     "output_type": "stream",
     "text": [
      "enter r =20\n"
     ]
    },
    {
     "data": {
      "text/plain": [
       "2400.0"
      ]
     },
     "execution_count": 9,
     "metadata": {},
     "output_type": "execute_result"
    }
   ],
   "source": [
    "#area of cube\n",
    "\n",
    "a=float(input('enter r ='))\n",
    "area=6*(a**2)\n",
    "area"
   ]
  },
  {
   "cell_type": "code",
   "execution_count": 10,
   "id": "7a95ff90",
   "metadata": {},
   "outputs": [
    {
     "name": "stdout",
     "output_type": "stream",
     "text": [
      "r=  21\n",
      "h= 20\n",
      "volume =  27694.8\n"
     ]
    }
   ],
   "source": [
    "#VOLUME OF CYLINDER\n",
    "\n",
    "pi=3.14\n",
    "r=float(input('r=  '))\n",
    "h=float(input('h= '))\n",
    "volume=pi*r**2*h\n",
    "\n",
    "print('volume = ', volume)"
   ]
  },
  {
   "cell_type": "code",
   "execution_count": 13,
   "id": "a42a98a7",
   "metadata": {},
   "outputs": [
    {
     "name": "stdout",
     "output_type": "stream",
     "text": [
      "r= 14\n",
      "h= 12\n",
      "volume of cone=  2463.00864041456\n"
     ]
    }
   ],
   "source": [
    "#VOLUME OF CONE\n",
    "\n",
    "pi=3.14159265359\n",
    "r=float(input('r= '))\n",
    "h=float(input('h= '))\n",
    "\n",
    "volume=pi*r**2*h/3\n",
    "print('volume of cone= ',volume)"
   ]
  },
  {
   "cell_type": "code",
   "execution_count": 14,
   "id": "9896a95c",
   "metadata": {},
   "outputs": [
    {
     "name": "stdout",
     "output_type": "stream",
     "text": [
      "r = 12.6\n",
      "volume of sphere =  8379.155394690331\n"
     ]
    }
   ],
   "source": [
    "#VOLUME OF SPHERE\n",
    "pi=3.14159265359\n",
    "r=float(input('r = '))\n",
    "volume=4/3*pi*r**3\n",
    "print('volume of sphere = ',volume)"
   ]
  },
  {
   "cell_type": "code",
   "execution_count": 17,
   "id": "ddc7312c",
   "metadata": {},
   "outputs": [
    {
     "name": "stdout",
     "output_type": "stream",
     "text": [
      "p= 15.8\n",
      "r= 16.\n",
      "t= 85.67\n",
      "si =  216.57376\n"
     ]
    }
   ],
   "source": [
    "#Sinmple intrest\n",
    "p=float(input('p= '))\n",
    "r=float(input('r= '))\n",
    "t=float(input('t= '))\n",
    "si=p*r*t/100\n",
    "print('si = ',si)"
   ]
  },
  {
   "cell_type": "code",
   "execution_count": 28,
   "id": "7610700e",
   "metadata": {},
   "outputs": [
    {
     "name": "stdout",
     "output_type": "stream",
     "text": [
      "r = 14\n",
      "area of circle 615.75216010364\n"
     ]
    }
   ],
   "source": [
    "#AREA OF CIRCLE\n",
    "pi=3.14159265359\n",
    "r=float(input('r = '))\n",
    "area=pi*r**2\n",
    "print('area of circle', area)"
   ]
  },
  {
   "cell_type": "code",
   "execution_count": null,
   "id": "a8136374",
   "metadata": {},
   "outputs": [],
   "source": []
  },
  {
   "cell_type": "code",
   "execution_count": null,
   "id": "475eb34d",
   "metadata": {},
   "outputs": [],
   "source": []
  }
 ],
 "metadata": {
  "kernelspec": {
   "display_name": "Python 3 (ipykernel)",
   "language": "python",
   "name": "python3"
  },
  "language_info": {
   "codemirror_mode": {
    "name": "ipython",
    "version": 3
   },
   "file_extension": ".py",
   "mimetype": "text/x-python",
   "name": "python",
   "nbconvert_exporter": "python",
   "pygments_lexer": "ipython3",
   "version": "3.10.9"
  }
 },
 "nbformat": 4,
 "nbformat_minor": 5
}
