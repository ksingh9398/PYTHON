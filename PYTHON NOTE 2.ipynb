{
 "cells": [
  {
   "cell_type": "code",
   "execution_count": null,
   "id": "e98b2b2b",
   "metadata": {},
   "outputs": [],
   "source": []
  },
  {
   "cell_type": "markdown",
   "id": "01f21371",
   "metadata": {},
   "source": [
    "# WELCOME TO THE WORLD OF PYTHON Mr. \"NAVIN SINGH\""
   ]
  },
  {
   "cell_type": "markdown",
   "id": "6d7791b4",
   "metadata": {},
   "source": [
    "FROM 08 JULY TO TILL NOW"
   ]
  },
  {
   "cell_type": "raw",
   "id": "7c704c61",
   "metadata": {},
   "source": [
    "DATE = 08 JUNLY 2023"
   ]
  },
  {
   "cell_type": "markdown",
   "id": "e936869c",
   "metadata": {},
   "source": [
    "# RegEx-- Regular Expressions "
   ]
  },
  {
   "cell_type": "markdown",
   "id": "4a0b7d64",
   "metadata": {},
   "source": [
    "RegEx - Regular expressions, often abbreviated as RegEx or regex, are a powerful tool for pattern matching and text\n",
    "manipulation. They provide a concise and flexible way to search, extract, and manipulate strings of text based on \n",
    "specific patterns.\n",
    "\n",
    "However, regular expressions can be complex and tricky to work with, especially for complex patterns. It's essential to understand the syntax and behavior of regular expressions before using them. Python's re module provides a set of \n",
    "functions and methods to work with regular expressions, such as search() match(), findall(), and sub(), which make it \n",
    "easier to leverage their power within your Python code.\n"
   ]
  },
  {
   "cell_type": "markdown",
   "id": "9c64552e",
   "metadata": {},
   "source": [
    "Function -Description\n",
    "\n",
    "* findall - Returns a list containing all matches \n",
    "* search - Returns a Match object if there is a match anywhere in the string \n",
    "* split - Returns a list where the string has been split at each match\n",
    "* sub-Replaces one or many matches with a string"
   ]
  },
  {
   "cell_type": "code",
   "execution_count": 5,
   "id": "c8390363",
   "metadata": {},
   "outputs": [
    {
     "name": "stdout",
     "output_type": "stream",
     "text": [
      "['Data Science', 'Data Science']\n"
     ]
    }
   ],
   "source": [
    "# * FINDALL=  \n",
    "import re     # re =(regular expression)\n",
    "pattern= 'Data Science'\n",
    "text='Data Science is a strem and it is a part of AI. you can solve many complec problems using Data Science toll and tech'\n",
    "matches=re.findall(pattern,text)\n",
    "print(matches)"
   ]
  },
  {
   "cell_type": "code",
   "execution_count": 9,
   "id": "ae22bd12",
   "metadata": {},
   "outputs": [
    {
     "name": "stdout",
     "output_type": "stream",
     "text": [
      "['Data Science', 'Data Science']\n"
     ]
    }
   ],
   "source": [
    "import re     # re =(regular expression)\n",
    "pa= 'Data Science'\n",
    "text='Data Science is a strem and it is a part of AI. you can solve many complec problems using Data Science toll and tech'\n",
    "mat=re.findall(pa,text)\n",
    "print(mat)\n",
    "\n",
    "# this is very casesencative "
   ]
  },
  {
   "cell_type": "code",
   "execution_count": 10,
   "id": "0e896cfe",
   "metadata": {},
   "outputs": [
    {
     "name": "stdout",
     "output_type": "stream",
     "text": [
      "['Data Science', 'Data Science']\n"
     ]
    }
   ],
   "source": [
    "pa= 'Data Science'\n",
    "text='Data Science is a strem and it is a part of AI. you can solve many complec problems using Data Science toll and tech'\n",
    "mat=re.findall(pa,text)\n",
    "print(mat)"
   ]
  },
  {
   "cell_type": "code",
   "execution_count": 18,
   "id": "25f638e5",
   "metadata": {},
   "outputs": [
    {
     "name": "stdout",
     "output_type": "stream",
     "text": [
      "['navin', 'navin']\n"
     ]
    }
   ],
   "source": [
    "import re\n",
    "na='navin'\n",
    "matter='Navin is a good boy and navin is a smart boy who will be a data scientist, navin is super boy'\n",
    "search=re.findall(na,matter)\n",
    "print(search)"
   ]
  },
  {
   "cell_type": "code",
   "execution_count": 23,
   "id": "8cf0b7c6",
   "metadata": {},
   "outputs": [
    {
     "name": "stdout",
     "output_type": "stream",
     "text": [
      "['123', '456']\n"
     ]
    }
   ],
   "source": [
    "import re\n",
    "pattern='\\d+'\n",
    "text='there are 123 apples and 456 orange'\n",
    "matches=re.findall(pattern,text)\n",
    "print(matches)"
   ]
  },
  {
   "cell_type": "code",
   "execution_count": 43,
   "id": "d2eef013",
   "metadata": {},
   "outputs": [
    {
     "name": "stdout",
     "output_type": "stream",
     "text": [
      "['50']['60']['150']"
     ]
    }
   ],
   "source": [
    "prince=['apple costs rs 50', 'rs 60 for each pineapple', 'rs 150 per watermelon']\n",
    "for msg in prince:\n",
    "    matches=re.findall('\\d+',msg)\n",
    "    print(matches,end='')"
   ]
  },
  {
   "cell_type": "code",
   "execution_count": 48,
   "id": "9c934c2a",
   "metadata": {},
   "outputs": [
    {
     "name": "stdout",
     "output_type": "stream",
     "text": [
      "['50']\n"
     ]
    }
   ],
   "source": [
    "prince=['apple costs rs 50']\n",
    "for msg in prince:\n",
    "    matches=re.findall('\\d+',msg)\n",
    "    print(matches)"
   ]
  },
  {
   "cell_type": "markdown",
   "id": "c8016b7f",
   "metadata": {},
   "source": [
    "SEARCH"
   ]
  },
  {
   "cell_type": "code",
   "execution_count": 31,
   "id": "d61b685e",
   "metadata": {},
   "outputs": [
    {
     "name": "stdout",
     "output_type": "stream",
     "text": [
      "<re.Match object; span=(0, 5), match='india'>\n"
     ]
    }
   ],
   "source": [
    "test='india is our country'\n",
    "x=re.search('india',test)\n",
    "print(x)"
   ]
  },
  {
   "cell_type": "raw",
   "id": "17cd6a50",
   "metadata": {},
   "source": [
    "IF YOU HAVE  LIST MORE THEN ONE THEN YOU HAVE TO USE FOR LOOP. IT'S JARURI"
   ]
  },
  {
   "cell_type": "code",
   "execution_count": 61,
   "id": "b80461f5",
   "metadata": {},
   "outputs": [
    {
     "name": "stdout",
     "output_type": "stream",
     "text": [
      "None\n",
      "<re.Match object; span=(10, 14), match='girl'>\n",
      "<re.Match object; span=(16, 20), match='girl'>\n",
      "<re.Match object; span=(14, 18), match='girl'>\n",
      "None\n",
      "<re.Match object; span=(20, 24), match='girl'>\n"
     ]
    }
   ],
   "source": [
    "masage=['navin is a boye',\n",
    "       'mahi is a girl',\n",
    "       'punam is also a girl',\n",
    "       'rakhi is good girl',\n",
    "       'nitish is a smart boy',\n",
    "       'sulekha bhabhi is a girl']\n",
    "for m in masage:\n",
    "    matche=re.search('girl',m)\n",
    "    print(matche)\n",
    "    \n",
    "#its give the index base results"
   ]
  },
  {
   "cell_type": "code",
   "execution_count": 62,
   "id": "b62e3a0a",
   "metadata": {},
   "outputs": [
    {
     "name": "stdout",
     "output_type": "stream",
     "text": [
      "<re.Match object; span=(0, 5), match='india'>\n",
      "<re.Match object; span=(0, 5), match='india'>\n",
      "<re.Match object; span=(0, 5), match='india'>\n"
     ]
    }
   ],
   "source": [
    "test=['india is our country','india is big country','india is super country']\n",
    "for t in test:\n",
    "    x=re.search('india',t)\n",
    "    print(x)"
   ]
  },
  {
   "cell_type": "code",
   "execution_count": 64,
   "id": "1a7ff5c2",
   "metadata": {},
   "outputs": [
    {
     "name": "stdout",
     "output_type": "stream",
     "text": [
      "<re.Match object; span=(0, 5), match='india'>\n"
     ]
    }
   ],
   "source": [
    "test='india is our country india is a good boy'\n",
    "x=re.search('india',test)\n",
    "print(x)"
   ]
  },
  {
   "cell_type": "code",
   "execution_count": 66,
   "id": "c22e6039",
   "metadata": {},
   "outputs": [
    {
     "name": "stdout",
     "output_type": "stream",
     "text": [
      "<re.Match object; span=(0, 28), match='This Product is really Great'>\n"
     ]
    }
   ],
   "source": [
    "mag='This Product is really Great'\n",
    "search=re.search('^This.*Great$',mag)\n",
    "print(search)"
   ]
  },
  {
   "cell_type": "code",
   "execution_count": 71,
   "id": "3a563e0c",
   "metadata": {},
   "outputs": [
    {
     "name": "stdout",
     "output_type": "stream",
     "text": [
      "<re.Match object; span=(0, 46), match='navin is a good boy and very smart boy and boy'>\n"
     ]
    }
   ],
   "source": [
    "ton='navin is a good boy and very smart boy and boy'\n",
    "se=re.search('^navin .* boy$',ton)\n",
    "print(se)"
   ]
  },
  {
   "cell_type": "markdown",
   "id": "24150bbd",
   "metadata": {},
   "source": [
    "SPLIT FUNCTION"
   ]
  },
  {
   "cell_type": "raw",
   "id": "1c778ca7",
   "metadata": {},
   "source": [
    "This function is used to change the all of sentance into list"
   ]
  },
  {
   "cell_type": "code",
   "execution_count": 81,
   "id": "5320395e",
   "metadata": {},
   "outputs": [
    {
     "name": "stdout",
     "output_type": "stream",
     "text": [
      "['india', 'is', 'a', 'beautiful', 'country']\n"
     ]
    }
   ],
   "source": [
    "text='india is a beautiful country'\n",
    "x=re.split('\\s',text)\n",
    "print(x)\n",
    "# it's change acording to space value"
   ]
  },
  {
   "cell_type": "code",
   "execution_count": 85,
   "id": "acd1aea1",
   "metadata": {},
   "outputs": [
    {
     "name": "stdout",
     "output_type": "stream",
     "text": [
      "list of n =  ['india', 'is', 'a', 'very', 'powerfull', 'country', 'and', 'navin', 'singh', 'will', 'be', 'a', 'great', 'data', 'scientist']\n"
     ]
    }
   ],
   "source": [
    "na='india is a very powerfull country and navin singh will be a great data scientist'\n",
    "n=re.split('\\s',na)\n",
    "print('list of n = ',n)"
   ]
  },
  {
   "cell_type": "markdown",
   "id": "b21037cd",
   "metadata": {},
   "source": [
    "POSITION SPLIT"
   ]
  },
  {
   "cell_type": "code",
   "execution_count": 91,
   "id": "ff5d8449",
   "metadata": {},
   "outputs": [
    {
     "name": "stdout",
     "output_type": "stream",
     "text": [
      "['how', 'is this posible']\n"
     ]
    }
   ],
   "source": [
    "by='how is this posible'\n",
    "x=re.split('\\s',by,1)   # 1 is for range : only 1 letter will change in list\n",
    "print(x)"
   ]
  },
  {
   "cell_type": "code",
   "execution_count": 95,
   "id": "3f458fd9",
   "metadata": {},
   "outputs": [
    {
     "name": "stdout",
     "output_type": "stream",
     "text": [
      "['my', 'name', 'is', 'navin', 'kumar', 'singh and i am a very good boy i love my mother so much']\n"
     ]
    }
   ],
   "source": [
    "text=\"my name is navin kumar singh and i am a very good boy i love my mother so much\"\n",
    "n=re.split('\\s',text,5)   # 5 === list will change 0 to 5 values\n",
    "print(n)"
   ]
  },
  {
   "cell_type": "markdown",
   "id": "f161c2a7",
   "metadata": {},
   "source": [
    "SUB FUNCTION"
   ]
  },
  {
   "cell_type": "code",
   "execution_count": 98,
   "id": "a3aac28f",
   "metadata": {},
   "outputs": [
    {
     "name": "stdout",
     "output_type": "stream",
     "text": [
      "navin==is==smart==data==scientist\n"
     ]
    }
   ],
   "source": [
    "# thsi function replace spaces by assigned charter\n",
    "na='navin is smart data scientist'\n",
    "k=re.sub('\\s','==',na)      # jha jha spaces hai wha wha == ho jayega \n",
    "print(k)"
   ]
  },
  {
   "cell_type": "code",
   "execution_count": 100,
   "id": "4138573d",
   "metadata": {},
   "outputs": [
    {
     "name": "stdout",
     "output_type": "stream",
     "text": [
      "my $$ mother $$ is $$ the $$ very $$ lovely\n"
     ]
    }
   ],
   "source": [
    "maa='my mother is the very lovely'\n",
    "ma=re.sub('\\s',' $$ ',maa)\n",
    "print(ma)"
   ]
  },
  {
   "cell_type": "code",
   "execution_count": 104,
   "id": "985f81d6",
   "metadata": {},
   "outputs": [
    {
     "name": "stdout",
     "output_type": "stream",
     "text": [
      "this items cost  @  50000\n"
     ]
    }
   ],
   "source": [
    "# for Saferate value change\n",
    "text= 'this items cost rs 50000'\n",
    "x=re.sub('rs',' @ ',text)  # it's change rs to @\n",
    "print(x)"
   ]
  },
  {
   "cell_type": "markdown",
   "id": "5815da2d",
   "metadata": {},
   "source": [
    "# EXCEPTION  (Run Time Error)"
   ]
  },
  {
   "cell_type": "markdown",
   "id": "fec7706a",
   "metadata": {},
   "source": [
    "in this condition not any syntax error but it's showing runtime error."
   ]
  },
  {
   "cell_type": "markdown",
   "id": "73de016f",
   "metadata": {},
   "source": [
    "EXCEPTION => an excceptionis an event wcich occurs during the excecution of a program that disrupts the normal flow of \n",
    "the program's instructions. Ingeneral when a python script encounters a situation that it can't cope with \n",
    "it raises an exception. An exception is a python object that represent an error."
   ]
  },
  {
   "cell_type": "markdown",
   "id": "6f2d4f12",
   "metadata": {},
   "source": [
    "There are many types of Runtime Error."
   ]
  },
  {
   "cell_type": "markdown",
   "id": "d585fc5b",
   "metadata": {},
   "source": [
    "HANDLING OF EXCEPTION: --- =>   if you have sum suspicious code that may raise an exception, you can defend your \n",
    "    program by placing the suspicious code in a TRY: block, after the try include an EXCEPT: stantement followed \n",
    "            by an book of code which handles the problem as elegantly as posible."
   ]
  },
  {
   "cell_type": "raw",
   "id": "5679fcd8",
   "metadata": {},
   "source": [
    "General Syntax:\n",
    "# Here is simple syntax try except else blocks.\n",
    "\n",
    "Try:\n",
    "    you do your operation here;\n",
    "    .....................................\n",
    "    except exceptionl:\n",
    "        if there is exceptionl, then excecute this block\n",
    "        except exception 2:\n",
    "            If there is exception if then execute this block\n",
    "            ....................\n",
    "            else:\n",
    "                if there is no exception then execute this block\n",
    "                \n"
   ]
  },
  {
   "cell_type": "raw",
   "id": "8cfaf562",
   "metadata": {},
   "source": [
    "EXCEPTION :=> An exception can be defined as an unusual condition in a program resulting in the interruption in the flow of the program.\n",
    "\n",
    "Whenever an exception occurs, the program stops the execution, and thus the further code is not executed. Therefore, an exception is the run-time errors that are unable to handle to Python script. An exception is a Python object that represents an error\n",
    "\n",
    "Python provides a way to handle the exception so that the code can be executed without any interruption. If we do not handle the exception, the interpreter doesn't execute all the code that exists after the exception. Few errors are as below:\n",
    "\n",
    "ZeroDivisionError: Occurs when a number is divided by zero. \n",
    "NameError: It occurs when a name is not found. It may be local or global. \n",
    "IndentationError: If incorrect indentation is given. \n",
    "IOError: It occurs when Input Output operation fails."
   ]
  },
  {
   "cell_type": "code",
   "execution_count": 2,
   "id": "fc9c96ad",
   "metadata": {},
   "outputs": [
    {
     "data": {
      "text/plain": [
       "5.0"
      ]
     },
     "execution_count": 2,
     "metadata": {},
     "output_type": "execute_result"
    }
   ],
   "source": [
    "10/2"
   ]
  },
  {
   "cell_type": "code",
   "execution_count": 15,
   "id": "554d0afb",
   "metadata": {},
   "outputs": [
    {
     "ename": "ZeroDivisionError",
     "evalue": "division by zero",
     "output_type": "error",
     "traceback": [
      "\u001b[1;31m---------------------------------------------------------------------------\u001b[0m",
      "\u001b[1;31mZeroDivisionError\u001b[0m                         Traceback (most recent call last)",
      "Cell \u001b[1;32mIn[15], line 1\u001b[0m\n\u001b[1;32m----> 1\u001b[0m \u001b[38;5;241;43m71\u001b[39;49m\u001b[38;5;241;43m/\u001b[39;49m\u001b[38;5;241;43m0\u001b[39;49m\n",
      "\u001b[1;31mZeroDivisionError\u001b[0m: division by zero"
     ]
    }
   ],
   "source": [
    "71/0\n",
    "#in this condition my syntax is correct but resut not showing error it's call \"ZeroDevistionError\""
   ]
  },
  {
   "cell_type": "code",
   "execution_count": 8,
   "id": "8b9438f2",
   "metadata": {},
   "outputs": [
    {
     "name": "stdout",
     "output_type": "stream",
     "text": [
      "handling runtime error: division by zero\n"
     ]
    }
   ],
   "source": [
    "try:\n",
    "    71/0\n",
    "except ZeroDivisionError as err:\n",
    "    print('handling runtime error:',err)"
   ]
  },
  {
   "cell_type": "code",
   "execution_count": 14,
   "id": "39408dbb",
   "metadata": {},
   "outputs": [
    {
     "name": "stdout",
     "output_type": "stream",
     "text": [
      "deviation of:  division by zero\n"
     ]
    }
   ],
   "source": [
    "try:\n",
    "    81/0\n",
    "except ZeroDivisionError as e:       # you have to write ZeroDivisionError same meaning as same format\n",
    "    print('deviation of: ',e)   "
   ]
  },
  {
   "cell_type": "code",
   "execution_count": 21,
   "id": "23bd0c70",
   "metadata": {},
   "outputs": [
    {
     "name": "stdout",
     "output_type": "stream",
     "text": [
      "division by zero\n"
     ]
    }
   ],
   "source": [
    "try:\n",
    "    l=81/0\n",
    "except ZeroDivisionError as err:\n",
    "    print(err)"
   ]
  },
  {
   "cell_type": "code",
   "execution_count": 24,
   "id": "4ba0d3ee",
   "metadata": {},
   "outputs": [
    {
     "name": "stdout",
     "output_type": "stream",
     "text": [
      "a =45\n",
      "error type =  division by zero\n"
     ]
    }
   ],
   "source": [
    "try:\n",
    "    a=int(input('a ='))\n",
    "    b=a/0\n",
    "except ZeroDivisionError as err:\n",
    "    print('error type = ',err)"
   ]
  },
  {
   "cell_type": "markdown",
   "id": "d7cec6aa",
   "metadata": {},
   "source": [
    "NAME ERROR: if you not difined any string then it's showing Name Type Error;"
   ]
  },
  {
   "cell_type": "code",
   "execution_count": 26,
   "id": "6a977eb7",
   "metadata": {},
   "outputs": [
    {
     "name": "stdout",
     "output_type": "stream",
     "text": [
      "type of error =   name 'm' is not defined\n"
     ]
    }
   ],
   "source": [
    "try:\n",
    "    8+m*2\n",
    "except NameError as na:\n",
    "    print('type of error =  ',na)"
   ]
  },
  {
   "cell_type": "markdown",
   "id": "974eed44",
   "metadata": {},
   "source": [
    "EXCEPTION = exception is used for smoothly result only, if you make normal error then result will showing very dificult"
   ]
  },
  {
   "cell_type": "code",
   "execution_count": 30,
   "id": "dedab582",
   "metadata": {},
   "outputs": [
    {
     "name": "stdout",
     "output_type": "stream",
     "text": [
      "i =0\n",
      "Zero Division Error\n"
     ]
    }
   ],
   "source": [
    "#NAME AND ZERO ERROR\n",
    "\n",
    "try:\n",
    "    i=int(input('i ='))\n",
    "    p=50/i\n",
    "except ZeroDivisionError:\n",
    "    print('Zero Division Error')\n",
    "except NameError:\n",
    "    print('name Error')\n",
    "else:\n",
    "    print(p)"
   ]
  },
  {
   "cell_type": "code",
   "execution_count": 47,
   "id": "e0cbaed7",
   "metadata": {},
   "outputs": [
    {
     "name": "stdout",
     "output_type": "stream",
     "text": [
      "i =7\n",
      "7.142857142857143\n",
      "i =9\n",
      "5.555555555555555\n",
      "i =0\n",
      "Zero Division Error\n"
     ]
    }
   ],
   "source": [
    "try:\n",
    "    for i in range(3):\n",
    "        i=int(input('i ='))\n",
    "        p=50/i\n",
    "        print(p)\n",
    "except ZeroDivisionError:\n",
    "    print('Zero Division Error')\n",
    "except NameError:\n",
    "    print('name Error')\n",
    "else:\n",
    "    print(p)"
   ]
  },
  {
   "cell_type": "code",
   "execution_count": 49,
   "id": "04655157",
   "metadata": {},
   "outputs": [
    {
     "name": "stdout",
     "output_type": "stream",
     "text": [
      "10\n",
      "20\n",
      "30\n",
      "hello\n",
      "end of the program\n"
     ]
    }
   ],
   "source": [
    "a=[10,20,30]\n",
    "try:\n",
    "    print(a[0])\n",
    "    print(a[1])\n",
    "    print(a[2])\n",
    "except:\n",
    "    print('out of program')\n",
    "else:\n",
    "    print('hello')\n",
    "finally:\n",
    "    print('end of the program')"
   ]
  },
  {
   "cell_type": "code",
   "execution_count": 50,
   "id": "5eecaba7",
   "metadata": {},
   "outputs": [
    {
     "name": "stdout",
     "output_type": "stream",
     "text": [
      "10\n",
      "20\n",
      "out of program\n",
      "end of the program\n"
     ]
    }
   ],
   "source": [
    "a=[10,20,30]\n",
    "try:\n",
    "    print(a[0])\n",
    "    print(a[1])\n",
    "    print(a[5])\n",
    "except:\n",
    "    print('out of program')\n",
    "else:\n",
    "    print('hello')\n",
    "finally:\n",
    "    print('end of the program')"
   ]
  },
  {
   "cell_type": "markdown",
   "id": "2e88a150",
   "metadata": {},
   "source": [
    "# PYTHON INHERITANCE"
   ]
  },
  {
   "cell_type": "raw",
   "id": "c487e9aa",
   "metadata": {},
   "source": [
    "Inheritance is an importan aspect of the object-oriented paradingm. Inheritance  provides code reusability to the \n",
    "program because we can use an existing class to create a new class insted of creatingit from screatch.\n",
    "\n",
    "In inheritance, the child class acquires the properaties and can access all the data members and functions defined in the\n",
    "parent class. A child class can also provide it's specific implementation to the functions of the parent class. In this section\n",
    "of the tutorial, we wil discuss inheritance in detail.\n",
    "\n",
    "In python, a derived class can inherit base class by just metioning the base in the bracket after the derived class\n",
    "name. consider the following syntax to inherit a base class into the derived class."
   ]
  },
  {
   "cell_type": "code",
   "execution_count": 51,
   "id": "352e213f",
   "metadata": {},
   "outputs": [],
   "source": [
    "class bird:\n",
    "    def speak (self):\n",
    "        print('bird speaking')"
   ]
  },
  {
   "cell_type": "code",
   "execution_count": 56,
   "id": "0a34361c",
   "metadata": {
    "scrolled": true
   },
   "outputs": [
    {
     "name": "stdout",
     "output_type": "stream",
     "text": [
      "sparrow chirping\n",
      "bird speaking\n"
     ]
    }
   ],
   "source": [
    "class sparrow(bird):\n",
    "    def chirp(self):\n",
    "        print('sparrow chirping')\n",
    "    \n",
    "\n",
    "sp=sparrow()\n",
    "sp.chirp()\n",
    "sp.speak()\n"
   ]
  },
  {
   "cell_type": "code",
   "execution_count": 61,
   "id": "80f73253",
   "metadata": {},
   "outputs": [],
   "source": [
    "class nav:\n",
    "    def smart(singh):\n",
    "        print('navin is smart boy')"
   ]
  },
  {
   "cell_type": "code",
   "execution_count": 64,
   "id": "d3533493",
   "metadata": {},
   "outputs": [
    {
     "name": "stdout",
     "output_type": "stream",
     "text": [
      "navin is male\n",
      "navin is smart boy\n"
     ]
    }
   ],
   "source": [
    "class kum(nav):\n",
    "    def male(singh):\n",
    "        print('navin is male')\n",
    "ku=kum()\n",
    "ku.male()\n",
    "ku.smart()"
   ]
  },
  {
   "cell_type": "markdown",
   "id": "40209844",
   "metadata": {},
   "source": [
    "# PYTHON MULTI-LEVEL INHERITANCE \n",
    "multi-level inheritance is possible in python like other object-oriented languages. multi-level inheritance is \n",
    "archived when a derived class inherits another derived class. there is no limit on the number of levels up to which, \n",
    "the multi-level inheritance is archived in python."
   ]
  },
  {
   "cell_type": "code",
   "execution_count": 65,
   "id": "e280fc21",
   "metadata": {},
   "outputs": [
    {
     "name": "stdout",
     "output_type": "stream",
     "text": [
      "grand father speaking\n",
      "father sleeping\n",
      "eating bread....\n"
     ]
    }
   ],
   "source": [
    "class grandfather:\n",
    "    def speak(self):\n",
    "        print('grand father speaking')\n",
    "\n",
    "class father(grandfather):\n",
    "    def sleep(self):\n",
    "        print('father sleeping')\n",
    "        \n",
    "class child(father):\n",
    "    def eat(self):\n",
    "        print('eating bread....')\n",
    "        \n",
    "\n",
    "        \n",
    "ch=child()\n",
    "ch.speak()\n",
    "ch.sleep()\n",
    "ch.eat()"
   ]
  },
  {
   "cell_type": "code",
   "execution_count": 66,
   "id": "a4cdc490",
   "metadata": {},
   "outputs": [
    {
     "name": "stdout",
     "output_type": "stream",
     "text": [
      "navin is reading\n",
      "nitis is a lovely boy\n",
      "singh is a kurmi cast\n"
     ]
    }
   ],
   "source": [
    "class navin:\n",
    "    def read(self):\n",
    "        print('navin is reading')\n",
    "        \n",
    "class nitish(navin):\n",
    "    def love(self):\n",
    "        print('nitis is a lovely boy')\n",
    "        \n",
    "class singh(nitish):\n",
    "    def cast(self):\n",
    "        print('singh is a kurmi cast')\n",
    "        \n",
    "si=singh()\n",
    "si.read()\n",
    "si.love()\n",
    "si.cast()"
   ]
  },
  {
   "cell_type": "markdown",
   "id": "5d1a7837",
   "metadata": {},
   "source": [
    "# PYTHON MULTIPLE INHERITANCE\n",
    "python provides us the flexibility to inherit multiple base classes in ht child class. \n",
    "\n",
    "=== ye 2 calculation ko ek saath result dega ==="
   ]
  },
  {
   "cell_type": "code",
   "execution_count": 68,
   "id": "0b802454",
   "metadata": {},
   "outputs": [
    {
     "name": "stdout",
     "output_type": "stream",
     "text": [
      "30\n",
      "200\n",
      "0.5\n"
     ]
    }
   ],
   "source": [
    "class calculation1:\n",
    "    def summation(self,a,b):\n",
    "        return a+b\n",
    "\n",
    "class calculation2:\n",
    "    def multiplication(self,a,b):\n",
    "        return a*b\n",
    "        \n",
    "class derived(calculation1,calculation2):\n",
    "    def divied(self,a,b):\n",
    "        return a/b\n",
    "    \n",
    "d=derived()\n",
    "print(d.summation(10,20))\n",
    "print(d.multiplication(10,20))\n",
    "print(d.divied(10,20))\n",
    "        "
   ]
  },
  {
   "cell_type": "code",
   "execution_count": 69,
   "id": "6f3956af",
   "metadata": {},
   "outputs": [
    {
     "name": "stdout",
     "output_type": "stream",
     "text": [
      "75856\n",
      "53420\n",
      "537.6\n"
     ]
    }
   ],
   "source": [
    "class calculation1:\n",
    "    def summation(self,a,b):\n",
    "        return a+b\n",
    "\n",
    "class calculation2:\n",
    "    def multiplication(self,a,b):\n",
    "        return a*b\n",
    "        \n",
    "class derived(calculation1,calculation2):\n",
    "    def divied(self,a,b):\n",
    "        return a/b\n",
    "    \n",
    "d=derived()\n",
    "print(d.summation(10,75846))\n",
    "print(d.multiplication(10,5342))\n",
    "print(d.divied(10752,20))"
   ]
  },
  {
   "cell_type": "markdown",
   "id": "5ed4f0e8",
   "metadata": {},
   "source": [
    "# METHOD OVERRIDING\n",
    "we can provide some specific implementaition of the parent class method in our child class. when the parent clas \n",
    "method is defined in the child class wiht some specific implementation, then the concept is called method overriding. \n",
    "we may need to perform method overriding in the secnario where the different definition of a parent class method is \n",
    "needed in the child class."
   ]
  },
  {
   "cell_type": "code",
   "execution_count": 70,
   "id": "ace57c62",
   "metadata": {},
   "outputs": [
    {
     "name": "stdout",
     "output_type": "stream",
     "text": [
      "barking\n"
     ]
    }
   ],
   "source": [
    "class animal:\n",
    "    def speak(self):\n",
    "        print('speaking')\n",
    "        \n",
    "class dog(animal):\n",
    "    def speak(self):\n",
    "        print('barking')\n",
    "\n",
    "d=dog()\n",
    "d.speak()"
   ]
  },
  {
   "cell_type": "code",
   "execution_count": 72,
   "id": "ebfb5191",
   "metadata": {},
   "outputs": [
    {
     "name": "stdout",
     "output_type": "stream",
     "text": [
      "bank rate of intrest: 11\n",
      "sbi rate of intrest : 7\n",
      "icici rate of intrest : 8\n"
     ]
    }
   ],
   "source": [
    "class bank:\n",
    "    def getroi(self):\n",
    "        return 11\n",
    "class sbi(bank):\n",
    "    def getroi(self):\n",
    "        return 7\n",
    "    \n",
    "class icici(bank):\n",
    "    def getroi(self):\n",
    "        return 8\n",
    "    \n",
    "b1=bank()\n",
    "b2=sbi()\n",
    "b3=icici()\n",
    "\n",
    "print('bank rate of intrest:',b1.getroi())\n",
    "print('sbi rate of intrest :',b2.getroi())\n",
    "print('icici rate of intrest :',b3.getroi())"
   ]
  },
  {
   "cell_type": "code",
   "execution_count": 77,
   "id": "578bfb74",
   "metadata": {},
   "outputs": [
    {
     "name": "stdout",
     "output_type": "stream",
     "text": [
      "sbi rate of intrest : 7\n"
     ]
    }
   ],
   "source": [
    "class bank:\n",
    "    def getroi(self):\n",
    "        return 11\n",
    "class sbi(bank):\n",
    "    def getroi(self):\n",
    "        return 7\n",
    "    \n",
    "class icici(bank):\n",
    "    def getroi(self):\n",
    "        return 8\n",
    "    \n",
    "b1=bank()\n",
    "b2=sbi()\n",
    "b3=icici()\n",
    "\n",
    "#print('bank rate of intrest:',b1.getroi())\n",
    "print('sbi rate of intrest :',b2.getroi())\n",
    "#print('icici rate of intrest :',b3.getroi())\n",
    "# If you want to call sbi only then you can do this;"
   ]
  },
  {
   "cell_type": "markdown",
   "id": "cc2d7915",
   "metadata": {},
   "source": [
    "# DATA ABSTRATION\n",
    "data abstration in python abstrationis an important aspect of object oriented plrogramming. in python. we can also perform \n",
    "data hiding by adding the double underscore(__) as a prefix to the attribute which is to be hidden. after this, the attribute \n",
    "will not be visible outside of the class through the objecct."
   ]
  },
  {
   "cell_type": "code",
   "execution_count": 82,
   "id": "dea657f0",
   "metadata": {},
   "outputs": [
    {
     "name": "stdout",
     "output_type": "stream",
     "text": [
      "AttributeError:Employee object has no attribute__count\n",
      "the number of employee 1\n"
     ]
    }
   ],
   "source": [
    "class employee:\n",
    "    __count=0\n",
    "    def __init__(self):\n",
    "        employee.__count=employee.__count+1\n",
    "    \n",
    "    def display(self):\n",
    "        print('the number of employee',employee.__count)\n",
    "        \n",
    "emp=employee()\n",
    "\n",
    "try:\n",
    "    print(emp.__count)\n",
    "except(AttributeError):\n",
    "    print('AttributeError:Employee object has no attribute__count')\n",
    "    \n",
    "finally:\n",
    "    emp.display()"
   ]
  },
  {
   "cell_type": "code",
   "execution_count": 91,
   "id": "c6a9a744",
   "metadata": {
    "scrolled": true
   },
   "outputs": [
    {
     "name": "stdout",
     "output_type": "stream",
     "text": [
      "the number of employee 1\n"
     ]
    },
    {
     "ename": "AttributeError",
     "evalue": "'employee' object has no attribute '__count'",
     "output_type": "error",
     "traceback": [
      "\u001b[1;31m---------------------------------------------------------------------------\u001b[0m",
      "\u001b[1;31mAttributeError\u001b[0m                            Traceback (most recent call last)",
      "Cell \u001b[1;32mIn[91], line 12\u001b[0m\n\u001b[0;32m      9\u001b[0m emp\u001b[38;5;241m=\u001b[39memployee()\n\u001b[0;32m     11\u001b[0m \u001b[38;5;28;01mtry\u001b[39;00m:\n\u001b[1;32m---> 12\u001b[0m     \u001b[38;5;28mprint\u001b[39m(\u001b[43memp\u001b[49m\u001b[38;5;241;43m.\u001b[39;49m\u001b[43m__count\u001b[49m)\n\u001b[0;32m     13\u001b[0m \u001b[38;5;66;03m#except(AttributeError):\u001b[39;00m\n\u001b[0;32m     14\u001b[0m     \u001b[38;5;66;03m#print('AttributeError:Employee object has no attribute__count')\u001b[39;00m\n\u001b[0;32m     15\u001b[0m     \n\u001b[0;32m     16\u001b[0m \u001b[38;5;28;01mfinally\u001b[39;00m:\n\u001b[0;32m     17\u001b[0m     emp\u001b[38;5;241m.\u001b[39mdisplay()\n",
      "\u001b[1;31mAttributeError\u001b[0m: 'employee' object has no attribute '__count'"
     ]
    }
   ],
   "source": [
    "class employee:\n",
    "    __count=0\n",
    "    def __init__(self):\n",
    "        employee.__count=employee.__count+1\n",
    "    \n",
    "    def display(self):\n",
    "        print('the number of employee',employee.__count)\n",
    "        \n",
    "emp=employee()\n",
    "\n",
    "try:\n",
    "    print(emp.__count)\n",
    "#except(AttributeError):\n",
    "    #print('AttributeError:Employee object has no attribute__count')\n",
    "    \n",
    "finally:\n",
    "    emp.display()\n",
    "    \n",
    "# If you not use Except then the code will not run."
   ]
  },
  {
   "cell_type": "code",
   "execution_count": null,
   "id": "01ec0091",
   "metadata": {},
   "outputs": [],
   "source": []
  }
 ],
 "metadata": {
  "kernelspec": {
   "display_name": "Python 3 (ipykernel)",
   "language": "python",
   "name": "python3"
  },
  "language_info": {
   "codemirror_mode": {
    "name": "ipython",
    "version": 3
   },
   "file_extension": ".py",
   "mimetype": "text/x-python",
   "name": "python",
   "nbconvert_exporter": "python",
   "pygments_lexer": "ipython3",
   "version": "3.10.12"
  }
 },
 "nbformat": 4,
 "nbformat_minor": 5
}
