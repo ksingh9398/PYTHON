{
 "cells": [
  {
   "cell_type": "markdown",
   "id": "fb799797",
   "metadata": {},
   "source": [
    "# DATE - 09/07/2023"
   ]
  },
  {
   "cell_type": "markdown",
   "id": "05f5ccdb",
   "metadata": {},
   "source": [
    "# WELCOME TO NUMPY\n",
    "\n",
    "NumPy (Numerical Python) is an open source Python library that's used in almost every field of science and engineering. It's the universal standard for working with numerical data in Python, and it's at the core of the scientific Python and PyData ecosystems. NumPy users include everyone from beginning coders to experienced researchers doing state-of-the-art scientific and industrial research and development. The NumPy API is used extensively in Pandas. SciPy, Matplotlib, scikit-learn, scikit-image and most other data science and scientific Python packages.\n",
    "\n",
    "The NumPy library contains multidimensional array and matrix data structures (you'll find more information about this in later sections). It provides ndarray, a homogeneous n-dimensional array object, with methods to efficiently operate on it. NumPy can be used to perform a wide variety of mathematical operations on arrays. It adds powerful data structures to Python that guarantee efficient calculations with arrays and matrices and it supplies an enormous library of high- level mathematical functions that operate on these arrays and matrices.\n",
    "\n",
    "NumPy arrays are faster and more compact than Python lists. An array consumes less memory and is convenient to use. NumPy uses much less memory to store data and it provides a mechanism of specifying the data types. This allows the code to be optimized even further."
   ]
  },
  {
   "cell_type": "markdown",
   "id": "02160501",
   "metadata": {},
   "source": [
    "# WHAT IS AN ARRAY ?\n",
    "\n",
    "An array is a central data structure of the NumPy library. An array is a grid of values and it contains information about the raw data, how to locate an element. and how to interpret an element. It has a grid of elements that can be indexed in various ways. The elements are all of the same type, referred to as the array dtype.\n",
    "\n",
    "Array\n",
    "\n",
    "\n",
    "An array is a collection of items stored at contiguous memory locations,each identified by at least one array index or key. The idea is to store multiple items of the same type together"
   ]
  },
  {
   "cell_type": "raw",
   "id": "efe703eb",
   "metadata": {},
   "source": [
    "LET'S START WITH NUMPY"
   ]
  },
  {
   "cell_type": "code",
   "execution_count": 4,
   "id": "8fe08fe5",
   "metadata": {},
   "outputs": [],
   "source": [
    "import numpy\n",
    "# this is the pri define laberarry so you have to firstly used IMPORT command (IMPORT NUMPY)"
   ]
  },
  {
   "cell_type": "code",
   "execution_count": 5,
   "id": "421069de",
   "metadata": {},
   "outputs": [
    {
     "data": {
      "text/plain": [
       "array([1, 2, 3])"
      ]
     },
     "execution_count": 5,
     "metadata": {},
     "output_type": "execute_result"
    }
   ],
   "source": [
    "numpy.array([1,2,3]) # integer data"
   ]
  },
  {
   "cell_type": "code",
   "execution_count": 6,
   "id": "9206aa12",
   "metadata": {},
   "outputs": [
    {
     "data": {
      "text/plain": [
       "array([15.6, 16.1,  5.6,  3.5])"
      ]
     },
     "execution_count": 6,
     "metadata": {},
     "output_type": "execute_result"
    }
   ],
   "source": [
    "numpy.array([15.6,16.1,5.6,3.5]) # float data"
   ]
  },
  {
   "cell_type": "code",
   "execution_count": 7,
   "id": "5b8a355d",
   "metadata": {},
   "outputs": [],
   "source": [
    "n=numpy.array([1,2,3])"
   ]
  },
  {
   "cell_type": "code",
   "execution_count": 8,
   "id": "e1f544fd",
   "metadata": {},
   "outputs": [
    {
     "data": {
      "text/plain": [
       "array([1, 2, 3])"
      ]
     },
     "execution_count": 8,
     "metadata": {},
     "output_type": "execute_result"
    }
   ],
   "source": [
    "n"
   ]
  },
  {
   "cell_type": "code",
   "execution_count": 9,
   "id": "034c28a2",
   "metadata": {},
   "outputs": [
    {
     "data": {
      "text/plain": [
       "array([15.8, 16.9, 18.5,  5.6,  6.3])"
      ]
     },
     "execution_count": 9,
     "metadata": {},
     "output_type": "execute_result"
    }
   ],
   "source": [
    "k=numpy.array([15.8,16.9,18.5,5.6,6.3])\n",
    "k"
   ]
  },
  {
   "cell_type": "code",
   "execution_count": 10,
   "id": "138554a8",
   "metadata": {},
   "outputs": [
    {
     "data": {
      "text/plain": [
       "array([ 15.  ,  78.  ,  15.1 ,  16.8 ,  57.  ,  51.  , 100.  ,  45.65])"
      ]
     },
     "execution_count": 10,
     "metadata": {},
     "output_type": "execute_result"
    }
   ],
   "source": [
    "n=numpy.array([15,78,15.1,16.8,57,51,100,45.65])   # integer and float both data\n",
    "n\n",
    "# in this condition the integer data will change in float data."
   ]
  },
  {
   "cell_type": "code",
   "execution_count": 11,
   "id": "03a05921",
   "metadata": {},
   "outputs": [],
   "source": [
    "import numpy as np"
   ]
  },
  {
   "cell_type": "code",
   "execution_count": 12,
   "id": "6444bdcd",
   "metadata": {},
   "outputs": [
    {
     "data": {
      "text/plain": [
       "array([  15, 4564,  646,  465,    4,  654,   64,   64, 6456])"
      ]
     },
     "execution_count": 12,
     "metadata": {},
     "output_type": "execute_result"
    }
   ],
   "source": [
    "n=np.array([15,4564,646,465,4,654,64,64,6456])\n",
    "n"
   ]
  },
  {
   "cell_type": "markdown",
   "id": "0d180d7d",
   "metadata": {},
   "source": [
    "NUMPY IS THE BASED ON INDEX VALUES "
   ]
  },
  {
   "cell_type": "code",
   "execution_count": 14,
   "id": "0855ca25",
   "metadata": {},
   "outputs": [
    {
     "data": {
      "text/plain": [
       "15"
      ]
     },
     "execution_count": 14,
     "metadata": {},
     "output_type": "execute_result"
    }
   ],
   "source": [
    "#find the values acording to INDEX VALUES\n",
    "n[0]"
   ]
  },
  {
   "cell_type": "code",
   "execution_count": 15,
   "id": "f50fe43d",
   "metadata": {},
   "outputs": [
    {
     "data": {
      "text/plain": [
       "(654, 64, 465, 64, 6456)"
      ]
     },
     "execution_count": 15,
     "metadata": {},
     "output_type": "execute_result"
    }
   ],
   "source": [
    "n[5],n[7],n[3],n[6],n[8]"
   ]
  },
  {
   "cell_type": "code",
   "execution_count": 16,
   "id": "5ad7345d",
   "metadata": {},
   "outputs": [
    {
     "data": {
      "text/plain": [
       "array([100, 200, 300, 400, 500, 600, 700])"
      ]
     },
     "execution_count": 16,
     "metadata": {},
     "output_type": "execute_result"
    }
   ],
   "source": [
    "c=np.array([100,200,300,400,500,600,700])\n",
    "c"
   ]
  },
  {
   "cell_type": "code",
   "execution_count": 17,
   "id": "2ad89b07",
   "metadata": {},
   "outputs": [
    {
     "name": "stdout",
     "output_type": "stream",
     "text": [
      "[100 200 300 400 500 600 700]"
     ]
    }
   ],
   "source": [
    "print(c,end='')"
   ]
  },
  {
   "cell_type": "code",
   "execution_count": 18,
   "id": "06c66c56",
   "metadata": {},
   "outputs": [
    {
     "data": {
      "text/plain": [
       "dtype('int32')"
      ]
     },
     "execution_count": 18,
     "metadata": {},
     "output_type": "execute_result"
    }
   ],
   "source": [
    "c.dtype"
   ]
  },
  {
   "cell_type": "code",
   "execution_count": 19,
   "id": "a9cc8abd",
   "metadata": {},
   "outputs": [
    {
     "data": {
      "text/plain": [
       "array([15.6, 12.8, 14.5,  5.6,  4.2,  6.3])"
      ]
     },
     "execution_count": 19,
     "metadata": {},
     "output_type": "execute_result"
    }
   ],
   "source": [
    "k=np.array([15.6,12.8,14.5,5.6,4.2,6.3])\n",
    "k"
   ]
  },
  {
   "cell_type": "code",
   "execution_count": 20,
   "id": "e4fb28fb",
   "metadata": {},
   "outputs": [
    {
     "data": {
      "text/plain": [
       "dtype('float64')"
      ]
     },
     "execution_count": 20,
     "metadata": {},
     "output_type": "execute_result"
    }
   ],
   "source": [
    "k.dtype\n",
    "# float data type"
   ]
  },
  {
   "cell_type": "code",
   "execution_count": 21,
   "id": "0fe76a8b",
   "metadata": {},
   "outputs": [
    {
     "data": {
      "text/plain": [
       "array([15. , 16. ,  1.5,  7.9,  4.5, 63. ,  4.9])"
      ]
     },
     "execution_count": 21,
     "metadata": {},
     "output_type": "execute_result"
    }
   ],
   "source": [
    "n=np.array([15,16,1.5,7.9,4.5,63,4.9])\n",
    "n"
   ]
  },
  {
   "cell_type": "code",
   "execution_count": 22,
   "id": "57b062bd",
   "metadata": {},
   "outputs": [
    {
     "data": {
      "text/plain": [
       "dtype('float64')"
      ]
     },
     "execution_count": 22,
     "metadata": {},
     "output_type": "execute_result"
    }
   ],
   "source": [
    "n.dtype"
   ]
  },
  {
   "cell_type": "code",
   "execution_count": 23,
   "id": "a84cf110",
   "metadata": {},
   "outputs": [
    {
     "data": {
      "text/plain": [
       "array([15. , 25. , 20.3, 17.9, 45. , 12.7,  3.6])"
      ]
     },
     "execution_count": 23,
     "metadata": {},
     "output_type": "execute_result"
    }
   ],
   "source": [
    "j=np.array([15,25,20.3,17.9,45,12.7,3.6])\n",
    "j"
   ]
  },
  {
   "cell_type": "code",
   "execution_count": 24,
   "id": "b9749946",
   "metadata": {},
   "outputs": [
    {
     "name": "stdout",
     "output_type": "stream",
     "text": [
      "[15.  25.  20.3 17.9 45.  12.7  3.6]\n"
     ]
    }
   ],
   "source": [
    "print(j)"
   ]
  },
  {
   "cell_type": "code",
   "execution_count": 25,
   "id": "5225e890",
   "metadata": {},
   "outputs": [
    {
     "data": {
      "text/plain": [
       "dtype('float64')"
      ]
     },
     "execution_count": 25,
     "metadata": {},
     "output_type": "execute_result"
    }
   ],
   "source": [
    "j.dtype"
   ]
  },
  {
   "cell_type": "code",
   "execution_count": 26,
   "id": "89bd9e79",
   "metadata": {},
   "outputs": [
    {
     "data": {
      "text/plain": [
       "array([15, 25, 20, 17, 45, 12,  3])"
      ]
     },
     "execution_count": 26,
     "metadata": {},
     "output_type": "execute_result"
    }
   ],
   "source": [
    "# change the value float to int\n",
    "\n",
    "j=np.array([15,25,20.3,17.9,45,12.7,3.6],('int32'))\n",
    "j"
   ]
  },
  {
   "cell_type": "code",
   "execution_count": 27,
   "id": "996ec6bf",
   "metadata": {},
   "outputs": [
    {
     "data": {
      "text/plain": [
       "array([1, 2, 3])"
      ]
     },
     "execution_count": 27,
     "metadata": {},
     "output_type": "execute_result"
    }
   ],
   "source": [
    "c=np.array([1,2,3],('int32'))\n",
    "c"
   ]
  },
  {
   "cell_type": "code",
   "execution_count": 28,
   "id": "92b2f7a4",
   "metadata": {},
   "outputs": [
    {
     "data": {
      "text/plain": [
       "array([1., 2., 3.])"
      ]
     },
     "execution_count": 28,
     "metadata": {},
     "output_type": "execute_result"
    }
   ],
   "source": [
    "c=np.array([1,2,3],('float64'))\n",
    "c"
   ]
  },
  {
   "cell_type": "code",
   "execution_count": null,
   "id": "d02ed71d",
   "metadata": {},
   "outputs": [],
   "source": []
  },
  {
   "cell_type": "markdown",
   "id": "8f9ca8f4",
   "metadata": {},
   "source": [
    "WHAT IS 'int32' & 'float64' ?"
   ]
  },
  {
   "cell_type": "raw",
   "id": "1da15510",
   "metadata": {},
   "source": [
    "int32 == 32 bit , 32/8 = 4 byte ,,, \n",
    "mins each elemint occopied 32 bit (4 byte)\n",
    "\n",
    "float64 == 64 bit , 64/8=8 byte,,,,\n",
    "mins each elemint occopied 64 bit (8 byte)\n"
   ]
  },
  {
   "cell_type": "code",
   "execution_count": 29,
   "id": "5eb4e375",
   "metadata": {},
   "outputs": [
    {
     "data": {
      "text/plain": [
       "array([15, 85,  9,  5, 78,  5, 95,  6, 47, 56, 63])"
      ]
     },
     "execution_count": 29,
     "metadata": {},
     "output_type": "execute_result"
    }
   ],
   "source": [
    "a=np.array([15,85,9,5,78,5,95,6,47,56,63])\n",
    "a"
   ]
  },
  {
   "cell_type": "code",
   "execution_count": 30,
   "id": "9443ed2a",
   "metadata": {},
   "outputs": [
    {
     "data": {
      "text/plain": [
       "11"
      ]
     },
     "execution_count": 30,
     "metadata": {},
     "output_type": "execute_result"
    }
   ],
   "source": [
    "a.size"
   ]
  },
  {
   "cell_type": "code",
   "execution_count": 31,
   "id": "6d491ba9",
   "metadata": {},
   "outputs": [
    {
     "data": {
      "text/plain": [
       "4"
      ]
     },
     "execution_count": 31,
     "metadata": {},
     "output_type": "execute_result"
    }
   ],
   "source": [
    "a.itemsize"
   ]
  },
  {
   "cell_type": "code",
   "execution_count": 32,
   "id": "98274ffb",
   "metadata": {},
   "outputs": [
    {
     "data": {
      "text/plain": [
       "array([ 15.2 ,  45.25,   6.7 ,   1.9 ,  45.6 ,  34.97,   5.6 ,   7.96,\n",
       "       100.45])"
      ]
     },
     "execution_count": 32,
     "metadata": {},
     "output_type": "execute_result"
    }
   ],
   "source": [
    "b=np.array([15.2,45.25,6.7,1.9,45.6,34.97,5.6,7.96,100.45])\n",
    "b"
   ]
  },
  {
   "cell_type": "code",
   "execution_count": 33,
   "id": "e7ea3108",
   "metadata": {},
   "outputs": [
    {
     "data": {
      "text/plain": [
       "9"
      ]
     },
     "execution_count": 33,
     "metadata": {},
     "output_type": "execute_result"
    }
   ],
   "source": [
    "b.size"
   ]
  },
  {
   "cell_type": "code",
   "execution_count": 34,
   "id": "e76f9b3e",
   "metadata": {},
   "outputs": [
    {
     "data": {
      "text/plain": [
       "8"
      ]
     },
     "execution_count": 34,
     "metadata": {},
     "output_type": "execute_result"
    }
   ],
   "source": [
    "b.itemsize"
   ]
  },
  {
   "cell_type": "code",
   "execution_count": 35,
   "id": "857419d1",
   "metadata": {},
   "outputs": [
    {
     "data": {
      "text/plain": [
       "dtype('int32')"
      ]
     },
     "execution_count": 35,
     "metadata": {},
     "output_type": "execute_result"
    }
   ],
   "source": [
    "a.dtype"
   ]
  },
  {
   "cell_type": "code",
   "execution_count": 36,
   "id": "3822d3a0",
   "metadata": {},
   "outputs": [
    {
     "data": {
      "text/plain": [
       "dtype('float64')"
      ]
     },
     "execution_count": 36,
     "metadata": {},
     "output_type": "execute_result"
    }
   ],
   "source": [
    "b.dtype"
   ]
  },
  {
   "cell_type": "code",
   "execution_count": 37,
   "id": "f4397ed7",
   "metadata": {},
   "outputs": [
    {
     "data": {
      "text/plain": [
       "array([15., 64., 87.,  9.,  5., 97.,  5.,  4.,  5., 66., 52.])"
      ]
     },
     "execution_count": 37,
     "metadata": {},
     "output_type": "execute_result"
    }
   ],
   "source": [
    "k=np.array([15,64,87,9,5,97,5,4,5,66,52],('float64'))\n",
    "k"
   ]
  },
  {
   "cell_type": "code",
   "execution_count": 38,
   "id": "20207c66",
   "metadata": {},
   "outputs": [
    {
     "ename": "TypeError",
     "evalue": "'numpy.ndarray' object is not callable",
     "output_type": "error",
     "traceback": [
      "\u001b[1;31m---------------------------------------------------------------------------\u001b[0m",
      "\u001b[1;31mTypeError\u001b[0m                                 Traceback (most recent call last)",
      "Cell \u001b[1;32mIn[38], line 1\u001b[0m\n\u001b[1;32m----> 1\u001b[0m \u001b[43mk\u001b[49m\u001b[43m(\u001b[49m\u001b[38;5;124;43m'\u001b[39;49m\u001b[38;5;124;43mint32\u001b[39;49m\u001b[38;5;124;43m'\u001b[39;49m\u001b[43m)\u001b[49m\n",
      "\u001b[1;31mTypeError\u001b[0m: 'numpy.ndarray' object is not callable"
     ]
    }
   ],
   "source": [
    "k('int32')"
   ]
  },
  {
   "cell_type": "code",
   "execution_count": 39,
   "id": "76432954",
   "metadata": {},
   "outputs": [
    {
     "data": {
      "text/plain": [
       "array([15, 64, 87,  9,  5, 97,  5,  4,  5, 66, 52])"
      ]
     },
     "execution_count": 39,
     "metadata": {},
     "output_type": "execute_result"
    }
   ],
   "source": [
    "k=np.array([15,64,87,9,5,97,5,4,5,66,52],('int32'))\n",
    "k"
   ]
  },
  {
   "cell_type": "code",
   "execution_count": 40,
   "id": "9bdb2392",
   "metadata": {},
   "outputs": [
    {
     "data": {
      "text/plain": [
       "array([15, 95,  2,  5,  7, 41, 67])"
      ]
     },
     "execution_count": 40,
     "metadata": {},
     "output_type": "execute_result"
    }
   ],
   "source": [
    "m=np.array([15.78,95.65,2.6,5.9,7.6,41.65,67.4],(\"int32\"))\n",
    "m"
   ]
  },
  {
   "cell_type": "code",
   "execution_count": 41,
   "id": "3c366bec",
   "metadata": {},
   "outputs": [
    {
     "data": {
      "text/plain": [
       "array([  6,   8,   9, 100,   5,  20,  18])"
      ]
     },
     "execution_count": 41,
     "metadata": {},
     "output_type": "execute_result"
    }
   ],
   "source": [
    "b=np.array([6,8,9,100,5,20,18])\n",
    "b"
   ]
  },
  {
   "cell_type": "code",
   "execution_count": 42,
   "id": "4753adb9",
   "metadata": {},
   "outputs": [
    {
     "data": {
      "text/plain": [
       "100"
      ]
     },
     "execution_count": 42,
     "metadata": {},
     "output_type": "execute_result"
    }
   ],
   "source": [
    "b.max()"
   ]
  },
  {
   "cell_type": "code",
   "execution_count": 43,
   "id": "92042276",
   "metadata": {},
   "outputs": [
    {
     "data": {
      "text/plain": [
       "5"
      ]
     },
     "execution_count": 43,
     "metadata": {},
     "output_type": "execute_result"
    }
   ],
   "source": [
    "b.min()"
   ]
  },
  {
   "cell_type": "code",
   "execution_count": 44,
   "id": "ec807fb6",
   "metadata": {},
   "outputs": [
    {
     "data": {
      "text/plain": [
       "dtype('int32')"
      ]
     },
     "execution_count": 44,
     "metadata": {},
     "output_type": "execute_result"
    }
   ],
   "source": [
    "b.dtype"
   ]
  },
  {
   "cell_type": "code",
   "execution_count": 45,
   "id": "4090b34f",
   "metadata": {},
   "outputs": [
    {
     "data": {
      "text/plain": [
       "7"
      ]
     },
     "execution_count": 45,
     "metadata": {},
     "output_type": "execute_result"
    }
   ],
   "source": [
    "b.size"
   ]
  },
  {
   "cell_type": "code",
   "execution_count": 46,
   "id": "29e1800a",
   "metadata": {},
   "outputs": [
    {
     "data": {
      "text/plain": [
       "array([  6,   8,   9, 100,   5,  20,  18])"
      ]
     },
     "execution_count": 46,
     "metadata": {},
     "output_type": "execute_result"
    }
   ],
   "source": [
    "b.itemsize\n",
    "b"
   ]
  },
  {
   "cell_type": "code",
   "execution_count": 47,
   "id": "fa84485f",
   "metadata": {},
   "outputs": [
    {
     "data": {
      "text/plain": [
       "(7,)"
      ]
     },
     "execution_count": 47,
     "metadata": {},
     "output_type": "execute_result"
    }
   ],
   "source": [
    "b.shape"
   ]
  },
  {
   "cell_type": "markdown",
   "id": "a89b4859",
   "metadata": {},
   "source": [
    "# TWO DIMENSIONAL ARRAY\n",
    "n=np.array([[c1,c2],[c1,c2]])"
   ]
  },
  {
   "cell_type": "code",
   "execution_count": 48,
   "id": "1fdc34f1",
   "metadata": {},
   "outputs": [
    {
     "data": {
      "text/plain": [
       "array([[1, 2],\n",
       "       [3, 4]])"
      ]
     },
     "execution_count": 48,
     "metadata": {},
     "output_type": "execute_result"
    }
   ],
   "source": [
    "n=np.array([[1,2],[3,4]])\n",
    "n"
   ]
  },
  {
   "cell_type": "code",
   "execution_count": 49,
   "id": "dd04c4e4",
   "metadata": {},
   "outputs": [
    {
     "data": {
      "text/plain": [
       "(2, 2)"
      ]
     },
     "execution_count": 49,
     "metadata": {},
     "output_type": "execute_result"
    }
   ],
   "source": [
    "n.shape"
   ]
  },
  {
   "cell_type": "code",
   "execution_count": 50,
   "id": "c666e1a3",
   "metadata": {},
   "outputs": [
    {
     "data": {
      "text/plain": [
       "(2, 2)"
      ]
     },
     "execution_count": 50,
     "metadata": {},
     "output_type": "execute_result"
    }
   ],
   "source": [
    "n.shape"
   ]
  },
  {
   "cell_type": "code",
   "execution_count": 51,
   "id": "adb7b6bc",
   "metadata": {},
   "outputs": [
    {
     "data": {
      "text/plain": [
       "4"
      ]
     },
     "execution_count": 51,
     "metadata": {},
     "output_type": "execute_result"
    }
   ],
   "source": [
    "n.max()"
   ]
  },
  {
   "cell_type": "code",
   "execution_count": 52,
   "id": "ba590d01",
   "metadata": {},
   "outputs": [
    {
     "data": {
      "text/plain": [
       "1"
      ]
     },
     "execution_count": 52,
     "metadata": {},
     "output_type": "execute_result"
    }
   ],
   "source": [
    "n.min()"
   ]
  },
  {
   "cell_type": "code",
   "execution_count": 53,
   "id": "e8a7310d",
   "metadata": {},
   "outputs": [
    {
     "data": {
      "text/plain": [
       "4"
      ]
     },
     "execution_count": 53,
     "metadata": {},
     "output_type": "execute_result"
    }
   ],
   "source": [
    "n.size"
   ]
  },
  {
   "cell_type": "code",
   "execution_count": 54,
   "id": "e1aad70d",
   "metadata": {},
   "outputs": [
    {
     "data": {
      "text/plain": [
       "4"
      ]
     },
     "execution_count": 54,
     "metadata": {},
     "output_type": "execute_result"
    }
   ],
   "source": [
    "n.itemsize"
   ]
  },
  {
   "cell_type": "code",
   "execution_count": 55,
   "id": "f877dcfe",
   "metadata": {},
   "outputs": [
    {
     "data": {
      "text/plain": [
       "dtype('int32')"
      ]
     },
     "execution_count": 55,
     "metadata": {},
     "output_type": "execute_result"
    }
   ],
   "source": [
    "n.dtype"
   ]
  },
  {
   "cell_type": "code",
   "execution_count": 56,
   "id": "e4d1e4d6",
   "metadata": {},
   "outputs": [
    {
     "data": {
      "text/plain": [
       "128"
      ]
     },
     "execution_count": 56,
     "metadata": {},
     "output_type": "execute_result"
    }
   ],
   "source": [
    "28+30+30+30+10"
   ]
  },
  {
   "cell_type": "code",
   "execution_count": 57,
   "id": "e2055e4c",
   "metadata": {},
   "outputs": [
    {
     "data": {
      "text/plain": [
       "array([[1, 2],\n",
       "       [3, 4]])"
      ]
     },
     "execution_count": 57,
     "metadata": {},
     "output_type": "execute_result"
    }
   ],
   "source": [
    "n"
   ]
  },
  {
   "cell_type": "code",
   "execution_count": 58,
   "id": "dfa5f8c5",
   "metadata": {},
   "outputs": [],
   "source": [
    "import numpy as np"
   ]
  },
  {
   "cell_type": "code",
   "execution_count": 59,
   "id": "0c1358ce",
   "metadata": {},
   "outputs": [
    {
     "data": {
      "text/plain": [
       "(2, 2)"
      ]
     },
     "execution_count": 59,
     "metadata": {},
     "output_type": "execute_result"
    }
   ],
   "source": [
    "n.shape"
   ]
  },
  {
   "cell_type": "markdown",
   "id": "7dc83191",
   "metadata": {},
   "source": [
    "# 3 ROW AND 2 COLUMN"
   ]
  },
  {
   "cell_type": "code",
   "execution_count": 60,
   "id": "79dbbc9a",
   "metadata": {},
   "outputs": [],
   "source": [
    "j=np.array([[21,45],[16,18],[49,47]])"
   ]
  },
  {
   "cell_type": "code",
   "execution_count": 61,
   "id": "6445f4b2",
   "metadata": {},
   "outputs": [
    {
     "data": {
      "text/plain": [
       "array([[21, 45],\n",
       "       [16, 18],\n",
       "       [49, 47]])"
      ]
     },
     "execution_count": 61,
     "metadata": {},
     "output_type": "execute_result"
    }
   ],
   "source": [
    "j"
   ]
  },
  {
   "cell_type": "code",
   "execution_count": 62,
   "id": "17ce29c5",
   "metadata": {},
   "outputs": [
    {
     "data": {
      "text/plain": [
       "(3, 2)"
      ]
     },
     "execution_count": 62,
     "metadata": {},
     "output_type": "execute_result"
    }
   ],
   "source": [
    "j.shape"
   ]
  },
  {
   "cell_type": "code",
   "execution_count": 63,
   "id": "d4ad323c",
   "metadata": {},
   "outputs": [
    {
     "data": {
      "text/plain": [
       "(49, 16, dtype('int32'), (3, 2), 6)"
      ]
     },
     "execution_count": 63,
     "metadata": {},
     "output_type": "execute_result"
    }
   ],
   "source": [
    "j.max(),j.min(),j.dtype,j.shape,j.size"
   ]
  },
  {
   "cell_type": "code",
   "execution_count": 64,
   "id": "688564a4",
   "metadata": {},
   "outputs": [
    {
     "data": {
      "text/plain": [
       "array([[15, 48, 78],\n",
       "       [45, 87, 64],\n",
       "       [45, 13, 65]])"
      ]
     },
     "execution_count": 64,
     "metadata": {},
     "output_type": "execute_result"
    }
   ],
   "source": [
    "k=np.array([[15,48,78],[45,87,64],[45,13,65]])\n",
    "k"
   ]
  },
  {
   "cell_type": "code",
   "execution_count": 65,
   "id": "309802c5",
   "metadata": {},
   "outputs": [
    {
     "data": {
      "text/plain": [
       "(3, 3)"
      ]
     },
     "execution_count": 65,
     "metadata": {},
     "output_type": "execute_result"
    }
   ],
   "source": [
    "k.shape"
   ]
  },
  {
   "cell_type": "code",
   "execution_count": 66,
   "id": "e82fec25",
   "metadata": {},
   "outputs": [
    {
     "data": {
      "text/plain": [
       "(87, 13)"
      ]
     },
     "execution_count": 66,
     "metadata": {},
     "output_type": "execute_result"
    }
   ],
   "source": [
    "k.max()   , k.min()"
   ]
  },
  {
   "cell_type": "code",
   "execution_count": 67,
   "id": "8b45a4f3",
   "metadata": {},
   "outputs": [
    {
     "data": {
      "text/plain": [
       "array([[45, 48, 74],\n",
       "       [45, 62, 12],\n",
       "       [19, 72, 96],\n",
       "       [45, 16, 38],\n",
       "       [45, 65, 87]])"
      ]
     },
     "execution_count": 67,
     "metadata": {},
     "output_type": "execute_result"
    }
   ],
   "source": [
    "# 5 rows and 3 column\n",
    "\n",
    "m=np.array([[45,48,74],[45,62,12],[19,72,96],[45,16,38],[45,65,87]])\n",
    "m"
   ]
  },
  {
   "cell_type": "code",
   "execution_count": 68,
   "id": "b68ab1c7",
   "metadata": {},
   "outputs": [
    {
     "data": {
      "text/plain": [
       "(5, 3)"
      ]
     },
     "execution_count": 68,
     "metadata": {},
     "output_type": "execute_result"
    }
   ],
   "source": [
    "m.shape"
   ]
  },
  {
   "cell_type": "code",
   "execution_count": 69,
   "id": "f526a17d",
   "metadata": {},
   "outputs": [
    {
     "data": {
      "text/plain": [
       "2"
      ]
     },
     "execution_count": 69,
     "metadata": {},
     "output_type": "execute_result"
    }
   ],
   "source": [
    "m.ndim"
   ]
  },
  {
   "cell_type": "code",
   "execution_count": 70,
   "id": "e9e832b9",
   "metadata": {},
   "outputs": [
    {
     "data": {
      "text/plain": [
       "array([[15, 45, 16, 17, 89, 23, 45, 44, 65, 65, 66],\n",
       "       [45, 45, 45, 78, 96, 96, 78, 89, 63, 42, 41]])"
      ]
     },
     "execution_count": 70,
     "metadata": {},
     "output_type": "execute_result"
    }
   ],
   "source": [
    "n=np.array([[15,45,16,17,89,23,45,44,65,65,66],[45,45,45,78,96,96,78,89,63,42,41]])\n",
    "n"
   ]
  },
  {
   "cell_type": "code",
   "execution_count": 71,
   "id": "9e62f63d",
   "metadata": {},
   "outputs": [
    {
     "data": {
      "text/plain": [
       "(2, 11)"
      ]
     },
     "execution_count": 71,
     "metadata": {},
     "output_type": "execute_result"
    }
   ],
   "source": [
    "n.shape"
   ]
  },
  {
   "cell_type": "code",
   "execution_count": 72,
   "id": "1b3ed34e",
   "metadata": {},
   "outputs": [
    {
     "data": {
      "text/plain": [
       "2"
      ]
     },
     "execution_count": 72,
     "metadata": {},
     "output_type": "execute_result"
    }
   ],
   "source": [
    "n.ndim"
   ]
  },
  {
   "cell_type": "code",
   "execution_count": 73,
   "id": "003e0d01",
   "metadata": {},
   "outputs": [
    {
     "data": {
      "text/plain": [
       "96"
      ]
     },
     "execution_count": 73,
     "metadata": {},
     "output_type": "execute_result"
    }
   ],
   "source": [
    "n.max()"
   ]
  },
  {
   "cell_type": "code",
   "execution_count": 74,
   "id": "3244e7d2",
   "metadata": {},
   "outputs": [
    {
     "data": {
      "text/plain": [
       "15"
      ]
     },
     "execution_count": 74,
     "metadata": {},
     "output_type": "execute_result"
    }
   ],
   "source": [
    "n.min()"
   ]
  },
  {
   "cell_type": "markdown",
   "id": "c2151c07",
   "metadata": {},
   "source": [
    "# ARANGE FUNCTION =\n",
    "this is work like range function in python."
   ]
  },
  {
   "cell_type": "code",
   "execution_count": 75,
   "id": "138c88f4",
   "metadata": {},
   "outputs": [
    {
     "data": {
      "text/plain": [
       "array([0, 1, 2, 3, 4, 5, 6])"
      ]
     },
     "execution_count": 75,
     "metadata": {},
     "output_type": "execute_result"
    }
   ],
   "source": [
    "np.arange(7)"
   ]
  },
  {
   "cell_type": "code",
   "execution_count": 76,
   "id": "bc2ecf98",
   "metadata": {},
   "outputs": [
    {
     "data": {
      "text/plain": [
       "array([ 0,  1,  2,  3,  4,  5,  6,  7,  8,  9, 10, 11, 12, 13, 14, 15, 16,\n",
       "       17, 18, 19, 20])"
      ]
     },
     "execution_count": 76,
     "metadata": {},
     "output_type": "execute_result"
    }
   ],
   "source": [
    "l=np.arange(21)\n",
    "l"
   ]
  },
  {
   "cell_type": "markdown",
   "id": "9ca54a06",
   "metadata": {},
   "source": [
    "# RESHAPE FUNCTION\n",
    "here you can change the row and column value"
   ]
  },
  {
   "cell_type": "code",
   "execution_count": 77,
   "id": "28850aee",
   "metadata": {},
   "outputs": [],
   "source": [
    "h=np.array([[11,12,13],[44,65,86],[87,98,49],[11,12,13]])"
   ]
  },
  {
   "cell_type": "code",
   "execution_count": 78,
   "id": "ea765305",
   "metadata": {},
   "outputs": [
    {
     "data": {
      "text/plain": [
       "array([[11, 12, 13],\n",
       "       [44, 65, 86],\n",
       "       [87, 98, 49],\n",
       "       [11, 12, 13]])"
      ]
     },
     "execution_count": 78,
     "metadata": {},
     "output_type": "execute_result"
    }
   ],
   "source": [
    "h"
   ]
  },
  {
   "cell_type": "code",
   "execution_count": 79,
   "id": "d12ed300",
   "metadata": {},
   "outputs": [
    {
     "data": {
      "text/plain": [
       "(4, 3)"
      ]
     },
     "execution_count": 79,
     "metadata": {},
     "output_type": "execute_result"
    }
   ],
   "source": [
    "h.shape"
   ]
  },
  {
   "cell_type": "code",
   "execution_count": 80,
   "id": "246be650",
   "metadata": {},
   "outputs": [
    {
     "data": {
      "text/plain": [
       "array([[11, 12, 13, 44],\n",
       "       [65, 86, 87, 98],\n",
       "       [49, 11, 12, 13]])"
      ]
     },
     "execution_count": 80,
     "metadata": {},
     "output_type": "execute_result"
    }
   ],
   "source": [
    "# Let's change the 3 x 4 \n",
    "\n",
    "\n",
    "h.reshape(3,4)\n",
    "\n",
    "\n",
    "# Set the rows and column in the fectorial of total eliment (if eliments = 12 then (4x3 or 3x4))"
   ]
  },
  {
   "cell_type": "code",
   "execution_count": 84,
   "id": "e0b6d998",
   "metadata": {},
   "outputs": [
    {
     "data": {
      "text/plain": [
       "array([[11, 12, 13, 44, 65, 86],\n",
       "       [87, 98, 49, 11, 12, 13]])"
      ]
     },
     "execution_count": 84,
     "metadata": {},
     "output_type": "execute_result"
    }
   ],
   "source": [
    "h.reshape(2,6)"
   ]
  },
  {
   "cell_type": "markdown",
   "id": "e509d518",
   "metadata": {},
   "source": [
    "USE ARANGE FUNCTION TO CREATE ARRAY"
   ]
  },
  {
   "cell_type": "code",
   "execution_count": 85,
   "id": "334e66ea",
   "metadata": {},
   "outputs": [
    {
     "data": {
      "text/plain": [
       "array([[15, 45, 16, 17, 89, 23, 45, 44, 65, 65, 66],\n",
       "       [45, 45, 45, 78, 96, 96, 78, 89, 63, 42, 41]])"
      ]
     },
     "execution_count": 85,
     "metadata": {},
     "output_type": "execute_result"
    }
   ],
   "source": [
    "np.arange(15)\n",
    "n"
   ]
  },
  {
   "cell_type": "code",
   "execution_count": 86,
   "id": "da1ea0ff",
   "metadata": {},
   "outputs": [
    {
     "data": {
      "text/plain": [
       "array([[ 0,  1,  2],\n",
       "       [ 3,  4,  5],\n",
       "       [ 6,  7,  8],\n",
       "       [ 9, 10, 11],\n",
       "       [12, 13, 14]])"
      ]
     },
     "execution_count": 86,
     "metadata": {},
     "output_type": "execute_result"
    }
   ],
   "source": [
    "np.arange(15).reshape(5,3)"
   ]
  },
  {
   "cell_type": "code",
   "execution_count": 87,
   "id": "d17a2856",
   "metadata": {},
   "outputs": [
    {
     "data": {
      "text/plain": [
       "array([ 0,  1,  2,  3,  4,  5,  6,  7,  8,  9, 10, 11, 12, 13, 14, 15])"
      ]
     },
     "execution_count": 87,
     "metadata": {},
     "output_type": "execute_result"
    }
   ],
   "source": [
    "k=np.arange(16)\n",
    "k"
   ]
  },
  {
   "cell_type": "code",
   "execution_count": 88,
   "id": "36cd2373",
   "metadata": {},
   "outputs": [
    {
     "data": {
      "text/plain": [
       "array([[ 0,  1,  2,  3],\n",
       "       [ 4,  5,  6,  7],\n",
       "       [ 8,  9, 10, 11],\n",
       "       [12, 13, 14, 15]])"
      ]
     },
     "execution_count": 88,
     "metadata": {},
     "output_type": "execute_result"
    }
   ],
   "source": [
    "k.reshape(4,4)"
   ]
  },
  {
   "cell_type": "code",
   "execution_count": 89,
   "id": "2bd31b6a",
   "metadata": {},
   "outputs": [
    {
     "data": {
      "text/plain": [
       "array([ 0,  1,  2,  3,  4,  5,  6,  7,  8,  9, 10, 11, 12, 13, 14, 15])"
      ]
     },
     "execution_count": 89,
     "metadata": {},
     "output_type": "execute_result"
    }
   ],
   "source": [
    "k"
   ]
  },
  {
   "cell_type": "code",
   "execution_count": 90,
   "id": "9fe2bea5",
   "metadata": {},
   "outputs": [
    {
     "data": {
      "text/plain": [
       "array([[ 0,  1,  2,  3,  4,  5,  6,  7],\n",
       "       [ 8,  9, 10, 11, 12, 13, 14, 15]])"
      ]
     },
     "execution_count": 90,
     "metadata": {},
     "output_type": "execute_result"
    }
   ],
   "source": [
    "k.reshape(2,8)"
   ]
  },
  {
   "cell_type": "code",
   "execution_count": 91,
   "id": "0a8bce4c",
   "metadata": {},
   "outputs": [
    {
     "data": {
      "text/plain": [
       "array([[ 0,  1,  2,  3,  4],\n",
       "       [ 5,  6,  7,  8,  9],\n",
       "       [10, 11, 12, 13, 14],\n",
       "       [15, 16, 17, 18, 19],\n",
       "       [20, 21, 22, 23, 24],\n",
       "       [25, 26, 27, 28, 29]])"
      ]
     },
     "execution_count": 91,
     "metadata": {},
     "output_type": "execute_result"
    }
   ],
   "source": [
    "m=np.arange(30).reshape(6,5)\n",
    "m"
   ]
  },
  {
   "cell_type": "code",
   "execution_count": 92,
   "id": "5aeec792",
   "metadata": {},
   "outputs": [
    {
     "name": "stdout",
     "output_type": "stream",
     "text": [
      "[[ 0  1  2  3  4  5  6  7  8  9 10 11 12 13 14 15 16 17 18 19 20 21 22 23\n",
      "  24]\n",
      " [25 26 27 28 29 30 31 32 33 34 35 36 37 38 39 40 41 42 43 44 45 46 47 48\n",
      "  49]]"
     ]
    }
   ],
   "source": [
    "nav=np.arange(50).reshape(2,25)\n",
    "print(nav,end='')"
   ]
  },
  {
   "cell_type": "code",
   "execution_count": 93,
   "id": "fce651a2",
   "metadata": {},
   "outputs": [
    {
     "data": {
      "text/plain": [
       "numpy.ndarray"
      ]
     },
     "execution_count": 93,
     "metadata": {},
     "output_type": "execute_result"
    }
   ],
   "source": [
    "type(nav)"
   ]
  },
  {
   "cell_type": "markdown",
   "id": "cdb595f3",
   "metadata": {},
   "source": [
    "ZEROS AND ONES FUNCTION"
   ]
  },
  {
   "cell_type": "code",
   "execution_count": 94,
   "id": "2b601aff",
   "metadata": {},
   "outputs": [
    {
     "data": {
      "text/plain": [
       "array([[0., 0., 0., 0.],\n",
       "       [0., 0., 0., 0.],\n",
       "       [0., 0., 0., 0.]])"
      ]
     },
     "execution_count": 94,
     "metadata": {},
     "output_type": "execute_result"
    }
   ],
   "source": [
    "np.zeros([3,4])"
   ]
  },
  {
   "cell_type": "code",
   "execution_count": 95,
   "id": "dcfa6ee6",
   "metadata": {},
   "outputs": [
    {
     "data": {
      "text/plain": [
       "array([[1., 1., 1., 1., 1., 1., 1., 1.],\n",
       "       [1., 1., 1., 1., 1., 1., 1., 1.],\n",
       "       [1., 1., 1., 1., 1., 1., 1., 1.],\n",
       "       [1., 1., 1., 1., 1., 1., 1., 1.],\n",
       "       [1., 1., 1., 1., 1., 1., 1., 1.]])"
      ]
     },
     "execution_count": 95,
     "metadata": {},
     "output_type": "execute_result"
    }
   ],
   "source": [
    "n=np.ones([5,8])\n",
    "n"
   ]
  },
  {
   "cell_type": "code",
   "execution_count": 96,
   "id": "d36de85f",
   "metadata": {},
   "outputs": [
    {
     "data": {
      "text/plain": [
       "array([[1., 1., 1., 1.],\n",
       "       [1., 1., 1., 1.],\n",
       "       [1., 1., 1., 1.],\n",
       "       [1., 1., 1., 1.],\n",
       "       [1., 1., 1., 1.],\n",
       "       [1., 1., 1., 1.],\n",
       "       [1., 1., 1., 1.],\n",
       "       [1., 1., 1., 1.],\n",
       "       [1., 1., 1., 1.],\n",
       "       [1., 1., 1., 1.]])"
      ]
     },
     "execution_count": 96,
     "metadata": {},
     "output_type": "execute_result"
    }
   ],
   "source": [
    "n.reshape(10,4)"
   ]
  },
  {
   "cell_type": "markdown",
   "id": "28af3d21",
   "metadata": {},
   "source": [
    "# BROADCASTING IN NUMPY\n",
    "the term broadcasting describes how numpy treats arrays with different shapes during arthemitic operations. subject to certain constraints, the smaller array is broadcast across the larger array so that the have compatible shapes. Brodcasting provides a means of vectorizing array operations."
   ]
  },
  {
   "cell_type": "raw",
   "id": "f4a3e498",
   "metadata": {},
   "source": [
    "IT'S BASED ON MATHEMATICAL RELATIONS "
   ]
  },
  {
   "cell_type": "code",
   "execution_count": 97,
   "id": "49e80d19",
   "metadata": {},
   "outputs": [],
   "source": [
    "a=np.array([2,3,4])\n",
    "\n",
    "b=np.array([2,3,4])"
   ]
  },
  {
   "cell_type": "code",
   "execution_count": 98,
   "id": "ad1b6412",
   "metadata": {},
   "outputs": [
    {
     "data": {
      "text/plain": [
       "array([2, 3, 4])"
      ]
     },
     "execution_count": 98,
     "metadata": {},
     "output_type": "execute_result"
    }
   ],
   "source": [
    "a"
   ]
  },
  {
   "cell_type": "code",
   "execution_count": 99,
   "id": "e7982bce",
   "metadata": {},
   "outputs": [
    {
     "data": {
      "text/plain": [
       "array([2, 3, 4])"
      ]
     },
     "execution_count": 99,
     "metadata": {},
     "output_type": "execute_result"
    }
   ],
   "source": [
    "b"
   ]
  },
  {
   "cell_type": "code",
   "execution_count": 100,
   "id": "0cd8d6b8",
   "metadata": {},
   "outputs": [
    {
     "data": {
      "text/plain": [
       "array([4, 6, 8])"
      ]
     },
     "execution_count": 100,
     "metadata": {},
     "output_type": "execute_result"
    }
   ],
   "source": [
    "a+b"
   ]
  },
  {
   "cell_type": "code",
   "execution_count": 101,
   "id": "49c6f398",
   "metadata": {},
   "outputs": [
    {
     "data": {
      "text/plain": [
       "array([ 4,  9, 16])"
      ]
     },
     "execution_count": 101,
     "metadata": {},
     "output_type": "execute_result"
    }
   ],
   "source": [
    "a*b"
   ]
  },
  {
   "cell_type": "code",
   "execution_count": 102,
   "id": "b2317af4",
   "metadata": {},
   "outputs": [],
   "source": [
    "c=np.array([4])"
   ]
  },
  {
   "cell_type": "code",
   "execution_count": 103,
   "id": "428dbb8e",
   "metadata": {},
   "outputs": [
    {
     "data": {
      "text/plain": [
       "array([ 8, 12, 16])"
      ]
     },
     "execution_count": 103,
     "metadata": {},
     "output_type": "execute_result"
    }
   ],
   "source": [
    "a*c"
   ]
  },
  {
   "cell_type": "code",
   "execution_count": 104,
   "id": "c7099613",
   "metadata": {},
   "outputs": [
    {
     "data": {
      "text/plain": [
       "array([0.5 , 0.75, 1.  ])"
      ]
     },
     "execution_count": 104,
     "metadata": {},
     "output_type": "execute_result"
    }
   ],
   "source": [
    "a/c"
   ]
  },
  {
   "cell_type": "code",
   "execution_count": 105,
   "id": "b9f939fd",
   "metadata": {},
   "outputs": [
    {
     "data": {
      "text/plain": [
       "array([2, 3, 4])"
      ]
     },
     "execution_count": 105,
     "metadata": {},
     "output_type": "execute_result"
    }
   ],
   "source": [
    "b"
   ]
  },
  {
   "cell_type": "code",
   "execution_count": 106,
   "id": "f97c4314",
   "metadata": {},
   "outputs": [
    {
     "data": {
      "text/plain": [
       "array([ 4,  9, 16])"
      ]
     },
     "execution_count": 106,
     "metadata": {},
     "output_type": "execute_result"
    }
   ],
   "source": [
    "b**2"
   ]
  },
  {
   "cell_type": "code",
   "execution_count": 107,
   "id": "623be3a8",
   "metadata": {},
   "outputs": [
    {
     "data": {
      "text/plain": [
       "array([  32,  243, 1024], dtype=int32)"
      ]
     },
     "execution_count": 107,
     "metadata": {},
     "output_type": "execute_result"
    }
   ],
   "source": [
    "a**5"
   ]
  },
  {
   "cell_type": "markdown",
   "id": "db9110e8",
   "metadata": {},
   "source": [
    "RANDOM FUNCTION\n",
    "  * it's give any random number"
   ]
  },
  {
   "cell_type": "code",
   "execution_count": 108,
   "id": "ab7c4ff7",
   "metadata": {},
   "outputs": [
    {
     "data": {
      "text/plain": [
       "array([[0.1202032 , 0.8125827 , 0.42505661],\n",
       "       [0.48788793, 0.98247826, 0.41836702]])"
      ]
     },
     "execution_count": 108,
     "metadata": {},
     "output_type": "execute_result"
    }
   ],
   "source": [
    "np.random.random([2,3])"
   ]
  },
  {
   "cell_type": "code",
   "execution_count": 109,
   "id": "374f8373",
   "metadata": {},
   "outputs": [
    {
     "data": {
      "text/plain": [
       "array([[0.20354493, 0.16315956, 0.1635783 ],\n",
       "       [0.46309159, 0.13616301, 0.16050925],\n",
       "       [0.00902508, 0.3871076 , 0.67583312],\n",
       "       [0.61165278, 0.21895842, 0.66991094],\n",
       "       [0.62546553, 0.53562183, 0.78959125]])"
      ]
     },
     "execution_count": 109,
     "metadata": {},
     "output_type": "execute_result"
    }
   ],
   "source": [
    "n=np.random . random ([5,3])\n",
    "n\n",
    "# it's give any random number "
   ]
  },
  {
   "cell_type": "code",
   "execution_count": 110,
   "id": "318aea7d",
   "metadata": {},
   "outputs": [
    {
     "data": {
      "text/plain": [
       "array([[1., 1., 1.],\n",
       "       [1., 1., 1.],\n",
       "       [1., 1., 1.],\n",
       "       [1., 1., 1.],\n",
       "       [1., 1., 1.]])"
      ]
     },
     "execution_count": 110,
     "metadata": {},
     "output_type": "execute_result"
    }
   ],
   "source": [
    "k=np.ones([5,3])\n",
    "k"
   ]
  },
  {
   "cell_type": "code",
   "execution_count": 111,
   "id": "cc741dfd",
   "metadata": {},
   "outputs": [
    {
     "data": {
      "text/plain": [
       "array([[1.20354493, 1.16315956, 1.1635783 ],\n",
       "       [1.46309159, 1.13616301, 1.16050925],\n",
       "       [1.00902508, 1.3871076 , 1.67583312],\n",
       "       [1.61165278, 1.21895842, 1.66991094],\n",
       "       [1.62546553, 1.53562183, 1.78959125]])"
      ]
     },
     "execution_count": 111,
     "metadata": {},
     "output_type": "execute_result"
    }
   ],
   "source": [
    "n+k"
   ]
  },
  {
   "cell_type": "code",
   "execution_count": 112,
   "id": "a52de079",
   "metadata": {},
   "outputs": [
    {
     "data": {
      "text/plain": [
       "array([[0.20354493, 0.16315956, 0.1635783 ],\n",
       "       [0.46309159, 0.13616301, 0.16050925],\n",
       "       [0.00902508, 0.3871076 , 0.67583312],\n",
       "       [0.61165278, 0.21895842, 0.66991094],\n",
       "       [0.62546553, 0.53562183, 0.78959125]])"
      ]
     },
     "execution_count": 112,
     "metadata": {},
     "output_type": "execute_result"
    }
   ],
   "source": [
    "j=n*k\n",
    "j"
   ]
  },
  {
   "cell_type": "markdown",
   "id": "58acc92f",
   "metadata": {},
   "source": [
    "# UNIVERSAL FUNCTION\n",
    "Mathematics Function"
   ]
  },
  {
   "cell_type": "code",
   "execution_count": 113,
   "id": "19e00aaf",
   "metadata": {},
   "outputs": [
    {
     "data": {
      "text/plain": [
       "array([0, 1, 2])"
      ]
     },
     "execution_count": 113,
     "metadata": {},
     "output_type": "execute_result"
    }
   ],
   "source": [
    "b=np.arange(3)\n",
    "b"
   ]
  },
  {
   "cell_type": "code",
   "execution_count": 114,
   "id": "ee59d8ac",
   "metadata": {},
   "outputs": [
    {
     "data": {
      "text/plain": [
       "array([1.        , 2.71828183, 7.3890561 ])"
      ]
     },
     "execution_count": 114,
     "metadata": {},
     "output_type": "execute_result"
    }
   ],
   "source": [
    "np.exp(b)"
   ]
  },
  {
   "cell_type": "code",
   "execution_count": 115,
   "id": "677c7674",
   "metadata": {},
   "outputs": [
    {
     "data": {
      "text/plain": [
       "array([2, 3, 4, 5, 6, 7])"
      ]
     },
     "execution_count": 115,
     "metadata": {},
     "output_type": "execute_result"
    }
   ],
   "source": [
    "np.arange(2,8)"
   ]
  },
  {
   "cell_type": "code",
   "execution_count": 116,
   "id": "377bd46c",
   "metadata": {},
   "outputs": [
    {
     "data": {
      "text/plain": [
       "array([ 5, 10, 15, 20, 25, 30, 35, 40, 45])"
      ]
     },
     "execution_count": 116,
     "metadata": {},
     "output_type": "execute_result"
    }
   ],
   "source": [
    "l=np.arange(5,50,5)\n",
    "l"
   ]
  },
  {
   "cell_type": "code",
   "execution_count": 117,
   "id": "bae57428",
   "metadata": {},
   "outputs": [
    {
     "data": {
      "text/plain": [
       "array([2.23606798, 3.16227766, 3.87298335, 4.47213595, 5.        ,\n",
       "       5.47722558, 5.91607978, 6.32455532, 6.70820393])"
      ]
     },
     "execution_count": 117,
     "metadata": {},
     "output_type": "execute_result"
    }
   ],
   "source": [
    "np.sqrt(l)"
   ]
  },
  {
   "cell_type": "code",
   "execution_count": 118,
   "id": "ea056c10",
   "metadata": {},
   "outputs": [
    {
     "data": {
      "text/plain": [
       "array([  25,  100,  225,  400,  625,  900, 1225, 1600, 2025])"
      ]
     },
     "execution_count": 118,
     "metadata": {},
     "output_type": "execute_result"
    }
   ],
   "source": [
    "o=l**2\n",
    "o"
   ]
  },
  {
   "cell_type": "code",
   "execution_count": 119,
   "id": "fd901137",
   "metadata": {},
   "outputs": [
    {
     "data": {
      "text/plain": [
       "array([ 5., 10., 15., 20., 25., 30., 35., 40., 45.])"
      ]
     },
     "execution_count": 119,
     "metadata": {},
     "output_type": "execute_result"
    }
   ],
   "source": [
    "np.sqrt(o)"
   ]
  },
  {
   "cell_type": "code",
   "execution_count": 120,
   "id": "22a9ddad",
   "metadata": {},
   "outputs": [
    {
     "data": {
      "text/plain": [
       "array([2, 3, 4])"
      ]
     },
     "execution_count": 120,
     "metadata": {},
     "output_type": "execute_result"
    }
   ],
   "source": [
    "a"
   ]
  },
  {
   "cell_type": "code",
   "execution_count": 121,
   "id": "6e0b6cda",
   "metadata": {},
   "outputs": [
    {
     "data": {
      "text/plain": [
       "array([ 7, 12, 10])"
      ]
     },
     "execution_count": 121,
     "metadata": {},
     "output_type": "execute_result"
    }
   ],
   "source": [
    "c=np.array([5,9,6])\n",
    "np.add(a,c)"
   ]
  },
  {
   "cell_type": "code",
   "execution_count": 122,
   "id": "046917de",
   "metadata": {},
   "outputs": [
    {
     "data": {
      "text/plain": [
       "array([ 7, 12, 10])"
      ]
     },
     "execution_count": 122,
     "metadata": {},
     "output_type": "execute_result"
    }
   ],
   "source": [
    "np.add(a,c)"
   ]
  },
  {
   "cell_type": "markdown",
   "id": "7d9dc35a",
   "metadata": {},
   "source": [
    "INDEXING , SLICING, AND ITERATING"
   ]
  },
  {
   "cell_type": "code",
   "execution_count": 123,
   "id": "84966ea8",
   "metadata": {},
   "outputs": [
    {
     "data": {
      "text/plain": [
       "array([ 6,  7,  8,  9, 10, 11, 12, 13, 14, 15, 16, 17, 18, 19, 20, 21, 22,\n",
       "       23, 24, 25, 26, 27, 28, 29])"
      ]
     },
     "execution_count": 123,
     "metadata": {},
     "output_type": "execute_result"
    }
   ],
   "source": [
    "a=np.arange(6,30)\n",
    "a"
   ]
  },
  {
   "cell_type": "code",
   "execution_count": 124,
   "id": "c59143eb",
   "metadata": {},
   "outputs": [
    {
     "data": {
      "text/plain": [
       "8"
      ]
     },
     "execution_count": 124,
     "metadata": {},
     "output_type": "execute_result"
    }
   ],
   "source": [
    "a[2]"
   ]
  },
  {
   "cell_type": "code",
   "execution_count": 125,
   "id": "d5cc6908",
   "metadata": {},
   "outputs": [
    {
     "data": {
      "text/plain": [
       "25"
      ]
     },
     "execution_count": 125,
     "metadata": {},
     "output_type": "execute_result"
    }
   ],
   "source": [
    "a[-5]"
   ]
  },
  {
   "cell_type": "code",
   "execution_count": 126,
   "id": "9be7a32b",
   "metadata": {},
   "outputs": [
    {
     "data": {
      "text/plain": [
       "array([11, 12, 13, 14, 15, 16, 17, 18, 19, 20])"
      ]
     },
     "execution_count": 126,
     "metadata": {},
     "output_type": "execute_result"
    }
   ],
   "source": [
    "a[5:15]"
   ]
  },
  {
   "cell_type": "code",
   "execution_count": 127,
   "id": "757e60d8",
   "metadata": {},
   "outputs": [
    {
     "data": {
      "text/plain": [
       "array([15, 16, 17, 18, 19, 20, 21, 22, 23, 24])"
      ]
     },
     "execution_count": 127,
     "metadata": {},
     "output_type": "execute_result"
    }
   ],
   "source": [
    "a[-15:-5]"
   ]
  },
  {
   "cell_type": "code",
   "execution_count": 128,
   "id": "560289b6",
   "metadata": {},
   "outputs": [
    {
     "data": {
      "text/plain": [
       "array([], dtype=int32)"
      ]
     },
     "execution_count": 128,
     "metadata": {},
     "output_type": "execute_result"
    }
   ],
   "source": [
    "a[-5:-15] # it's not showing result"
   ]
  },
  {
   "cell_type": "code",
   "execution_count": 129,
   "id": "1d5a2760",
   "metadata": {},
   "outputs": [
    {
     "data": {
      "text/plain": [
       "array([26, 27, 28, 29])"
      ]
     },
     "execution_count": 129,
     "metadata": {},
     "output_type": "execute_result"
    }
   ],
   "source": [
    "a[-4:]"
   ]
  },
  {
   "cell_type": "markdown",
   "id": "c32c969f",
   "metadata": {},
   "source": [
    "NAN FUNCTION\n",
    "\n",
    "  * If you have any missing data then you used nan function"
   ]
  },
  {
   "cell_type": "code",
   "execution_count": 130,
   "id": "0fb52913",
   "metadata": {},
   "outputs": [
    {
     "data": {
      "text/plain": [
       "array([ 1., nan,  3.,  8.,  9.,  6.,  5., nan,  8.,  6.,  4.,  2., 12.,\n",
       "       34., 15.])"
      ]
     },
     "execution_count": 130,
     "metadata": {},
     "output_type": "execute_result"
    }
   ],
   "source": [
    "n=np.array([1,np.nan,3,8,9,6,5,np.nan,8,6,4,2,12,34,15])\n",
    "n"
   ]
  },
  {
   "cell_type": "markdown",
   "id": "258d9832",
   "metadata": {},
   "source": [
    "The random module provides nice functions to generate random numbers (and also statistical dististical distributions) of any given shape rand function will generate any number between 0 and 1."
   ]
  },
  {
   "cell_type": "code",
   "execution_count": null,
   "id": "1836c05c",
   "metadata": {},
   "outputs": [],
   "source": []
  },
  {
   "cell_type": "markdown",
   "id": "0554d692",
   "metadata": {},
   "source": [
    "RANDOM.RAND FUNCTION\n",
    "\n",
    "it's work like Random Function"
   ]
  },
  {
   "cell_type": "code",
   "execution_count": 131,
   "id": "9b095eab",
   "metadata": {},
   "outputs": [
    {
     "data": {
      "text/plain": [
       "array([[0.59378199, 0.21248223],\n",
       "       [0.81961373, 0.67885929]])"
      ]
     },
     "execution_count": 131,
     "metadata": {},
     "output_type": "execute_result"
    }
   ],
   "source": [
    "np.random.rand(2,2)"
   ]
  },
  {
   "cell_type": "markdown",
   "id": "08247e61",
   "metadata": {},
   "source": [
    "# RANDN\n",
    "\n",
    "it's give Negative (-ve) or positive (+ve) result (some negative or some positive result)"
   ]
  },
  {
   "cell_type": "code",
   "execution_count": 132,
   "id": "13f6ceac",
   "metadata": {},
   "outputs": [
    {
     "data": {
      "text/plain": [
       "array([[ 0.25732062, -0.00322546,  0.10360128],\n",
       "       [-0.31161966, -0.82719054,  1.31813679]])"
      ]
     },
     "execution_count": 132,
     "metadata": {},
     "output_type": "execute_result"
    }
   ],
   "source": [
    "np.random.randn(2,3)"
   ]
  },
  {
   "cell_type": "code",
   "execution_count": 133,
   "id": "4e89905e",
   "metadata": {},
   "outputs": [
    {
     "data": {
      "text/plain": [
       "array([[-1.26297378, -0.60089294,  0.70452062, -1.06531098,  0.41550792,\n",
       "         0.67747792,  0.41368206, -0.32085873, -0.22357526],\n",
       "       [-0.35856848,  1.04198704, -0.16181506,  0.63600993, -1.25565353,\n",
       "        -0.03584663, -1.48767435, -2.89064794,  1.53157609],\n",
       "       [ 0.39120012,  1.1869343 , -0.74652969, -0.02006841, -0.18014705,\n",
       "        -1.68157177,  1.41953034, -1.12343104, -0.48841405],\n",
       "       [ 0.427669  , -0.45361561, -0.22031997,  0.63438998,  0.14810225,\n",
       "        -0.85934128,  0.28560835, -0.72299816, -0.73365091],\n",
       "       [ 0.36077605,  0.29328577, -0.88659558,  0.63406992,  2.34628445,\n",
       "         0.97735434, -1.11893445, -0.95649615, -1.2321254 ],\n",
       "       [ 0.48787052, -0.10339694,  0.35640151,  0.71893425, -0.24095537,\n",
       "        -0.41448127,  0.63234177, -1.55057054,  1.39293198],\n",
       "       [-1.24169569,  1.28114687, -0.1252484 ,  1.20120704,  0.35283357,\n",
       "        -0.99697228,  1.20321811, -0.36201669, -0.0980256 ]])"
      ]
     },
     "execution_count": 133,
     "metadata": {},
     "output_type": "execute_result"
    }
   ],
   "source": [
    "np.random.randn(7,9)"
   ]
  },
  {
   "cell_type": "code",
   "execution_count": null,
   "id": "c178eb52",
   "metadata": {},
   "outputs": [],
   "source": []
  }
 ],
 "metadata": {
  "kernelspec": {
   "display_name": "Python 3 (ipykernel)",
   "language": "python",
   "name": "python3"
  },
  "language_info": {
   "codemirror_mode": {
    "name": "ipython",
    "version": 3
   },
   "file_extension": ".py",
   "mimetype": "text/x-python",
   "name": "python",
   "nbconvert_exporter": "python",
   "pygments_lexer": "ipython3",
   "version": "3.10.12"
  }
 },
 "nbformat": 4,
 "nbformat_minor": 5
}
